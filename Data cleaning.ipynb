{
 "cells": [
  {
   "cell_type": "code",
   "execution_count": 50,
   "metadata": {},
   "outputs": [],
   "source": [
    "import pandas as pd"
   ]
  },
  {
   "cell_type": "code",
   "execution_count": 51,
   "metadata": {},
   "outputs": [],
   "source": [
    " df = pd.read_csv('cars.csv')"
   ]
  },
  {
   "cell_type": "code",
   "execution_count": 52,
   "metadata": {},
   "outputs": [
    {
     "data": {
      "text/html": [
       "<div>\n",
       "<style scoped>\n",
       "    .dataframe tbody tr th:only-of-type {\n",
       "        vertical-align: middle;\n",
       "    }\n",
       "\n",
       "    .dataframe tbody tr th {\n",
       "        vertical-align: top;\n",
       "    }\n",
       "\n",
       "    .dataframe thead th {\n",
       "        text-align: right;\n",
       "    }\n",
       "</style>\n",
       "<table border=\"1\" class=\"dataframe\">\n",
       "  <thead>\n",
       "    <tr style=\"text-align: right;\">\n",
       "      <th></th>\n",
       "      <th>Unnamed: 0</th>\n",
       "      <th>Title</th>\n",
       "      <th>Mileage</th>\n",
       "      <th>Price</th>\n",
       "      <th>deal_status</th>\n",
       "      <th>Features</th>\n",
       "      <th>Rating</th>\n",
       "      <th>Rating-Count</th>\n",
       "    </tr>\n",
       "  </thead>\n",
       "  <tbody>\n",
       "    <tr>\n",
       "      <th>0</th>\n",
       "      <td>0</td>\n",
       "      <td>2013 Toyota FJ Cruiser Base</td>\n",
       "      <td>83,448 mi.</td>\n",
       "      <td>$29,115</td>\n",
       "      <td>Great Deal | $2,335 under</td>\n",
       "      <td>Nan</td>\n",
       "      <td>4.3</td>\n",
       "      <td>(959 reviews)</td>\n",
       "    </tr>\n",
       "    <tr>\n",
       "      <th>1</th>\n",
       "      <td>1</td>\n",
       "      <td>2013 Toyota FJ Cruiser Base</td>\n",
       "      <td>83,448 mi.</td>\n",
       "      <td>$29,115</td>\n",
       "      <td>Great Deal | $2,335 under</td>\n",
       "      <td>Nan</td>\n",
       "      <td>4.3</td>\n",
       "      <td>(959 reviews)</td>\n",
       "    </tr>\n",
       "    <tr>\n",
       "      <th>2</th>\n",
       "      <td>2</td>\n",
       "      <td>2022 Hyundai Santa Fe XRT</td>\n",
       "      <td>3,244 mi.</td>\n",
       "      <td>$34,941</td>\n",
       "      <td>Home Delivery</td>\n",
       "      <td>Nan</td>\n",
       "      <td>5.0</td>\n",
       "      <td>(3,368 reviews)</td>\n",
       "    </tr>\n",
       "    <tr>\n",
       "      <th>3</th>\n",
       "      <td>3</td>\n",
       "      <td>2022 Mercedes-Benz GLC 300 Base 4MATIC</td>\n",
       "      <td>0 mi.</td>\n",
       "      <td>$53,660</td>\n",
       "      <td>Home Delivery</td>\n",
       "      <td>Nan</td>\n",
       "      <td>4.6</td>\n",
       "      <td>(921 reviews)</td>\n",
       "    </tr>\n",
       "    <tr>\n",
       "      <th>4</th>\n",
       "      <td>4</td>\n",
       "      <td>2021 Mercedes-Benz GLC 300 Base 4MATIC</td>\n",
       "      <td>7,658 mi.</td>\n",
       "      <td>$47,969</td>\n",
       "      <td>Home Delivery</td>\n",
       "      <td>Nan</td>\n",
       "      <td>5.0</td>\n",
       "      <td>(1,516 reviews)</td>\n",
       "    </tr>\n",
       "  </tbody>\n",
       "</table>\n",
       "</div>"
      ],
      "text/plain": [
       "   Unnamed: 0                                   Title      Mileage    Price  \\\n",
       "0           0             2013 Toyota FJ Cruiser Base   83,448 mi.  $29,115   \n",
       "1           1             2013 Toyota FJ Cruiser Base   83,448 mi.  $29,115   \n",
       "2           2               2022 Hyundai Santa Fe XRT    3,244 mi.  $34,941   \n",
       "3           3  2022 Mercedes-Benz GLC 300 Base 4MATIC        0 mi.  $53,660   \n",
       "4           4  2021 Mercedes-Benz GLC 300 Base 4MATIC    7,658 mi.  $47,969   \n",
       "\n",
       "                 deal_status Features Rating     Rating-Count  \n",
       "0  Great Deal | $2,335 under      Nan    4.3    (959 reviews)  \n",
       "1  Great Deal | $2,335 under      Nan    4.3    (959 reviews)  \n",
       "2              Home Delivery      Nan    5.0  (3,368 reviews)  \n",
       "3              Home Delivery      Nan    4.6    (921 reviews)  \n",
       "4              Home Delivery      Nan    5.0  (1,516 reviews)  "
      ]
     },
     "execution_count": 52,
     "metadata": {},
     "output_type": "execute_result"
    }
   ],
   "source": [
    "df.head()"
   ]
  },
  {
   "cell_type": "code",
   "execution_count": 53,
   "metadata": {},
   "outputs": [
    {
     "data": {
      "text/html": [
       "<div>\n",
       "<style scoped>\n",
       "    .dataframe tbody tr th:only-of-type {\n",
       "        vertical-align: middle;\n",
       "    }\n",
       "\n",
       "    .dataframe tbody tr th {\n",
       "        vertical-align: top;\n",
       "    }\n",
       "\n",
       "    .dataframe thead th {\n",
       "        text-align: right;\n",
       "    }\n",
       "</style>\n",
       "<table border=\"1\" class=\"dataframe\">\n",
       "  <thead>\n",
       "    <tr style=\"text-align: right;\">\n",
       "      <th></th>\n",
       "      <th>Unnamed: 0</th>\n",
       "      <th>Title</th>\n",
       "      <th>Mileage</th>\n",
       "      <th>Price</th>\n",
       "      <th>deal_status</th>\n",
       "      <th>Features</th>\n",
       "      <th>Rating</th>\n",
       "      <th>Rating-Count</th>\n",
       "    </tr>\n",
       "  </thead>\n",
       "  <tbody>\n",
       "    <tr>\n",
       "      <th>6880</th>\n",
       "      <td>6880</td>\n",
       "      <td>2022 Porsche Taycan Cross Turismo Turbo S</td>\n",
       "      <td>1,866 mi.</td>\n",
       "      <td>$229,000</td>\n",
       "      <td>Fair Deal</td>\n",
       "      <td>headlight control - auto highbeam, keyless ent...</td>\n",
       "      <td>4.4</td>\n",
       "      <td>(48 reviews)</td>\n",
       "    </tr>\n",
       "    <tr>\n",
       "      <th>6881</th>\n",
       "      <td>6881</td>\n",
       "      <td>2019 Cadillac XT4 Premium Luxury</td>\n",
       "      <td>32,678 mi.</td>\n",
       "      <td>$35,500</td>\n",
       "      <td>Good Deal | $483 under</td>\n",
       "      <td>keyless entry, headlight control - auto highbe...</td>\n",
       "      <td>4.1</td>\n",
       "      <td>(156 reviews)</td>\n",
       "    </tr>\n",
       "    <tr>\n",
       "      <th>6882</th>\n",
       "      <td>6882</td>\n",
       "      <td>2014 Mercedes-Benz GL-Class GL 63 AMG</td>\n",
       "      <td>92,191 mi.</td>\n",
       "      <td>$34,299</td>\n",
       "      <td>Great Deal | $7,391 under</td>\n",
       "      <td>keyless entry, Automatic Emergency Braking, dr...</td>\n",
       "      <td>3.5</td>\n",
       "      <td>(309 reviews)</td>\n",
       "    </tr>\n",
       "    <tr>\n",
       "      <th>6883</th>\n",
       "      <td>6883</td>\n",
       "      <td>2018 Lexus RX 350L Premium</td>\n",
       "      <td>27,140 mi.</td>\n",
       "      <td>$37,995</td>\n",
       "      <td>Great Deal | $4,534 under</td>\n",
       "      <td>Tow Hitch, Premium Sound System</td>\n",
       "      <td>5.0</td>\n",
       "      <td>(2,583 reviews)</td>\n",
       "    </tr>\n",
       "    <tr>\n",
       "      <th>6884</th>\n",
       "      <td>6884</td>\n",
       "      <td>2022 INFINITI Q50 SENSORY</td>\n",
       "      <td>7,835 mi.</td>\n",
       "      <td>$43,908</td>\n",
       "      <td>Good Deal</td>\n",
       "      <td>Keyless Start, keyless entry, headlight contro...</td>\n",
       "      <td>4.5</td>\n",
       "      <td>(222 reviews)</td>\n",
       "    </tr>\n",
       "  </tbody>\n",
       "</table>\n",
       "</div>"
      ],
      "text/plain": [
       "      Unnamed: 0                                      Title      Mileage  \\\n",
       "6880        6880  2022 Porsche Taycan Cross Turismo Turbo S    1,866 mi.   \n",
       "6881        6881           2019 Cadillac XT4 Premium Luxury   32,678 mi.   \n",
       "6882        6882      2014 Mercedes-Benz GL-Class GL 63 AMG   92,191 mi.   \n",
       "6883        6883                 2018 Lexus RX 350L Premium   27,140 mi.   \n",
       "6884        6884                  2022 INFINITI Q50 SENSORY    7,835 mi.   \n",
       "\n",
       "         Price                deal_status  \\\n",
       "6880  $229,000                  Fair Deal   \n",
       "6881   $35,500     Good Deal | $483 under   \n",
       "6882   $34,299  Great Deal | $7,391 under   \n",
       "6883   $37,995  Great Deal | $4,534 under   \n",
       "6884   $43,908                  Good Deal   \n",
       "\n",
       "                                               Features Rating  \\\n",
       "6880  headlight control - auto highbeam, keyless ent...    4.4   \n",
       "6881  keyless entry, headlight control - auto highbe...    4.1   \n",
       "6882  keyless entry, Automatic Emergency Braking, dr...    3.5   \n",
       "6883                    Tow Hitch, Premium Sound System    5.0   \n",
       "6884  Keyless Start, keyless entry, headlight contro...    4.5   \n",
       "\n",
       "         Rating-Count  \n",
       "6880     (48 reviews)  \n",
       "6881    (156 reviews)  \n",
       "6882    (309 reviews)  \n",
       "6883  (2,583 reviews)  \n",
       "6884    (222 reviews)  "
      ]
     },
     "execution_count": 53,
     "metadata": {},
     "output_type": "execute_result"
    }
   ],
   "source": [
    "df.tail()"
   ]
  },
  {
   "cell_type": "code",
   "execution_count": 54,
   "metadata": {},
   "outputs": [
    {
     "data": {
      "text/plain": [
       "(6885, 8)"
      ]
     },
     "execution_count": 54,
     "metadata": {},
     "output_type": "execute_result"
    }
   ],
   "source": [
    "df.shape"
   ]
  },
  {
   "cell_type": "code",
   "execution_count": 55,
   "metadata": {},
   "outputs": [
    {
     "data": {
      "text/plain": [
       "Index(['Unnamed: 0', 'Title', 'Mileage', 'Price', 'deal_status', 'Features',\n",
       "       'Rating', 'Rating-Count'],\n",
       "      dtype='object')"
      ]
     },
     "execution_count": 55,
     "metadata": {},
     "output_type": "execute_result"
    }
   ],
   "source": [
    "df.columns"
   ]
  },
  {
   "cell_type": "code",
   "execution_count": null,
   "metadata": {},
   "outputs": [],
   "source": []
  },
  {
   "cell_type": "code",
   "execution_count": null,
   "metadata": {},
   "outputs": [],
   "source": []
  },
  {
   "cell_type": "code",
   "execution_count": 56,
   "metadata": {},
   "outputs": [
    {
     "data": {
      "text/plain": [
       "0         (959 reviews)\n",
       "1         (959 reviews)\n",
       "2       (3,368 reviews)\n",
       "3         (921 reviews)\n",
       "4       (1,516 reviews)\n",
       "             ...       \n",
       "6880       (48 reviews)\n",
       "6881      (156 reviews)\n",
       "6882      (309 reviews)\n",
       "6883    (2,583 reviews)\n",
       "6884      (222 reviews)\n",
       "Name: Rating-Count, Length: 6885, dtype: string"
      ]
     },
     "execution_count": 56,
     "metadata": {},
     "output_type": "execute_result"
    }
   ],
   "source": [
    "df['Rating-Count'].astype('string')"
   ]
  },
  {
   "cell_type": "code",
   "execution_count": 57,
   "metadata": {},
   "outputs": [],
   "source": [
    "df['Rating_Count'] =  df['Rating-Count'].apply(lambda x : x.strip('(').strip(')'))"
   ]
  },
  {
   "cell_type": "code",
   "execution_count": 58,
   "metadata": {},
   "outputs": [],
   "source": [
    "df['Rating_Count'] =  df['Rating-Count'].apply(lambda x : x.strip('reviews'))"
   ]
  },
  {
   "cell_type": "code",
   "execution_count": 59,
   "metadata": {},
   "outputs": [
    {
     "data": {
      "text/html": [
       "<div>\n",
       "<style scoped>\n",
       "    .dataframe tbody tr th:only-of-type {\n",
       "        vertical-align: middle;\n",
       "    }\n",
       "\n",
       "    .dataframe tbody tr th {\n",
       "        vertical-align: top;\n",
       "    }\n",
       "\n",
       "    .dataframe thead th {\n",
       "        text-align: right;\n",
       "    }\n",
       "</style>\n",
       "<table border=\"1\" class=\"dataframe\">\n",
       "  <thead>\n",
       "    <tr style=\"text-align: right;\">\n",
       "      <th></th>\n",
       "      <th>Unnamed: 0</th>\n",
       "      <th>Title</th>\n",
       "      <th>Mileage</th>\n",
       "      <th>Price</th>\n",
       "      <th>deal_status</th>\n",
       "      <th>Features</th>\n",
       "      <th>Rating</th>\n",
       "      <th>Rating-Count</th>\n",
       "      <th>Rating_Count</th>\n",
       "    </tr>\n",
       "  </thead>\n",
       "  <tbody>\n",
       "    <tr>\n",
       "      <th>0</th>\n",
       "      <td>0</td>\n",
       "      <td>2013 Toyota FJ Cruiser Base</td>\n",
       "      <td>83,448 mi.</td>\n",
       "      <td>$29,115</td>\n",
       "      <td>Great Deal | $2,335 under</td>\n",
       "      <td>Nan</td>\n",
       "      <td>4.3</td>\n",
       "      <td>(959 reviews)</td>\n",
       "      <td>(959 reviews)</td>\n",
       "    </tr>\n",
       "    <tr>\n",
       "      <th>1</th>\n",
       "      <td>1</td>\n",
       "      <td>2013 Toyota FJ Cruiser Base</td>\n",
       "      <td>83,448 mi.</td>\n",
       "      <td>$29,115</td>\n",
       "      <td>Great Deal | $2,335 under</td>\n",
       "      <td>Nan</td>\n",
       "      <td>4.3</td>\n",
       "      <td>(959 reviews)</td>\n",
       "      <td>(959 reviews)</td>\n",
       "    </tr>\n",
       "    <tr>\n",
       "      <th>2</th>\n",
       "      <td>2</td>\n",
       "      <td>2022 Hyundai Santa Fe XRT</td>\n",
       "      <td>3,244 mi.</td>\n",
       "      <td>$34,941</td>\n",
       "      <td>Home Delivery</td>\n",
       "      <td>Nan</td>\n",
       "      <td>5.0</td>\n",
       "      <td>(3,368 reviews)</td>\n",
       "      <td>(3,368 reviews)</td>\n",
       "    </tr>\n",
       "    <tr>\n",
       "      <th>3</th>\n",
       "      <td>3</td>\n",
       "      <td>2022 Mercedes-Benz GLC 300 Base 4MATIC</td>\n",
       "      <td>0 mi.</td>\n",
       "      <td>$53,660</td>\n",
       "      <td>Home Delivery</td>\n",
       "      <td>Nan</td>\n",
       "      <td>4.6</td>\n",
       "      <td>(921 reviews)</td>\n",
       "      <td>(921 reviews)</td>\n",
       "    </tr>\n",
       "    <tr>\n",
       "      <th>4</th>\n",
       "      <td>4</td>\n",
       "      <td>2021 Mercedes-Benz GLC 300 Base 4MATIC</td>\n",
       "      <td>7,658 mi.</td>\n",
       "      <td>$47,969</td>\n",
       "      <td>Home Delivery</td>\n",
       "      <td>Nan</td>\n",
       "      <td>5.0</td>\n",
       "      <td>(1,516 reviews)</td>\n",
       "      <td>(1,516 reviews)</td>\n",
       "    </tr>\n",
       "  </tbody>\n",
       "</table>\n",
       "</div>"
      ],
      "text/plain": [
       "   Unnamed: 0                                   Title      Mileage    Price  \\\n",
       "0           0             2013 Toyota FJ Cruiser Base   83,448 mi.  $29,115   \n",
       "1           1             2013 Toyota FJ Cruiser Base   83,448 mi.  $29,115   \n",
       "2           2               2022 Hyundai Santa Fe XRT    3,244 mi.  $34,941   \n",
       "3           3  2022 Mercedes-Benz GLC 300 Base 4MATIC        0 mi.  $53,660   \n",
       "4           4  2021 Mercedes-Benz GLC 300 Base 4MATIC    7,658 mi.  $47,969   \n",
       "\n",
       "                 deal_status Features Rating     Rating-Count     Rating_Count  \n",
       "0  Great Deal | $2,335 under      Nan    4.3    (959 reviews)    (959 reviews)  \n",
       "1  Great Deal | $2,335 under      Nan    4.3    (959 reviews)    (959 reviews)  \n",
       "2              Home Delivery      Nan    5.0  (3,368 reviews)  (3,368 reviews)  \n",
       "3              Home Delivery      Nan    4.6    (921 reviews)    (921 reviews)  \n",
       "4              Home Delivery      Nan    5.0  (1,516 reviews)  (1,516 reviews)  "
      ]
     },
     "execution_count": 59,
     "metadata": {},
     "output_type": "execute_result"
    }
   ],
   "source": [
    "df.head()"
   ]
  },
  {
   "cell_type": "code",
   "execution_count": 60,
   "metadata": {},
   "outputs": [
    {
     "name": "stdout",
     "output_type": "stream",
     "text": [
      "<class 'pandas.core.frame.DataFrame'>\n",
      "RangeIndex: 6885 entries, 0 to 6884\n",
      "Data columns (total 9 columns):\n",
      " #   Column        Non-Null Count  Dtype \n",
      "---  ------        --------------  ----- \n",
      " 0   Unnamed: 0    6885 non-null   int64 \n",
      " 1   Title         6885 non-null   object\n",
      " 2   Mileage       6885 non-null   object\n",
      " 3   Price         6885 non-null   object\n",
      " 4   deal_status   6797 non-null   object\n",
      " 5   Features      6885 non-null   object\n",
      " 6   Rating        6885 non-null   object\n",
      " 7   Rating-Count  6885 non-null   object\n",
      " 8   Rating_Count  6885 non-null   object\n",
      "dtypes: int64(1), object(8)\n",
      "memory usage: 484.2+ KB\n"
     ]
    }
   ],
   "source": [
    "df.info()"
   ]
  },
  {
   "cell_type": "code",
   "execution_count": 61,
   "metadata": {},
   "outputs": [
    {
     "data": {
      "text/plain": [
       "Unnamed: 0      2511\n",
       "Title           2511\n",
       "Mileage         2511\n",
       "Price           2511\n",
       "deal_status     2487\n",
       "Features        2511\n",
       "Rating          2511\n",
       "Rating-Count    2511\n",
       "Rating_Count    2511\n",
       "dtype: int64"
      ]
     },
     "execution_count": 61,
     "metadata": {},
     "output_type": "execute_result"
    }
   ],
   "source": [
    "df[df['Features'] == 'Nan'].count()"
   ]
  },
  {
   "cell_type": "code",
   "execution_count": 62,
   "metadata": {},
   "outputs": [],
   "source": [
    "df['Rating_Count'] =  df['Rating-Count'].apply(lambda x : x.strip('(').strip(')'))"
   ]
  },
  {
   "cell_type": "code",
   "execution_count": 63,
   "metadata": {},
   "outputs": [],
   "source": [
    "df['Rating_Count'] =  df['Rating_Count'].apply(lambda x : x.strip('reviews'))"
   ]
  },
  {
   "cell_type": "code",
   "execution_count": 64,
   "metadata": {},
   "outputs": [],
   "source": [
    "df['Mileage'] = df['Mileage'].apply(lambda x : x.strip('mi.'))"
   ]
  },
  {
   "cell_type": "code",
   "execution_count": 65,
   "metadata": {},
   "outputs": [],
   "source": [
    "df['Mileage'] = df['Mileage'].apply(lambda x : x.strip(','))"
   ]
  },
  {
   "cell_type": "code",
   "execution_count": null,
   "metadata": {},
   "outputs": [],
   "source": []
  },
  {
   "cell_type": "code",
   "execution_count": 76,
   "metadata": {},
   "outputs": [],
   "source": [
    "df['Title'] = df['Title'].astype('string')"
   ]
  },
  {
   "cell_type": "code",
   "execution_count": 77,
   "metadata": {},
   "outputs": [
    {
     "name": "stdout",
     "output_type": "stream",
     "text": [
      "<class 'pandas.core.frame.DataFrame'>\n",
      "RangeIndex: 6885 entries, 0 to 6884\n",
      "Data columns (total 9 columns):\n",
      " #   Column        Non-Null Count  Dtype \n",
      "---  ------        --------------  ----- \n",
      " 0   Unnamed: 0    6885 non-null   int64 \n",
      " 1   Title         6885 non-null   string\n",
      " 2   Mileage       6885 non-null   object\n",
      " 3   Price         6885 non-null   object\n",
      " 4   deal_status   6797 non-null   object\n",
      " 5   Features      6885 non-null   object\n",
      " 6   Rating        6885 non-null   object\n",
      " 7   Rating-Count  6885 non-null   object\n",
      " 8   Rating_Count  6885 non-null   object\n",
      "dtypes: int64(1), object(7), string(1)\n",
      "memory usage: 484.2+ KB\n"
     ]
    }
   ],
   "source": [
    "df.info()"
   ]
  },
  {
   "cell_type": "code",
   "execution_count": null,
   "metadata": {},
   "outputs": [],
   "source": []
  },
  {
   "cell_type": "code",
   "execution_count": 78,
   "metadata": {},
   "outputs": [
    {
     "ename": "TypeError",
     "evalue": "descriptor 'strip' for 'str' objects doesn't apply to a 'NAType' object",
     "output_type": "error",
     "traceback": [
      "\u001b[0;31m---------------------------------------------------------------------------\u001b[0m",
      "\u001b[0;31mTypeError\u001b[0m                                 Traceback (most recent call last)",
      "Cell \u001b[0;32mIn [78], line 1\u001b[0m\n\u001b[0;32m----> 1\u001b[0m df[\u001b[38;5;124m'\u001b[39m\u001b[38;5;124mYear\u001b[39m\u001b[38;5;124m'\u001b[39m] \u001b[38;5;241m=\u001b[39m (\u001b[43mdf\u001b[49m\u001b[43m[\u001b[49m\u001b[38;5;124;43m'\u001b[39;49m\u001b[38;5;124;43mTitle\u001b[39;49m\u001b[38;5;124;43m'\u001b[39;49m\u001b[43m]\u001b[49m\u001b[38;5;241;43m.\u001b[39;49m\u001b[43mstr\u001b[49m\u001b[38;5;241;43m.\u001b[39;49m\u001b[43mextract\u001b[49m\u001b[43m(\u001b[49m\u001b[38;5;124;43mr\u001b[39;49m\u001b[38;5;124;43m'\u001b[39;49m\u001b[38;5;124;43m(?P<Year>\u001b[39;49m\u001b[38;5;124;43m\\\u001b[39;49m\u001b[38;5;124;43md+(?:\u001b[39;49m\u001b[38;5;124;43m\\\u001b[39;49m\u001b[38;5;124;43m.\u001b[39;49m\u001b[38;5;124;43m\\\u001b[39;49m\u001b[38;5;124;43md+)?)\u001b[39;49m\u001b[38;5;124;43m'\u001b[39;49m\u001b[43m)\u001b[49m\n\u001b[1;32m      2\u001b[0m \u001b[43m                 \u001b[49m\u001b[38;5;241;43m.\u001b[39;49m\u001b[43mapplymap\u001b[49m\u001b[43m(\u001b[49m\u001b[38;5;28;43mstr\u001b[39;49m\u001b[38;5;241;43m.\u001b[39;49m\u001b[43mstrip\u001b[49m\u001b[43m)\u001b[49m)\n",
      "File \u001b[0;32m~/opt/anaconda3/envs/learn-env/lib/python3.8/site-packages/pandas/core/frame.py:9640\u001b[0m, in \u001b[0;36mDataFrame.applymap\u001b[0;34m(self, func, na_action, **kwargs)\u001b[0m\n\u001b[1;32m   9637\u001b[0m         \u001b[38;5;28;01mreturn\u001b[39;00m lib\u001b[38;5;241m.\u001b[39mmap_infer(x, func, ignore_na\u001b[38;5;241m=\u001b[39mignore_na)\n\u001b[1;32m   9638\u001b[0m     \u001b[38;5;28;01mreturn\u001b[39;00m lib\u001b[38;5;241m.\u001b[39mmap_infer(x\u001b[38;5;241m.\u001b[39mastype(\u001b[38;5;28mobject\u001b[39m)\u001b[38;5;241m.\u001b[39m_values, func, ignore_na\u001b[38;5;241m=\u001b[39mignore_na)\n\u001b[0;32m-> 9640\u001b[0m \u001b[38;5;28;01mreturn\u001b[39;00m \u001b[38;5;28;43mself\u001b[39;49m\u001b[38;5;241;43m.\u001b[39;49m\u001b[43mapply\u001b[49m\u001b[43m(\u001b[49m\u001b[43minfer\u001b[49m\u001b[43m)\u001b[49m\u001b[38;5;241m.\u001b[39m__finalize__(\u001b[38;5;28mself\u001b[39m, \u001b[38;5;124m\"\u001b[39m\u001b[38;5;124mapplymap\u001b[39m\u001b[38;5;124m\"\u001b[39m)\n",
      "File \u001b[0;32m~/opt/anaconda3/envs/learn-env/lib/python3.8/site-packages/pandas/core/frame.py:9555\u001b[0m, in \u001b[0;36mDataFrame.apply\u001b[0;34m(self, func, axis, raw, result_type, args, **kwargs)\u001b[0m\n\u001b[1;32m   9544\u001b[0m \u001b[38;5;28;01mfrom\u001b[39;00m \u001b[38;5;21;01mpandas\u001b[39;00m\u001b[38;5;21;01m.\u001b[39;00m\u001b[38;5;21;01mcore\u001b[39;00m\u001b[38;5;21;01m.\u001b[39;00m\u001b[38;5;21;01mapply\u001b[39;00m \u001b[38;5;28;01mimport\u001b[39;00m frame_apply\n\u001b[1;32m   9546\u001b[0m op \u001b[38;5;241m=\u001b[39m frame_apply(\n\u001b[1;32m   9547\u001b[0m     \u001b[38;5;28mself\u001b[39m,\n\u001b[1;32m   9548\u001b[0m     func\u001b[38;5;241m=\u001b[39mfunc,\n\u001b[0;32m   (...)\u001b[0m\n\u001b[1;32m   9553\u001b[0m     kwargs\u001b[38;5;241m=\u001b[39mkwargs,\n\u001b[1;32m   9554\u001b[0m )\n\u001b[0;32m-> 9555\u001b[0m \u001b[38;5;28;01mreturn\u001b[39;00m \u001b[43mop\u001b[49m\u001b[38;5;241;43m.\u001b[39;49m\u001b[43mapply\u001b[49m\u001b[43m(\u001b[49m\u001b[43m)\u001b[49m\u001b[38;5;241m.\u001b[39m__finalize__(\u001b[38;5;28mself\u001b[39m, method\u001b[38;5;241m=\u001b[39m\u001b[38;5;124m\"\u001b[39m\u001b[38;5;124mapply\u001b[39m\u001b[38;5;124m\"\u001b[39m)\n",
      "File \u001b[0;32m~/opt/anaconda3/envs/learn-env/lib/python3.8/site-packages/pandas/core/apply.py:746\u001b[0m, in \u001b[0;36mFrameApply.apply\u001b[0;34m(self)\u001b[0m\n\u001b[1;32m    743\u001b[0m \u001b[38;5;28;01melif\u001b[39;00m \u001b[38;5;28mself\u001b[39m\u001b[38;5;241m.\u001b[39mraw:\n\u001b[1;32m    744\u001b[0m     \u001b[38;5;28;01mreturn\u001b[39;00m \u001b[38;5;28mself\u001b[39m\u001b[38;5;241m.\u001b[39mapply_raw()\n\u001b[0;32m--> 746\u001b[0m \u001b[38;5;28;01mreturn\u001b[39;00m \u001b[38;5;28;43mself\u001b[39;49m\u001b[38;5;241;43m.\u001b[39;49m\u001b[43mapply_standard\u001b[49m\u001b[43m(\u001b[49m\u001b[43m)\u001b[49m\n",
      "File \u001b[0;32m~/opt/anaconda3/envs/learn-env/lib/python3.8/site-packages/pandas/core/apply.py:873\u001b[0m, in \u001b[0;36mFrameApply.apply_standard\u001b[0;34m(self)\u001b[0m\n\u001b[1;32m    872\u001b[0m \u001b[38;5;28;01mdef\u001b[39;00m \u001b[38;5;21mapply_standard\u001b[39m(\u001b[38;5;28mself\u001b[39m):\n\u001b[0;32m--> 873\u001b[0m     results, res_index \u001b[38;5;241m=\u001b[39m \u001b[38;5;28;43mself\u001b[39;49m\u001b[38;5;241;43m.\u001b[39;49m\u001b[43mapply_series_generator\u001b[49m\u001b[43m(\u001b[49m\u001b[43m)\u001b[49m\n\u001b[1;32m    875\u001b[0m     \u001b[38;5;66;03m# wrap results\u001b[39;00m\n\u001b[1;32m    876\u001b[0m     \u001b[38;5;28;01mreturn\u001b[39;00m \u001b[38;5;28mself\u001b[39m\u001b[38;5;241m.\u001b[39mwrap_results(results, res_index)\n",
      "File \u001b[0;32m~/opt/anaconda3/envs/learn-env/lib/python3.8/site-packages/pandas/core/apply.py:889\u001b[0m, in \u001b[0;36mFrameApply.apply_series_generator\u001b[0;34m(self)\u001b[0m\n\u001b[1;32m    886\u001b[0m \u001b[38;5;28;01mwith\u001b[39;00m option_context(\u001b[38;5;124m\"\u001b[39m\u001b[38;5;124mmode.chained_assignment\u001b[39m\u001b[38;5;124m\"\u001b[39m, \u001b[38;5;28;01mNone\u001b[39;00m):\n\u001b[1;32m    887\u001b[0m     \u001b[38;5;28;01mfor\u001b[39;00m i, v \u001b[38;5;129;01min\u001b[39;00m \u001b[38;5;28menumerate\u001b[39m(series_gen):\n\u001b[1;32m    888\u001b[0m         \u001b[38;5;66;03m# ignore SettingWithCopy here in case the user mutates\u001b[39;00m\n\u001b[0;32m--> 889\u001b[0m         results[i] \u001b[38;5;241m=\u001b[39m \u001b[38;5;28;43mself\u001b[39;49m\u001b[38;5;241;43m.\u001b[39;49m\u001b[43mf\u001b[49m\u001b[43m(\u001b[49m\u001b[43mv\u001b[49m\u001b[43m)\u001b[49m\n\u001b[1;32m    890\u001b[0m         \u001b[38;5;28;01mif\u001b[39;00m \u001b[38;5;28misinstance\u001b[39m(results[i], ABCSeries):\n\u001b[1;32m    891\u001b[0m             \u001b[38;5;66;03m# If we have a view on v, we need to make a copy because\u001b[39;00m\n\u001b[1;32m    892\u001b[0m             \u001b[38;5;66;03m#  series_generator will swap out the underlying data\u001b[39;00m\n\u001b[1;32m    893\u001b[0m             results[i] \u001b[38;5;241m=\u001b[39m results[i]\u001b[38;5;241m.\u001b[39mcopy(deep\u001b[38;5;241m=\u001b[39m\u001b[38;5;28;01mFalse\u001b[39;00m)\n",
      "File \u001b[0;32m~/opt/anaconda3/envs/learn-env/lib/python3.8/site-packages/pandas/core/frame.py:9638\u001b[0m, in \u001b[0;36mDataFrame.applymap.<locals>.infer\u001b[0;34m(x)\u001b[0m\n\u001b[1;32m   9636\u001b[0m \u001b[38;5;28;01mif\u001b[39;00m x\u001b[38;5;241m.\u001b[39mempty:\n\u001b[1;32m   9637\u001b[0m     \u001b[38;5;28;01mreturn\u001b[39;00m lib\u001b[38;5;241m.\u001b[39mmap_infer(x, func, ignore_na\u001b[38;5;241m=\u001b[39mignore_na)\n\u001b[0;32m-> 9638\u001b[0m \u001b[38;5;28;01mreturn\u001b[39;00m \u001b[43mlib\u001b[49m\u001b[38;5;241;43m.\u001b[39;49m\u001b[43mmap_infer\u001b[49m\u001b[43m(\u001b[49m\u001b[43mx\u001b[49m\u001b[38;5;241;43m.\u001b[39;49m\u001b[43mastype\u001b[49m\u001b[43m(\u001b[49m\u001b[38;5;28;43mobject\u001b[39;49m\u001b[43m)\u001b[49m\u001b[38;5;241;43m.\u001b[39;49m\u001b[43m_values\u001b[49m\u001b[43m,\u001b[49m\u001b[43m \u001b[49m\u001b[43mfunc\u001b[49m\u001b[43m,\u001b[49m\u001b[43m \u001b[49m\u001b[43mignore_na\u001b[49m\u001b[38;5;241;43m=\u001b[39;49m\u001b[43mignore_na\u001b[49m\u001b[43m)\u001b[49m\n",
      "File \u001b[0;32m~/opt/anaconda3/envs/learn-env/lib/python3.8/site-packages/pandas/_libs/lib.pyx:2918\u001b[0m, in \u001b[0;36mpandas._libs.lib.map_infer\u001b[0;34m()\u001b[0m\n",
      "\u001b[0;31mTypeError\u001b[0m: descriptor 'strip' for 'str' objects doesn't apply to a 'NAType' object"
     ]
    }
   ],
   "source": [
    "df['Year'] = (df['Title'].str.extract(r'(?P<Year>\\d+(?:\\.\\d+)?)')\n",
    "                 .applymap(str.strip))"
   ]
  },
  {
   "cell_type": "code",
   "execution_count": null,
   "metadata": {},
   "outputs": [],
   "source": []
  },
  {
   "cell_type": "code",
   "execution_count": 33,
   "metadata": {},
   "outputs": [
    {
     "data": {
      "text/html": [
       "<div>\n",
       "<style scoped>\n",
       "    .dataframe tbody tr th:only-of-type {\n",
       "        vertical-align: middle;\n",
       "    }\n",
       "\n",
       "    .dataframe tbody tr th {\n",
       "        vertical-align: top;\n",
       "    }\n",
       "\n",
       "    .dataframe thead th {\n",
       "        text-align: right;\n",
       "    }\n",
       "</style>\n",
       "<table border=\"1\" class=\"dataframe\">\n",
       "  <thead>\n",
       "    <tr style=\"text-align: right;\">\n",
       "      <th></th>\n",
       "      <th>Unnamed: 0</th>\n",
       "      <th>Title</th>\n",
       "      <th>Mileage</th>\n",
       "      <th>Price</th>\n",
       "      <th>deal_status</th>\n",
       "      <th>Features</th>\n",
       "      <th>Rating</th>\n",
       "      <th>Rating-Count</th>\n",
       "      <th>Rating_Count</th>\n",
       "    </tr>\n",
       "  </thead>\n",
       "  <tbody>\n",
       "    <tr>\n",
       "      <th>0</th>\n",
       "      <td>0</td>\n",
       "      <td>2013 Toyota FJ Cruiser Base</td>\n",
       "      <td>83,448</td>\n",
       "      <td>$29,115</td>\n",
       "      <td>Great Deal | $2,335 under</td>\n",
       "      <td>Nan</td>\n",
       "      <td>4.3</td>\n",
       "      <td>(959 reviews)</td>\n",
       "      <td>959</td>\n",
       "    </tr>\n",
       "    <tr>\n",
       "      <th>1</th>\n",
       "      <td>1</td>\n",
       "      <td>2013 Toyota FJ Cruiser Base</td>\n",
       "      <td>83,448</td>\n",
       "      <td>$29,115</td>\n",
       "      <td>Great Deal | $2,335 under</td>\n",
       "      <td>Nan</td>\n",
       "      <td>4.3</td>\n",
       "      <td>(959 reviews)</td>\n",
       "      <td>959</td>\n",
       "    </tr>\n",
       "    <tr>\n",
       "      <th>2</th>\n",
       "      <td>2</td>\n",
       "      <td>2022 Hyundai Santa Fe XRT</td>\n",
       "      <td>3,244</td>\n",
       "      <td>$34,941</td>\n",
       "      <td>Home Delivery</td>\n",
       "      <td>Nan</td>\n",
       "      <td>5.0</td>\n",
       "      <td>(3,368 reviews)</td>\n",
       "      <td>3,368</td>\n",
       "    </tr>\n",
       "    <tr>\n",
       "      <th>3</th>\n",
       "      <td>3</td>\n",
       "      <td>2022 Mercedes-Benz GLC 300 Base 4MATIC</td>\n",
       "      <td>0</td>\n",
       "      <td>$53,660</td>\n",
       "      <td>Home Delivery</td>\n",
       "      <td>Nan</td>\n",
       "      <td>4.6</td>\n",
       "      <td>(921 reviews)</td>\n",
       "      <td>921</td>\n",
       "    </tr>\n",
       "    <tr>\n",
       "      <th>4</th>\n",
       "      <td>4</td>\n",
       "      <td>2021 Mercedes-Benz GLC 300 Base 4MATIC</td>\n",
       "      <td>7,658</td>\n",
       "      <td>$47,969</td>\n",
       "      <td>Home Delivery</td>\n",
       "      <td>Nan</td>\n",
       "      <td>5.0</td>\n",
       "      <td>(1,516 reviews)</td>\n",
       "      <td>1,516</td>\n",
       "    </tr>\n",
       "  </tbody>\n",
       "</table>\n",
       "</div>"
      ],
      "text/plain": [
       "   Unnamed: 0                                   Title   Mileage    Price  \\\n",
       "0           0             2013 Toyota FJ Cruiser Base   83,448   $29,115   \n",
       "1           1             2013 Toyota FJ Cruiser Base   83,448   $29,115   \n",
       "2           2               2022 Hyundai Santa Fe XRT    3,244   $34,941   \n",
       "3           3  2022 Mercedes-Benz GLC 300 Base 4MATIC        0   $53,660   \n",
       "4           4  2021 Mercedes-Benz GLC 300 Base 4MATIC    7,658   $47,969   \n",
       "\n",
       "                 deal_status Features Rating     Rating-Count Rating_Count  \n",
       "0  Great Deal | $2,335 under      Nan    4.3    (959 reviews)         959   \n",
       "1  Great Deal | $2,335 under      Nan    4.3    (959 reviews)         959   \n",
       "2              Home Delivery      Nan    5.0  (3,368 reviews)       3,368   \n",
       "3              Home Delivery      Nan    4.6    (921 reviews)         921   \n",
       "4              Home Delivery      Nan    5.0  (1,516 reviews)       1,516   "
      ]
     },
     "execution_count": 33,
     "metadata": {},
     "output_type": "execute_result"
    }
   ],
   "source": [
    "df.head()"
   ]
  },
  {
   "cell_type": "code",
   "execution_count": null,
   "metadata": {},
   "outputs": [],
   "source": []
  }
 ],
 "metadata": {
  "kernelspec": {
   "display_name": "Python 3",
   "language": "python",
   "name": "python3"
  },
  "language_info": {
   "codemirror_mode": {
    "name": "ipython",
    "version": 3
   },
   "file_extension": ".py",
   "mimetype": "text/x-python",
   "name": "python",
   "nbconvert_exporter": "python",
   "pygments_lexer": "ipython3",
   "version": "3.8.5"
  }
 },
 "nbformat": 4,
 "nbformat_minor": 4
}
