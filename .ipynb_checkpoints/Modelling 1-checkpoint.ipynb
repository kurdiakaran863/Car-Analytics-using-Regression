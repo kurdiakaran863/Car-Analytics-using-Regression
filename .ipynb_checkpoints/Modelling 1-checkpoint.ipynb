{
 "cells": [
  {
   "cell_type": "markdown",
   "metadata": {},
   "source": [
    "## This file consists of further Data Cleaning and implementing the Baseline model."
   ]
  },
  {
   "cell_type": "code",
   "execution_count": 49,
   "metadata": {},
   "outputs": [],
   "source": [
    "import numpy as np\n",
    "import pandas as pd\n",
    "from matplotlib import pyplot as plt\n",
    "import seaborn as sns\n",
    "from scipy import stats as stats\n",
    "\n",
    "from sklearn.linear_model import LogisticRegression\n",
    "from sklearn.neighbors import KNeighborsClassifier\n",
    "from sklearn.ensemble import RandomForestClassifier\n",
    "from xgboost import XGBClassifier\n",
    "\n",
    "from sklearn.metrics import precision_score, recall_score, plot_confusion_matrix\n",
    "from sklearn.model_selection import train_test_split, GridSearchCV,\\\n",
    "cross_val_score, RandomizedSearchCV\n",
    "\n",
    "from sklearn.preprocessing import OneHotEncoder, StandardScaler, Normalizer\n",
    "from sklearn.metrics import roc_curve, auc, mean_squared_error, roc_auc_score, mean_absolute_error\n",
    "from sklearn.metrics import plot_roc_curve\n",
    "from sklearn.metrics import accuracy_score\n",
    "from sklearn.model_selection import RepeatedKFold\n",
    "\n",
    "from sklearn.pipeline import Pipeline\n",
    "from sklearn.impute import SimpleImputer\n",
    "from sklearn.preprocessing import LabelEncoder\n",
    "from sklearn.preprocessing import OrdinalEncoder\n",
    "from sklearn.preprocessing import OneHotEncoder\n",
    "from sklearn.preprocessing import StandardScaler\n",
    "from sklearn.preprocessing import MaxAbsScaler\n",
    "from sklearn.compose import ColumnTransformer\n",
    "from sklearn.metrics import confusion_matrix\n",
    "from sklearn.linear_model import Ridge\n",
    "\n",
    "from sklearn.metrics import r2_score, mean_squared_error\n",
    "\n",
    "import category_encoders as ce\n",
    "from category_encoders import WOEEncoder\n",
    "from sklearn.feature_extraction.text import TfidfVectorizer"
   ]
  },
  {
   "cell_type": "code",
   "execution_count": 50,
   "metadata": {},
   "outputs": [],
   "source": [
    "new_df = pd.read_csv('new_df.csv')"
   ]
  },
  {
   "cell_type": "code",
   "execution_count": 51,
   "metadata": {},
   "outputs": [
    {
     "data": {
      "text/html": [
       "<div>\n",
       "<style scoped>\n",
       "    .dataframe tbody tr th:only-of-type {\n",
       "        vertical-align: middle;\n",
       "    }\n",
       "\n",
       "    .dataframe tbody tr th {\n",
       "        vertical-align: top;\n",
       "    }\n",
       "\n",
       "    .dataframe thead th {\n",
       "        text-align: right;\n",
       "    }\n",
       "</style>\n",
       "<table border=\"1\" class=\"dataframe\">\n",
       "  <thead>\n",
       "    <tr style=\"text-align: right;\">\n",
       "      <th></th>\n",
       "      <th>Unnamed: 0</th>\n",
       "      <th>Name</th>\n",
       "      <th>Vehicle_details</th>\n",
       "      <th>Mileage</th>\n",
       "      <th>Rating</th>\n",
       "      <th>Rating-Count</th>\n",
       "      <th>Price</th>\n",
       "      <th>Deal-Status</th>\n",
       "      <th>Year</th>\n",
       "      <th>Status</th>\n",
       "    </tr>\n",
       "  </thead>\n",
       "  <tbody>\n",
       "    <tr>\n",
       "      <th>0</th>\n",
       "      <td>0</td>\n",
       "      <td>Porsche</td>\n",
       "      <td>2018 Porsche 718 Cayman S</td>\n",
       "      <td>7399</td>\n",
       "      <td>4.7</td>\n",
       "      <td>153</td>\n",
       "      <td>79990</td>\n",
       "      <td>Good Deal | $2460 under</td>\n",
       "      <td>2018</td>\n",
       "      <td>Good</td>\n",
       "    </tr>\n",
       "    <tr>\n",
       "      <th>1</th>\n",
       "      <td>1</td>\n",
       "      <td>Honda</td>\n",
       "      <td>2021 Honda Civic Type R Touring</td>\n",
       "      <td>18154</td>\n",
       "      <td>3.4</td>\n",
       "      <td>1123</td>\n",
       "      <td>46498</td>\n",
       "      <td>Good Deal</td>\n",
       "      <td>2021</td>\n",
       "      <td>Good</td>\n",
       "    </tr>\n",
       "    <tr>\n",
       "      <th>2</th>\n",
       "      <td>2</td>\n",
       "      <td>Volkswagen</td>\n",
       "      <td>2019 Volkswagen Passat 2.0T SE R-Line</td>\n",
       "      <td>26995</td>\n",
       "      <td>4.9</td>\n",
       "      <td>53</td>\n",
       "      <td>23899</td>\n",
       "      <td>Great Deal | $1404 under</td>\n",
       "      <td>2019</td>\n",
       "      <td>Great</td>\n",
       "    </tr>\n",
       "    <tr>\n",
       "      <th>3</th>\n",
       "      <td>3</td>\n",
       "      <td>Volkswagen</td>\n",
       "      <td>2022 Volkswagen Jetta 1.5T Sport</td>\n",
       "      <td>6777</td>\n",
       "      <td>2.3</td>\n",
       "      <td>63</td>\n",
       "      <td>26500</td>\n",
       "      <td>CPO Warrantied</td>\n",
       "      <td>2022</td>\n",
       "      <td>Unknown</td>\n",
       "    </tr>\n",
       "    <tr>\n",
       "      <th>4</th>\n",
       "      <td>4</td>\n",
       "      <td>INFINITI</td>\n",
       "      <td>2022 INFINITI QX50 LUXE</td>\n",
       "      <td>1109</td>\n",
       "      <td>3.8</td>\n",
       "      <td>119</td>\n",
       "      <td>37473</td>\n",
       "      <td>CPO Warrantied</td>\n",
       "      <td>2022</td>\n",
       "      <td>Unknown</td>\n",
       "    </tr>\n",
       "  </tbody>\n",
       "</table>\n",
       "</div>"
      ],
      "text/plain": [
       "   Unnamed: 0        Name                        Vehicle_details Mileage  \\\n",
       "0           0     Porsche              2018 Porsche 718 Cayman S   7399    \n",
       "1           1       Honda        2021 Honda Civic Type R Touring  18154    \n",
       "2           2  Volkswagen  2019 Volkswagen Passat 2.0T SE R-Line  26995    \n",
       "3           3  Volkswagen       2022 Volkswagen Jetta 1.5T Sport   6777    \n",
       "4           4    INFINITI                2022 INFINITI QX50 LUXE   1109    \n",
       "\n",
       "  Rating Rating-Count  Price               Deal-Status  Year   Status  \n",
       "0    4.7         153   79990   Good Deal | $2460 under  2018     Good  \n",
       "1    3.4        1123   46498                 Good Deal  2021     Good  \n",
       "2    4.9          53   23899  Great Deal | $1404 under  2019    Great  \n",
       "3    2.3          63   26500            CPO Warrantied  2022  Unknown  \n",
       "4    3.8         119   37473            CPO Warrantied  2022  Unknown  "
      ]
     },
     "execution_count": 51,
     "metadata": {},
     "output_type": "execute_result"
    }
   ],
   "source": [
    "new_df.head()"
   ]
  },
  {
   "cell_type": "code",
   "execution_count": 52,
   "metadata": {},
   "outputs": [
    {
     "data": {
      "text/plain": [
       "Index(['Unnamed: 0', 'Name', 'Vehicle_details', 'Mileage', 'Rating',\n",
       "       'Rating-Count', 'Price', 'Deal-Status', 'Year', 'Status'],\n",
       "      dtype='object')"
      ]
     },
     "execution_count": 52,
     "metadata": {},
     "output_type": "execute_result"
    }
   ],
   "source": [
    "new_df.columns"
   ]
  },
  {
   "cell_type": "code",
   "execution_count": 53,
   "metadata": {},
   "outputs": [],
   "source": [
    "new_df.drop(columns = ['Unnamed: 0','Deal-Status'], inplace = True)"
   ]
  },
  {
   "cell_type": "code",
   "execution_count": 54,
   "metadata": {},
   "outputs": [
    {
     "data": {
      "text/html": [
       "<div>\n",
       "<style scoped>\n",
       "    .dataframe tbody tr th:only-of-type {\n",
       "        vertical-align: middle;\n",
       "    }\n",
       "\n",
       "    .dataframe tbody tr th {\n",
       "        vertical-align: top;\n",
       "    }\n",
       "\n",
       "    .dataframe thead th {\n",
       "        text-align: right;\n",
       "    }\n",
       "</style>\n",
       "<table border=\"1\" class=\"dataframe\">\n",
       "  <thead>\n",
       "    <tr style=\"text-align: right;\">\n",
       "      <th></th>\n",
       "      <th>Name</th>\n",
       "      <th>Vehicle_details</th>\n",
       "      <th>Mileage</th>\n",
       "      <th>Rating</th>\n",
       "      <th>Rating-Count</th>\n",
       "      <th>Price</th>\n",
       "      <th>Year</th>\n",
       "      <th>Status</th>\n",
       "    </tr>\n",
       "  </thead>\n",
       "  <tbody>\n",
       "    <tr>\n",
       "      <th>0</th>\n",
       "      <td>Porsche</td>\n",
       "      <td>2018 Porsche 718 Cayman S</td>\n",
       "      <td>7399</td>\n",
       "      <td>4.7</td>\n",
       "      <td>153</td>\n",
       "      <td>79990</td>\n",
       "      <td>2018</td>\n",
       "      <td>Good</td>\n",
       "    </tr>\n",
       "    <tr>\n",
       "      <th>1</th>\n",
       "      <td>Honda</td>\n",
       "      <td>2021 Honda Civic Type R Touring</td>\n",
       "      <td>18154</td>\n",
       "      <td>3.4</td>\n",
       "      <td>1123</td>\n",
       "      <td>46498</td>\n",
       "      <td>2021</td>\n",
       "      <td>Good</td>\n",
       "    </tr>\n",
       "    <tr>\n",
       "      <th>2</th>\n",
       "      <td>Volkswagen</td>\n",
       "      <td>2019 Volkswagen Passat 2.0T SE R-Line</td>\n",
       "      <td>26995</td>\n",
       "      <td>4.9</td>\n",
       "      <td>53</td>\n",
       "      <td>23899</td>\n",
       "      <td>2019</td>\n",
       "      <td>Great</td>\n",
       "    </tr>\n",
       "    <tr>\n",
       "      <th>3</th>\n",
       "      <td>Volkswagen</td>\n",
       "      <td>2022 Volkswagen Jetta 1.5T Sport</td>\n",
       "      <td>6777</td>\n",
       "      <td>2.3</td>\n",
       "      <td>63</td>\n",
       "      <td>26500</td>\n",
       "      <td>2022</td>\n",
       "      <td>Unknown</td>\n",
       "    </tr>\n",
       "    <tr>\n",
       "      <th>4</th>\n",
       "      <td>INFINITI</td>\n",
       "      <td>2022 INFINITI QX50 LUXE</td>\n",
       "      <td>1109</td>\n",
       "      <td>3.8</td>\n",
       "      <td>119</td>\n",
       "      <td>37473</td>\n",
       "      <td>2022</td>\n",
       "      <td>Unknown</td>\n",
       "    </tr>\n",
       "  </tbody>\n",
       "</table>\n",
       "</div>"
      ],
      "text/plain": [
       "         Name                        Vehicle_details Mileage Rating  \\\n",
       "0     Porsche              2018 Porsche 718 Cayman S   7399     4.7   \n",
       "1       Honda        2021 Honda Civic Type R Touring  18154     3.4   \n",
       "2  Volkswagen  2019 Volkswagen Passat 2.0T SE R-Line  26995     4.9   \n",
       "3  Volkswagen       2022 Volkswagen Jetta 1.5T Sport   6777     2.3   \n",
       "4    INFINITI                2022 INFINITI QX50 LUXE   1109     3.8   \n",
       "\n",
       "  Rating-Count  Price  Year   Status  \n",
       "0         153   79990  2018     Good  \n",
       "1        1123   46498  2021     Good  \n",
       "2          53   23899  2019    Great  \n",
       "3          63   26500  2022  Unknown  \n",
       "4         119   37473  2022  Unknown  "
      ]
     },
     "execution_count": 54,
     "metadata": {},
     "output_type": "execute_result"
    }
   ],
   "source": [
    "new_df.head()"
   ]
  },
  {
   "cell_type": "code",
   "execution_count": 55,
   "metadata": {},
   "outputs": [
    {
     "data": {
      "text/plain": [
       "(19577, 8)"
      ]
     },
     "execution_count": 55,
     "metadata": {},
     "output_type": "execute_result"
    }
   ],
   "source": [
    "new_df.shape"
   ]
  },
  {
   "cell_type": "code",
   "execution_count": 56,
   "metadata": {},
   "outputs": [],
   "source": [
    "new_df.drop_duplicates(inplace = True)"
   ]
  },
  {
   "cell_type": "code",
   "execution_count": 57,
   "metadata": {},
   "outputs": [
    {
     "data": {
      "text/html": [
       "<div>\n",
       "<style scoped>\n",
       "    .dataframe tbody tr th:only-of-type {\n",
       "        vertical-align: middle;\n",
       "    }\n",
       "\n",
       "    .dataframe tbody tr th {\n",
       "        vertical-align: top;\n",
       "    }\n",
       "\n",
       "    .dataframe thead th {\n",
       "        text-align: right;\n",
       "    }\n",
       "</style>\n",
       "<table border=\"1\" class=\"dataframe\">\n",
       "  <thead>\n",
       "    <tr style=\"text-align: right;\">\n",
       "      <th></th>\n",
       "      <th>Name</th>\n",
       "      <th>Vehicle_details</th>\n",
       "      <th>Mileage</th>\n",
       "      <th>Rating</th>\n",
       "      <th>Rating-Count</th>\n",
       "      <th>Price</th>\n",
       "      <th>Year</th>\n",
       "      <th>Status</th>\n",
       "    </tr>\n",
       "  </thead>\n",
       "  <tbody>\n",
       "    <tr>\n",
       "      <th>0</th>\n",
       "      <td>Porsche</td>\n",
       "      <td>2018 Porsche 718 Cayman S</td>\n",
       "      <td>7399</td>\n",
       "      <td>4.7</td>\n",
       "      <td>153</td>\n",
       "      <td>79990</td>\n",
       "      <td>2018</td>\n",
       "      <td>Good</td>\n",
       "    </tr>\n",
       "    <tr>\n",
       "      <th>1</th>\n",
       "      <td>Honda</td>\n",
       "      <td>2021 Honda Civic Type R Touring</td>\n",
       "      <td>18154</td>\n",
       "      <td>3.4</td>\n",
       "      <td>1123</td>\n",
       "      <td>46498</td>\n",
       "      <td>2021</td>\n",
       "      <td>Good</td>\n",
       "    </tr>\n",
       "    <tr>\n",
       "      <th>2</th>\n",
       "      <td>Volkswagen</td>\n",
       "      <td>2019 Volkswagen Passat 2.0T SE R-Line</td>\n",
       "      <td>26995</td>\n",
       "      <td>4.9</td>\n",
       "      <td>53</td>\n",
       "      <td>23899</td>\n",
       "      <td>2019</td>\n",
       "      <td>Great</td>\n",
       "    </tr>\n",
       "    <tr>\n",
       "      <th>3</th>\n",
       "      <td>Volkswagen</td>\n",
       "      <td>2022 Volkswagen Jetta 1.5T Sport</td>\n",
       "      <td>6777</td>\n",
       "      <td>2.3</td>\n",
       "      <td>63</td>\n",
       "      <td>26500</td>\n",
       "      <td>2022</td>\n",
       "      <td>Unknown</td>\n",
       "    </tr>\n",
       "    <tr>\n",
       "      <th>4</th>\n",
       "      <td>INFINITI</td>\n",
       "      <td>2022 INFINITI QX50 LUXE</td>\n",
       "      <td>1109</td>\n",
       "      <td>3.8</td>\n",
       "      <td>119</td>\n",
       "      <td>37473</td>\n",
       "      <td>2022</td>\n",
       "      <td>Unknown</td>\n",
       "    </tr>\n",
       "    <tr>\n",
       "      <th>...</th>\n",
       "      <td>...</td>\n",
       "      <td>...</td>\n",
       "      <td>...</td>\n",
       "      <td>...</td>\n",
       "      <td>...</td>\n",
       "      <td>...</td>\n",
       "      <td>...</td>\n",
       "      <td>...</td>\n",
       "    </tr>\n",
       "    <tr>\n",
       "      <th>10110</th>\n",
       "      <td>Honda</td>\n",
       "      <td>2022 Honda Accord Hybrid Sport</td>\n",
       "      <td>10411</td>\n",
       "      <td>4.5</td>\n",
       "      <td>713</td>\n",
       "      <td>35543</td>\n",
       "      <td>2022</td>\n",
       "      <td>Good</td>\n",
       "    </tr>\n",
       "    <tr>\n",
       "      <th>10111</th>\n",
       "      <td>RAM</td>\n",
       "      <td>2022 RAM 1500 Lone Star</td>\n",
       "      <td>3439</td>\n",
       "      <td>Nan</td>\n",
       "      <td>36</td>\n",
       "      <td>42900</td>\n",
       "      <td>2022</td>\n",
       "      <td>Unknown</td>\n",
       "    </tr>\n",
       "    <tr>\n",
       "      <th>10112</th>\n",
       "      <td>Cadillac</td>\n",
       "      <td>2021 Cadillac Escalade Premium Luxury</td>\n",
       "      <td>36667</td>\n",
       "      <td>4.9</td>\n",
       "      <td>2019</td>\n",
       "      <td>86990</td>\n",
       "      <td>2021</td>\n",
       "      <td>Unknown</td>\n",
       "    </tr>\n",
       "    <tr>\n",
       "      <th>10113</th>\n",
       "      <td>Jeep</td>\n",
       "      <td>2020 Jeep Cherokee Latitude</td>\n",
       "      <td>61249</td>\n",
       "      <td>3.1</td>\n",
       "      <td>528</td>\n",
       "      <td>22000</td>\n",
       "      <td>2020</td>\n",
       "      <td>Great</td>\n",
       "    </tr>\n",
       "    <tr>\n",
       "      <th>10114</th>\n",
       "      <td>Toyota</td>\n",
       "      <td>2018 Toyota Highlander XLE</td>\n",
       "      <td>66206</td>\n",
       "      <td>4.4</td>\n",
       "      <td>480</td>\n",
       "      <td>29835</td>\n",
       "      <td>2018</td>\n",
       "      <td>Great</td>\n",
       "    </tr>\n",
       "  </tbody>\n",
       "</table>\n",
       "<p>10048 rows × 8 columns</p>\n",
       "</div>"
      ],
      "text/plain": [
       "             Name                        Vehicle_details Mileage Rating  \\\n",
       "0         Porsche              2018 Porsche 718 Cayman S   7399     4.7   \n",
       "1           Honda        2021 Honda Civic Type R Touring  18154     3.4   \n",
       "2      Volkswagen  2019 Volkswagen Passat 2.0T SE R-Line  26995     4.9   \n",
       "3      Volkswagen       2022 Volkswagen Jetta 1.5T Sport   6777     2.3   \n",
       "4        INFINITI                2022 INFINITI QX50 LUXE   1109     3.8   \n",
       "...           ...                                    ...     ...    ...   \n",
       "10110       Honda         2022 Honda Accord Hybrid Sport  10411     4.5   \n",
       "10111         RAM                2022 RAM 1500 Lone Star   3439     Nan   \n",
       "10112    Cadillac  2021 Cadillac Escalade Premium Luxury  36667     4.9   \n",
       "10113        Jeep            2020 Jeep Cherokee Latitude  61249     3.1   \n",
       "10114      Toyota             2018 Toyota Highlander XLE  66206     4.4   \n",
       "\n",
       "      Rating-Count  Price  Year   Status  \n",
       "0             153   79990  2018     Good  \n",
       "1            1123   46498  2021     Good  \n",
       "2              53   23899  2019    Great  \n",
       "3              63   26500  2022  Unknown  \n",
       "4             119   37473  2022  Unknown  \n",
       "...            ...    ...   ...      ...  \n",
       "10110         713   35543  2022     Good  \n",
       "10111          36   42900  2022  Unknown  \n",
       "10112        2019   86990  2021  Unknown  \n",
       "10113         528   22000  2020    Great  \n",
       "10114         480   29835  2018    Great  \n",
       "\n",
       "[10048 rows x 8 columns]"
      ]
     },
     "execution_count": 57,
     "metadata": {},
     "output_type": "execute_result"
    }
   ],
   "source": [
    "new_df"
   ]
  },
  {
   "cell_type": "markdown",
   "metadata": {},
   "source": [
    "## Further Data Cleaning"
   ]
  },
  {
   "cell_type": "code",
   "execution_count": 58,
   "metadata": {},
   "outputs": [],
   "source": [
    "columns = ['Name','Vehicle_details','Mileage','Rating','Rating-Count','Year','Status']"
   ]
  },
  {
   "cell_type": "code",
   "execution_count": 59,
   "metadata": {},
   "outputs": [
    {
     "data": {
      "text/html": [
       "<div>\n",
       "<style scoped>\n",
       "    .dataframe tbody tr th:only-of-type {\n",
       "        vertical-align: middle;\n",
       "    }\n",
       "\n",
       "    .dataframe tbody tr th {\n",
       "        vertical-align: top;\n",
       "    }\n",
       "\n",
       "    .dataframe thead th {\n",
       "        text-align: right;\n",
       "    }\n",
       "</style>\n",
       "<table border=\"1\" class=\"dataframe\">\n",
       "  <thead>\n",
       "    <tr style=\"text-align: right;\">\n",
       "      <th></th>\n",
       "      <th>Name</th>\n",
       "      <th>Vehicle_details</th>\n",
       "      <th>Mileage</th>\n",
       "      <th>Rating</th>\n",
       "      <th>Rating-Count</th>\n",
       "      <th>Price</th>\n",
       "      <th>Year</th>\n",
       "      <th>Status</th>\n",
       "    </tr>\n",
       "  </thead>\n",
       "  <tbody>\n",
       "  </tbody>\n",
       "</table>\n",
       "</div>"
      ],
      "text/plain": [
       "Empty DataFrame\n",
       "Columns: [Name, Vehicle_details, Mileage, Rating, Rating-Count, Price, Year, Status]\n",
       "Index: []"
      ]
     },
     "execution_count": 59,
     "metadata": {},
     "output_type": "execute_result"
    }
   ],
   "source": [
    "new_df[new_df['Status'] == 'Nan']"
   ]
  },
  {
   "cell_type": "code",
   "execution_count": 60,
   "metadata": {},
   "outputs": [],
   "source": [
    "new_df.drop(new_df[(new_df['Mileage'] == 'Nan') | (new_df['Rating'] == 'Nan') | (new_df['Rating-Count'] == 'Nan')].index, inplace=True)\n"
   ]
  },
  {
   "cell_type": "code",
   "execution_count": 61,
   "metadata": {},
   "outputs": [
    {
     "data": {
      "text/html": [
       "<div>\n",
       "<style scoped>\n",
       "    .dataframe tbody tr th:only-of-type {\n",
       "        vertical-align: middle;\n",
       "    }\n",
       "\n",
       "    .dataframe tbody tr th {\n",
       "        vertical-align: top;\n",
       "    }\n",
       "\n",
       "    .dataframe thead th {\n",
       "        text-align: right;\n",
       "    }\n",
       "</style>\n",
       "<table border=\"1\" class=\"dataframe\">\n",
       "  <thead>\n",
       "    <tr style=\"text-align: right;\">\n",
       "      <th></th>\n",
       "      <th>Name</th>\n",
       "      <th>Vehicle_details</th>\n",
       "      <th>Mileage</th>\n",
       "      <th>Rating</th>\n",
       "      <th>Rating-Count</th>\n",
       "      <th>Price</th>\n",
       "      <th>Year</th>\n",
       "      <th>Status</th>\n",
       "    </tr>\n",
       "  </thead>\n",
       "  <tbody>\n",
       "  </tbody>\n",
       "</table>\n",
       "</div>"
      ],
      "text/plain": [
       "Empty DataFrame\n",
       "Columns: [Name, Vehicle_details, Mileage, Rating, Rating-Count, Price, Year, Status]\n",
       "Index: []"
      ]
     },
     "execution_count": 61,
     "metadata": {},
     "output_type": "execute_result"
    }
   ],
   "source": [
    "new_df[new_df['Rating-Count'] == 'Nan']"
   ]
  },
  {
   "cell_type": "code",
   "execution_count": 62,
   "metadata": {},
   "outputs": [
    {
     "data": {
      "text/html": [
       "<div>\n",
       "<style scoped>\n",
       "    .dataframe tbody tr th:only-of-type {\n",
       "        vertical-align: middle;\n",
       "    }\n",
       "\n",
       "    .dataframe tbody tr th {\n",
       "        vertical-align: top;\n",
       "    }\n",
       "\n",
       "    .dataframe thead th {\n",
       "        text-align: right;\n",
       "    }\n",
       "</style>\n",
       "<table border=\"1\" class=\"dataframe\">\n",
       "  <thead>\n",
       "    <tr style=\"text-align: right;\">\n",
       "      <th></th>\n",
       "      <th>Name</th>\n",
       "      <th>Vehicle_details</th>\n",
       "      <th>Mileage</th>\n",
       "      <th>Rating</th>\n",
       "      <th>Rating-Count</th>\n",
       "      <th>Price</th>\n",
       "      <th>Year</th>\n",
       "      <th>Status</th>\n",
       "    </tr>\n",
       "  </thead>\n",
       "  <tbody>\n",
       "    <tr>\n",
       "      <th>0</th>\n",
       "      <td>Porsche</td>\n",
       "      <td>2018 Porsche 718 Cayman S</td>\n",
       "      <td>7399</td>\n",
       "      <td>4.7</td>\n",
       "      <td>153</td>\n",
       "      <td>79990</td>\n",
       "      <td>2018</td>\n",
       "      <td>Good</td>\n",
       "    </tr>\n",
       "    <tr>\n",
       "      <th>1</th>\n",
       "      <td>Honda</td>\n",
       "      <td>2021 Honda Civic Type R Touring</td>\n",
       "      <td>18154</td>\n",
       "      <td>3.4</td>\n",
       "      <td>1123</td>\n",
       "      <td>46498</td>\n",
       "      <td>2021</td>\n",
       "      <td>Good</td>\n",
       "    </tr>\n",
       "    <tr>\n",
       "      <th>2</th>\n",
       "      <td>Volkswagen</td>\n",
       "      <td>2019 Volkswagen Passat 2.0T SE R-Line</td>\n",
       "      <td>26995</td>\n",
       "      <td>4.9</td>\n",
       "      <td>53</td>\n",
       "      <td>23899</td>\n",
       "      <td>2019</td>\n",
       "      <td>Great</td>\n",
       "    </tr>\n",
       "    <tr>\n",
       "      <th>3</th>\n",
       "      <td>Volkswagen</td>\n",
       "      <td>2022 Volkswagen Jetta 1.5T Sport</td>\n",
       "      <td>6777</td>\n",
       "      <td>2.3</td>\n",
       "      <td>63</td>\n",
       "      <td>26500</td>\n",
       "      <td>2022</td>\n",
       "      <td>Unknown</td>\n",
       "    </tr>\n",
       "    <tr>\n",
       "      <th>4</th>\n",
       "      <td>INFINITI</td>\n",
       "      <td>2022 INFINITI QX50 LUXE</td>\n",
       "      <td>1109</td>\n",
       "      <td>3.8</td>\n",
       "      <td>119</td>\n",
       "      <td>37473</td>\n",
       "      <td>2022</td>\n",
       "      <td>Unknown</td>\n",
       "    </tr>\n",
       "    <tr>\n",
       "      <th>...</th>\n",
       "      <td>...</td>\n",
       "      <td>...</td>\n",
       "      <td>...</td>\n",
       "      <td>...</td>\n",
       "      <td>...</td>\n",
       "      <td>...</td>\n",
       "      <td>...</td>\n",
       "      <td>...</td>\n",
       "    </tr>\n",
       "    <tr>\n",
       "      <th>10109</th>\n",
       "      <td>Acura</td>\n",
       "      <td>2022 Acura MDX Technology</td>\n",
       "      <td>12606</td>\n",
       "      <td>4.4</td>\n",
       "      <td>2396</td>\n",
       "      <td>55000</td>\n",
       "      <td>2022</td>\n",
       "      <td>Great</td>\n",
       "    </tr>\n",
       "    <tr>\n",
       "      <th>10110</th>\n",
       "      <td>Honda</td>\n",
       "      <td>2022 Honda Accord Hybrid Sport</td>\n",
       "      <td>10411</td>\n",
       "      <td>4.5</td>\n",
       "      <td>713</td>\n",
       "      <td>35543</td>\n",
       "      <td>2022</td>\n",
       "      <td>Good</td>\n",
       "    </tr>\n",
       "    <tr>\n",
       "      <th>10112</th>\n",
       "      <td>Cadillac</td>\n",
       "      <td>2021 Cadillac Escalade Premium Luxury</td>\n",
       "      <td>36667</td>\n",
       "      <td>4.9</td>\n",
       "      <td>2019</td>\n",
       "      <td>86990</td>\n",
       "      <td>2021</td>\n",
       "      <td>Unknown</td>\n",
       "    </tr>\n",
       "    <tr>\n",
       "      <th>10113</th>\n",
       "      <td>Jeep</td>\n",
       "      <td>2020 Jeep Cherokee Latitude</td>\n",
       "      <td>61249</td>\n",
       "      <td>3.1</td>\n",
       "      <td>528</td>\n",
       "      <td>22000</td>\n",
       "      <td>2020</td>\n",
       "      <td>Great</td>\n",
       "    </tr>\n",
       "    <tr>\n",
       "      <th>10114</th>\n",
       "      <td>Toyota</td>\n",
       "      <td>2018 Toyota Highlander XLE</td>\n",
       "      <td>66206</td>\n",
       "      <td>4.4</td>\n",
       "      <td>480</td>\n",
       "      <td>29835</td>\n",
       "      <td>2018</td>\n",
       "      <td>Great</td>\n",
       "    </tr>\n",
       "  </tbody>\n",
       "</table>\n",
       "<p>8856 rows × 8 columns</p>\n",
       "</div>"
      ],
      "text/plain": [
       "             Name                        Vehicle_details Mileage Rating  \\\n",
       "0         Porsche              2018 Porsche 718 Cayman S   7399     4.7   \n",
       "1           Honda        2021 Honda Civic Type R Touring  18154     3.4   \n",
       "2      Volkswagen  2019 Volkswagen Passat 2.0T SE R-Line  26995     4.9   \n",
       "3      Volkswagen       2022 Volkswagen Jetta 1.5T Sport   6777     2.3   \n",
       "4        INFINITI                2022 INFINITI QX50 LUXE   1109     3.8   \n",
       "...           ...                                    ...     ...    ...   \n",
       "10109       Acura              2022 Acura MDX Technology  12606     4.4   \n",
       "10110       Honda         2022 Honda Accord Hybrid Sport  10411     4.5   \n",
       "10112    Cadillac  2021 Cadillac Escalade Premium Luxury  36667     4.9   \n",
       "10113        Jeep            2020 Jeep Cherokee Latitude  61249     3.1   \n",
       "10114      Toyota             2018 Toyota Highlander XLE  66206     4.4   \n",
       "\n",
       "      Rating-Count  Price  Year   Status  \n",
       "0             153   79990  2018     Good  \n",
       "1            1123   46498  2021     Good  \n",
       "2              53   23899  2019    Great  \n",
       "3              63   26500  2022  Unknown  \n",
       "4             119   37473  2022  Unknown  \n",
       "...            ...    ...   ...      ...  \n",
       "10109        2396   55000  2022    Great  \n",
       "10110         713   35543  2022     Good  \n",
       "10112        2019   86990  2021  Unknown  \n",
       "10113         528   22000  2020    Great  \n",
       "10114         480   29835  2018    Great  \n",
       "\n",
       "[8856 rows x 8 columns]"
      ]
     },
     "execution_count": 62,
     "metadata": {},
     "output_type": "execute_result"
    }
   ],
   "source": [
    "new_df"
   ]
  },
  {
   "cell_type": "code",
   "execution_count": 63,
   "metadata": {},
   "outputs": [],
   "source": [
    "new_df = new_df[new_df['Price'] != 'Not Priced']"
   ]
  },
  {
   "cell_type": "code",
   "execution_count": 64,
   "metadata": {},
   "outputs": [
    {
     "data": {
      "text/html": [
       "<div>\n",
       "<style scoped>\n",
       "    .dataframe tbody tr th:only-of-type {\n",
       "        vertical-align: middle;\n",
       "    }\n",
       "\n",
       "    .dataframe tbody tr th {\n",
       "        vertical-align: top;\n",
       "    }\n",
       "\n",
       "    .dataframe thead th {\n",
       "        text-align: right;\n",
       "    }\n",
       "</style>\n",
       "<table border=\"1\" class=\"dataframe\">\n",
       "  <thead>\n",
       "    <tr style=\"text-align: right;\">\n",
       "      <th></th>\n",
       "      <th>Name</th>\n",
       "      <th>Vehicle_details</th>\n",
       "      <th>Mileage</th>\n",
       "      <th>Rating</th>\n",
       "      <th>Rating-Count</th>\n",
       "      <th>Price</th>\n",
       "      <th>Year</th>\n",
       "      <th>Status</th>\n",
       "    </tr>\n",
       "  </thead>\n",
       "  <tbody>\n",
       "    <tr>\n",
       "      <th>0</th>\n",
       "      <td>Porsche</td>\n",
       "      <td>2018 Porsche 718 Cayman S</td>\n",
       "      <td>7399</td>\n",
       "      <td>4.7</td>\n",
       "      <td>153</td>\n",
       "      <td>79990</td>\n",
       "      <td>2018</td>\n",
       "      <td>Good</td>\n",
       "    </tr>\n",
       "    <tr>\n",
       "      <th>1</th>\n",
       "      <td>Honda</td>\n",
       "      <td>2021 Honda Civic Type R Touring</td>\n",
       "      <td>18154</td>\n",
       "      <td>3.4</td>\n",
       "      <td>1123</td>\n",
       "      <td>46498</td>\n",
       "      <td>2021</td>\n",
       "      <td>Good</td>\n",
       "    </tr>\n",
       "    <tr>\n",
       "      <th>2</th>\n",
       "      <td>Volkswagen</td>\n",
       "      <td>2019 Volkswagen Passat 2.0T SE R-Line</td>\n",
       "      <td>26995</td>\n",
       "      <td>4.9</td>\n",
       "      <td>53</td>\n",
       "      <td>23899</td>\n",
       "      <td>2019</td>\n",
       "      <td>Great</td>\n",
       "    </tr>\n",
       "    <tr>\n",
       "      <th>3</th>\n",
       "      <td>Volkswagen</td>\n",
       "      <td>2022 Volkswagen Jetta 1.5T Sport</td>\n",
       "      <td>6777</td>\n",
       "      <td>2.3</td>\n",
       "      <td>63</td>\n",
       "      <td>26500</td>\n",
       "      <td>2022</td>\n",
       "      <td>Unknown</td>\n",
       "    </tr>\n",
       "    <tr>\n",
       "      <th>4</th>\n",
       "      <td>INFINITI</td>\n",
       "      <td>2022 INFINITI QX50 LUXE</td>\n",
       "      <td>1109</td>\n",
       "      <td>3.8</td>\n",
       "      <td>119</td>\n",
       "      <td>37473</td>\n",
       "      <td>2022</td>\n",
       "      <td>Unknown</td>\n",
       "    </tr>\n",
       "  </tbody>\n",
       "</table>\n",
       "</div>"
      ],
      "text/plain": [
       "         Name                        Vehicle_details Mileage Rating  \\\n",
       "0     Porsche              2018 Porsche 718 Cayman S   7399     4.7   \n",
       "1       Honda        2021 Honda Civic Type R Touring  18154     3.4   \n",
       "2  Volkswagen  2019 Volkswagen Passat 2.0T SE R-Line  26995     4.9   \n",
       "3  Volkswagen       2022 Volkswagen Jetta 1.5T Sport   6777     2.3   \n",
       "4    INFINITI                2022 INFINITI QX50 LUXE   1109     3.8   \n",
       "\n",
       "  Rating-Count  Price  Year   Status  \n",
       "0         153   79990  2018     Good  \n",
       "1        1123   46498  2021     Good  \n",
       "2          53   23899  2019    Great  \n",
       "3          63   26500  2022  Unknown  \n",
       "4         119   37473  2022  Unknown  "
      ]
     },
     "execution_count": 64,
     "metadata": {},
     "output_type": "execute_result"
    }
   ],
   "source": [
    "new_df.head()"
   ]
  },
  {
   "cell_type": "code",
   "execution_count": 65,
   "metadata": {},
   "outputs": [
    {
     "name": "stdout",
     "output_type": "stream",
     "text": [
      "<class 'pandas.core.frame.DataFrame'>\n",
      "Int64Index: 8840 entries, 0 to 10114\n",
      "Data columns (total 8 columns):\n",
      " #   Column           Non-Null Count  Dtype \n",
      "---  ------           --------------  ----- \n",
      " 0   Name             8840 non-null   object\n",
      " 1   Vehicle_details  8840 non-null   object\n",
      " 2   Mileage          8840 non-null   object\n",
      " 3   Rating           8840 non-null   object\n",
      " 4   Rating-Count     8840 non-null   object\n",
      " 5   Price            8840 non-null   object\n",
      " 6   Year             8840 non-null   int64 \n",
      " 7   Status           8840 non-null   object\n",
      "dtypes: int64(1), object(7)\n",
      "memory usage: 621.6+ KB\n"
     ]
    }
   ],
   "source": [
    "new_df.info()"
   ]
  },
  {
   "cell_type": "code",
   "execution_count": 66,
   "metadata": {},
   "outputs": [
    {
     "name": "stderr",
     "output_type": "stream",
     "text": [
      "/Users/karankurdia/opt/anaconda3/envs/learn-env/lib/python3.8/site-packages/pandas/core/frame.py:3607: SettingWithCopyWarning: \n",
      "A value is trying to be set on a copy of a slice from a DataFrame.\n",
      "Try using .loc[row_indexer,col_indexer] = value instead\n",
      "\n",
      "See the caveats in the documentation: https://pandas.pydata.org/pandas-docs/stable/user_guide/indexing.html#returning-a-view-versus-a-copy\n",
      "  self._set_item(key, value)\n"
     ]
    }
   ],
   "source": [
    "new_df['Mileage'] = new_df['Mileage'].astype(int)\n",
    "new_df['Rating'] = new_df['Rating'].astype(float)\n",
    "new_df['Rating-Count'] = new_df['Rating-Count'].astype(int)\n",
    "\n",
    "\n",
    "\n"
   ]
  },
  {
   "cell_type": "code",
   "execution_count": 67,
   "metadata": {},
   "outputs": [],
   "source": [
    "new_df['Price'] = new_df['Price'].astype(float)"
   ]
  },
  {
   "cell_type": "code",
   "execution_count": 68,
   "metadata": {},
   "outputs": [],
   "source": [
    "new_df['Vehicle_details'] = new_df['Vehicle_details'].astype('string')"
   ]
  },
  {
   "cell_type": "code",
   "execution_count": 69,
   "metadata": {},
   "outputs": [
    {
     "name": "stdout",
     "output_type": "stream",
     "text": [
      "<class 'pandas.core.frame.DataFrame'>\n",
      "Int64Index: 8840 entries, 0 to 10114\n",
      "Data columns (total 8 columns):\n",
      " #   Column           Non-Null Count  Dtype  \n",
      "---  ------           --------------  -----  \n",
      " 0   Name             8840 non-null   object \n",
      " 1   Vehicle_details  8840 non-null   string \n",
      " 2   Mileage          8840 non-null   int64  \n",
      " 3   Rating           8840 non-null   float64\n",
      " 4   Rating-Count     8840 non-null   int64  \n",
      " 5   Price            8840 non-null   float64\n",
      " 6   Year             8840 non-null   int64  \n",
      " 7   Status           8840 non-null   object \n",
      "dtypes: float64(2), int64(3), object(2), string(1)\n",
      "memory usage: 621.6+ KB\n"
     ]
    }
   ],
   "source": [
    "new_df.info()"
   ]
  },
  {
   "cell_type": "code",
   "execution_count": null,
   "metadata": {},
   "outputs": [],
   "source": []
  },
  {
   "cell_type": "code",
   "execution_count": 70,
   "metadata": {},
   "outputs": [
    {
     "data": {
      "text/html": [
       "<div>\n",
       "<style scoped>\n",
       "    .dataframe tbody tr th:only-of-type {\n",
       "        vertical-align: middle;\n",
       "    }\n",
       "\n",
       "    .dataframe tbody tr th {\n",
       "        vertical-align: top;\n",
       "    }\n",
       "\n",
       "    .dataframe thead th {\n",
       "        text-align: right;\n",
       "    }\n",
       "</style>\n",
       "<table border=\"1\" class=\"dataframe\">\n",
       "  <thead>\n",
       "    <tr style=\"text-align: right;\">\n",
       "      <th></th>\n",
       "      <th>Name</th>\n",
       "      <th>Vehicle_details</th>\n",
       "      <th>Mileage</th>\n",
       "      <th>Rating</th>\n",
       "      <th>Rating-Count</th>\n",
       "      <th>Price</th>\n",
       "      <th>Year</th>\n",
       "      <th>Status</th>\n",
       "    </tr>\n",
       "  </thead>\n",
       "  <tbody>\n",
       "    <tr>\n",
       "      <th>0</th>\n",
       "      <td>Porsche</td>\n",
       "      <td>2018 Porsche 718 Cayman S</td>\n",
       "      <td>7399</td>\n",
       "      <td>4.7</td>\n",
       "      <td>153</td>\n",
       "      <td>79990.0</td>\n",
       "      <td>2018</td>\n",
       "      <td>Good</td>\n",
       "    </tr>\n",
       "    <tr>\n",
       "      <th>1</th>\n",
       "      <td>Honda</td>\n",
       "      <td>2021 Honda Civic Type R Touring</td>\n",
       "      <td>18154</td>\n",
       "      <td>3.4</td>\n",
       "      <td>1123</td>\n",
       "      <td>46498.0</td>\n",
       "      <td>2021</td>\n",
       "      <td>Good</td>\n",
       "    </tr>\n",
       "    <tr>\n",
       "      <th>2</th>\n",
       "      <td>Volkswagen</td>\n",
       "      <td>2019 Volkswagen Passat 2.0T SE R-Line</td>\n",
       "      <td>26995</td>\n",
       "      <td>4.9</td>\n",
       "      <td>53</td>\n",
       "      <td>23899.0</td>\n",
       "      <td>2019</td>\n",
       "      <td>Great</td>\n",
       "    </tr>\n",
       "    <tr>\n",
       "      <th>3</th>\n",
       "      <td>Volkswagen</td>\n",
       "      <td>2022 Volkswagen Jetta 1.5T Sport</td>\n",
       "      <td>6777</td>\n",
       "      <td>2.3</td>\n",
       "      <td>63</td>\n",
       "      <td>26500.0</td>\n",
       "      <td>2022</td>\n",
       "      <td>Unknown</td>\n",
       "    </tr>\n",
       "    <tr>\n",
       "      <th>4</th>\n",
       "      <td>INFINITI</td>\n",
       "      <td>2022 INFINITI QX50 LUXE</td>\n",
       "      <td>1109</td>\n",
       "      <td>3.8</td>\n",
       "      <td>119</td>\n",
       "      <td>37473.0</td>\n",
       "      <td>2022</td>\n",
       "      <td>Unknown</td>\n",
       "    </tr>\n",
       "  </tbody>\n",
       "</table>\n",
       "</div>"
      ],
      "text/plain": [
       "         Name                        Vehicle_details  Mileage  Rating  \\\n",
       "0     Porsche              2018 Porsche 718 Cayman S     7399     4.7   \n",
       "1       Honda        2021 Honda Civic Type R Touring    18154     3.4   \n",
       "2  Volkswagen  2019 Volkswagen Passat 2.0T SE R-Line    26995     4.9   \n",
       "3  Volkswagen       2022 Volkswagen Jetta 1.5T Sport     6777     2.3   \n",
       "4    INFINITI                2022 INFINITI QX50 LUXE     1109     3.8   \n",
       "\n",
       "   Rating-Count    Price  Year   Status  \n",
       "0           153  79990.0  2018     Good  \n",
       "1          1123  46498.0  2021     Good  \n",
       "2            53  23899.0  2019    Great  \n",
       "3            63  26500.0  2022  Unknown  \n",
       "4           119  37473.0  2022  Unknown  "
      ]
     },
     "execution_count": 70,
     "metadata": {},
     "output_type": "execute_result"
    }
   ],
   "source": [
    "new_df.head()"
   ]
  },
  {
   "cell_type": "code",
   "execution_count": null,
   "metadata": {},
   "outputs": [],
   "source": []
  },
  {
   "cell_type": "code",
   "execution_count": 71,
   "metadata": {},
   "outputs": [],
   "source": [
    "yr = new_df['Year'].iloc[:8937]"
   ]
  },
  {
   "cell_type": "code",
   "execution_count": 72,
   "metadata": {},
   "outputs": [
    {
     "data": {
      "text/plain": [
       "0        2018\n",
       "1        2021\n",
       "2        2019\n",
       "3        2022\n",
       "4        2022\n",
       "         ... \n",
       "10109    2022\n",
       "10110    2022\n",
       "10112    2021\n",
       "10113    2020\n",
       "10114    2018\n",
       "Name: Year, Length: 8840, dtype: int64"
      ]
     },
     "execution_count": 72,
     "metadata": {},
     "output_type": "execute_result"
    }
   ],
   "source": [
    "yr"
   ]
  },
  {
   "cell_type": "code",
   "execution_count": 73,
   "metadata": {},
   "outputs": [],
   "source": [
    "detail_column = 'Vehicle_details'"
   ]
  },
  {
   "cell_type": "code",
   "execution_count": 74,
   "metadata": {},
   "outputs": [],
   "source": [
    "#new_df['Vehicle_details'] = new_df['Vehicle_details'].str.split()\n",
    " "
   ]
  },
  {
   "cell_type": "code",
   "execution_count": 75,
   "metadata": {},
   "outputs": [
    {
     "data": {
      "text/plain": [
       "0                    2018 Porsche 718 Cayman S\n",
       "1              2021 Honda Civic Type R Touring\n",
       "2        2019 Volkswagen Passat 2.0T SE R-Line\n",
       "3             2022 Volkswagen Jetta 1.5T Sport\n",
       "4                      2022 INFINITI QX50 LUXE\n",
       "                         ...                  \n",
       "10109                2022 Acura MDX Technology\n",
       "10110           2022 Honda Accord Hybrid Sport\n",
       "10112    2021 Cadillac Escalade Premium Luxury\n",
       "10113              2020 Jeep Cherokee Latitude\n",
       "10114               2018 Toyota Highlander XLE\n",
       "Name: Vehicle_details, Length: 8840, dtype: string"
      ]
     },
     "execution_count": 75,
     "metadata": {},
     "output_type": "execute_result"
    }
   ],
   "source": [
    "new_df['Vehicle_details']"
   ]
  },
  {
   "cell_type": "code",
   "execution_count": 76,
   "metadata": {},
   "outputs": [],
   "source": [
    "#details = new_df['Vehicle_details'].str.split()"
   ]
  },
  {
   "cell_type": "code",
   "execution_count": 77,
   "metadata": {},
   "outputs": [],
   "source": [
    "#details"
   ]
  },
  {
   "cell_type": "code",
   "execution_count": 78,
   "metadata": {},
   "outputs": [
    {
     "data": {
      "text/html": [
       "<div>\n",
       "<style scoped>\n",
       "    .dataframe tbody tr th:only-of-type {\n",
       "        vertical-align: middle;\n",
       "    }\n",
       "\n",
       "    .dataframe tbody tr th {\n",
       "        vertical-align: top;\n",
       "    }\n",
       "\n",
       "    .dataframe thead th {\n",
       "        text-align: right;\n",
       "    }\n",
       "</style>\n",
       "<table border=\"1\" class=\"dataframe\">\n",
       "  <thead>\n",
       "    <tr style=\"text-align: right;\">\n",
       "      <th></th>\n",
       "      <th>Name</th>\n",
       "      <th>Vehicle_details</th>\n",
       "      <th>Mileage</th>\n",
       "      <th>Rating</th>\n",
       "      <th>Rating-Count</th>\n",
       "      <th>Price</th>\n",
       "      <th>Year</th>\n",
       "      <th>Status</th>\n",
       "    </tr>\n",
       "  </thead>\n",
       "  <tbody>\n",
       "    <tr>\n",
       "      <th>0</th>\n",
       "      <td>Porsche</td>\n",
       "      <td>2018 Porsche 718 Cayman S</td>\n",
       "      <td>7399</td>\n",
       "      <td>4.7</td>\n",
       "      <td>153</td>\n",
       "      <td>79990.0</td>\n",
       "      <td>2018</td>\n",
       "      <td>Good</td>\n",
       "    </tr>\n",
       "    <tr>\n",
       "      <th>1</th>\n",
       "      <td>Honda</td>\n",
       "      <td>2021 Honda Civic Type R Touring</td>\n",
       "      <td>18154</td>\n",
       "      <td>3.4</td>\n",
       "      <td>1123</td>\n",
       "      <td>46498.0</td>\n",
       "      <td>2021</td>\n",
       "      <td>Good</td>\n",
       "    </tr>\n",
       "    <tr>\n",
       "      <th>2</th>\n",
       "      <td>Volkswagen</td>\n",
       "      <td>2019 Volkswagen Passat 2.0T SE R-Line</td>\n",
       "      <td>26995</td>\n",
       "      <td>4.9</td>\n",
       "      <td>53</td>\n",
       "      <td>23899.0</td>\n",
       "      <td>2019</td>\n",
       "      <td>Great</td>\n",
       "    </tr>\n",
       "    <tr>\n",
       "      <th>3</th>\n",
       "      <td>Volkswagen</td>\n",
       "      <td>2022 Volkswagen Jetta 1.5T Sport</td>\n",
       "      <td>6777</td>\n",
       "      <td>2.3</td>\n",
       "      <td>63</td>\n",
       "      <td>26500.0</td>\n",
       "      <td>2022</td>\n",
       "      <td>Unknown</td>\n",
       "    </tr>\n",
       "    <tr>\n",
       "      <th>4</th>\n",
       "      <td>INFINITI</td>\n",
       "      <td>2022 INFINITI QX50 LUXE</td>\n",
       "      <td>1109</td>\n",
       "      <td>3.8</td>\n",
       "      <td>119</td>\n",
       "      <td>37473.0</td>\n",
       "      <td>2022</td>\n",
       "      <td>Unknown</td>\n",
       "    </tr>\n",
       "  </tbody>\n",
       "</table>\n",
       "</div>"
      ],
      "text/plain": [
       "         Name                        Vehicle_details  Mileage  Rating  \\\n",
       "0     Porsche              2018 Porsche 718 Cayman S     7399     4.7   \n",
       "1       Honda        2021 Honda Civic Type R Touring    18154     3.4   \n",
       "2  Volkswagen  2019 Volkswagen Passat 2.0T SE R-Line    26995     4.9   \n",
       "3  Volkswagen       2022 Volkswagen Jetta 1.5T Sport     6777     2.3   \n",
       "4    INFINITI                2022 INFINITI QX50 LUXE     1109     3.8   \n",
       "\n",
       "   Rating-Count    Price  Year   Status  \n",
       "0           153  79990.0  2018     Good  \n",
       "1          1123  46498.0  2021     Good  \n",
       "2            53  23899.0  2019    Great  \n",
       "3            63  26500.0  2022  Unknown  \n",
       "4           119  37473.0  2022  Unknown  "
      ]
     },
     "execution_count": 78,
     "metadata": {},
     "output_type": "execute_result"
    }
   ],
   "source": [
    "new_df.head()"
   ]
  },
  {
   "cell_type": "code",
   "execution_count": 79,
   "metadata": {},
   "outputs": [
    {
     "data": {
      "text/plain": [
       "0                    2018 Porsche 718 Cayman S\n",
       "1              2021 Honda Civic Type R Touring\n",
       "2        2019 Volkswagen Passat 2.0T SE R-Line\n",
       "3             2022 Volkswagen Jetta 1.5T Sport\n",
       "4                      2022 INFINITI QX50 LUXE\n",
       "                         ...                  \n",
       "10109                2022 Acura MDX Technology\n",
       "10110           2022 Honda Accord Hybrid Sport\n",
       "10112    2021 Cadillac Escalade Premium Luxury\n",
       "10113              2020 Jeep Cherokee Latitude\n",
       "10114               2018 Toyota Highlander XLE\n",
       "Name: Vehicle_details, Length: 8840, dtype: string"
      ]
     },
     "execution_count": 79,
     "metadata": {},
     "output_type": "execute_result"
    }
   ],
   "source": [
    "new_df['Vehicle_details']"
   ]
  },
  {
   "cell_type": "code",
   "execution_count": 80,
   "metadata": {},
   "outputs": [],
   "source": [
    "car = new_df['Name'].iloc[:8937]"
   ]
  },
  {
   "cell_type": "code",
   "execution_count": 81,
   "metadata": {},
   "outputs": [
    {
     "name": "stderr",
     "output_type": "stream",
     "text": [
      "/Users/karankurdia/opt/anaconda3/envs/learn-env/lib/python3.8/site-packages/pandas/core/frame.py:3607: SettingWithCopyWarning: \n",
      "A value is trying to be set on a copy of a slice from a DataFrame.\n",
      "Try using .loc[row_indexer,col_indexer] = value instead\n",
      "\n",
      "See the caveats in the documentation: https://pandas.pydata.org/pandas-docs/stable/user_guide/indexing.html#returning-a-view-versus-a-copy\n",
      "  self._set_item(key, value)\n"
     ]
    }
   ],
   "source": [
    "for n in yr:\n",
    "    #for m in car:\n",
    "    \n",
    "        new_df['details'] =  new_df['Vehicle_details'].apply(lambda x : x.strip(str(n) + \" \"))"
   ]
  },
  {
   "cell_type": "code",
   "execution_count": 82,
   "metadata": {},
   "outputs": [
    {
     "data": {
      "text/html": [
       "<div>\n",
       "<style scoped>\n",
       "    .dataframe tbody tr th:only-of-type {\n",
       "        vertical-align: middle;\n",
       "    }\n",
       "\n",
       "    .dataframe tbody tr th {\n",
       "        vertical-align: top;\n",
       "    }\n",
       "\n",
       "    .dataframe thead th {\n",
       "        text-align: right;\n",
       "    }\n",
       "</style>\n",
       "<table border=\"1\" class=\"dataframe\">\n",
       "  <thead>\n",
       "    <tr style=\"text-align: right;\">\n",
       "      <th></th>\n",
       "      <th>Name</th>\n",
       "      <th>Vehicle_details</th>\n",
       "      <th>Mileage</th>\n",
       "      <th>Rating</th>\n",
       "      <th>Rating-Count</th>\n",
       "      <th>Price</th>\n",
       "      <th>Year</th>\n",
       "      <th>Status</th>\n",
       "      <th>details</th>\n",
       "    </tr>\n",
       "  </thead>\n",
       "  <tbody>\n",
       "    <tr>\n",
       "      <th>0</th>\n",
       "      <td>Porsche</td>\n",
       "      <td>2018 Porsche 718 Cayman S</td>\n",
       "      <td>7399</td>\n",
       "      <td>4.7</td>\n",
       "      <td>153</td>\n",
       "      <td>79990.0</td>\n",
       "      <td>2018</td>\n",
       "      <td>Good</td>\n",
       "      <td>Porsche 718 Cayman S</td>\n",
       "    </tr>\n",
       "    <tr>\n",
       "      <th>1</th>\n",
       "      <td>Honda</td>\n",
       "      <td>2021 Honda Civic Type R Touring</td>\n",
       "      <td>18154</td>\n",
       "      <td>3.4</td>\n",
       "      <td>1123</td>\n",
       "      <td>46498.0</td>\n",
       "      <td>2021</td>\n",
       "      <td>Good</td>\n",
       "      <td>Honda Civic Type R Touring</td>\n",
       "    </tr>\n",
       "    <tr>\n",
       "      <th>2</th>\n",
       "      <td>Volkswagen</td>\n",
       "      <td>2019 Volkswagen Passat 2.0T SE R-Line</td>\n",
       "      <td>26995</td>\n",
       "      <td>4.9</td>\n",
       "      <td>53</td>\n",
       "      <td>23899.0</td>\n",
       "      <td>2019</td>\n",
       "      <td>Great</td>\n",
       "      <td>9 Volkswagen Passat 2.0T SE R-Line</td>\n",
       "    </tr>\n",
       "    <tr>\n",
       "      <th>3</th>\n",
       "      <td>Volkswagen</td>\n",
       "      <td>2022 Volkswagen Jetta 1.5T Sport</td>\n",
       "      <td>6777</td>\n",
       "      <td>2.3</td>\n",
       "      <td>63</td>\n",
       "      <td>26500.0</td>\n",
       "      <td>2022</td>\n",
       "      <td>Unknown</td>\n",
       "      <td>Volkswagen Jetta 1.5T Sport</td>\n",
       "    </tr>\n",
       "    <tr>\n",
       "      <th>4</th>\n",
       "      <td>INFINITI</td>\n",
       "      <td>2022 INFINITI QX50 LUXE</td>\n",
       "      <td>1109</td>\n",
       "      <td>3.8</td>\n",
       "      <td>119</td>\n",
       "      <td>37473.0</td>\n",
       "      <td>2022</td>\n",
       "      <td>Unknown</td>\n",
       "      <td>INFINITI QX50 LUXE</td>\n",
       "    </tr>\n",
       "  </tbody>\n",
       "</table>\n",
       "</div>"
      ],
      "text/plain": [
       "         Name                        Vehicle_details  Mileage  Rating  \\\n",
       "0     Porsche              2018 Porsche 718 Cayman S     7399     4.7   \n",
       "1       Honda        2021 Honda Civic Type R Touring    18154     3.4   \n",
       "2  Volkswagen  2019 Volkswagen Passat 2.0T SE R-Line    26995     4.9   \n",
       "3  Volkswagen       2022 Volkswagen Jetta 1.5T Sport     6777     2.3   \n",
       "4    INFINITI                2022 INFINITI QX50 LUXE     1109     3.8   \n",
       "\n",
       "   Rating-Count    Price  Year   Status                             details  \n",
       "0           153  79990.0  2018     Good                Porsche 718 Cayman S  \n",
       "1          1123  46498.0  2021     Good          Honda Civic Type R Touring  \n",
       "2            53  23899.0  2019    Great  9 Volkswagen Passat 2.0T SE R-Line  \n",
       "3            63  26500.0  2022  Unknown         Volkswagen Jetta 1.5T Sport  \n",
       "4           119  37473.0  2022  Unknown                  INFINITI QX50 LUXE  "
      ]
     },
     "execution_count": 82,
     "metadata": {},
     "output_type": "execute_result"
    }
   ],
   "source": [
    "new_df.head()"
   ]
  },
  {
   "cell_type": "code",
   "execution_count": 83,
   "metadata": {},
   "outputs": [
    {
     "data": {
      "text/plain": [
       "Ford F-150 XLT                                  89\n",
       "RAM 1500 Big Horn                               80\n",
       "Toyota Tundra SR5                               68\n",
       "Ford Explorer XLT                               58\n",
       "Kia K5 GT-Line                                  56\n",
       "                                                ..\n",
       "Volvo XC40 R-Design                              1\n",
       "9 FIAT 124 Spider Abarth                         1\n",
       "Bentley Bentayga V                               1\n",
       "Volvo C40 Recharge Pure Electric P8 Ultimate     1\n",
       "7 Porsche Macan GTS                              1\n",
       "Name: details, Length: 2154, dtype: int64"
      ]
     },
     "execution_count": 83,
     "metadata": {},
     "output_type": "execute_result"
    }
   ],
   "source": [
    "new_df['details'].value_counts()"
   ]
  },
  {
   "cell_type": "code",
   "execution_count": 84,
   "metadata": {},
   "outputs": [
    {
     "name": "stderr",
     "output_type": "stream",
     "text": [
      "/Users/karankurdia/opt/anaconda3/envs/learn-env/lib/python3.8/site-packages/pandas/core/frame.py:5034: SettingWithCopyWarning: \n",
      "A value is trying to be set on a copy of a slice from a DataFrame\n",
      "\n",
      "See the caveats in the documentation: https://pandas.pydata.org/pandas-docs/stable/user_guide/indexing.html#returning-a-view-versus-a-copy\n",
      "  return super().rename(\n"
     ]
    }
   ],
   "source": [
    "new_df.rename(columns = {'details':'model_details'}, inplace = True)"
   ]
  },
  {
   "cell_type": "code",
   "execution_count": 85,
   "metadata": {},
   "outputs": [],
   "source": [
    "#new_df['model_details'] = new_df['details'].str.replace('1 RAM 1500 Big Horn', ' RAM 1500 Big Horn')"
   ]
  },
  {
   "cell_type": "code",
   "execution_count": 86,
   "metadata": {},
   "outputs": [
    {
     "data": {
      "text/plain": [
       "Ford F-150 XLT                                  89\n",
       "RAM 1500 Big Horn                               80\n",
       "Toyota Tundra SR5                               68\n",
       "Ford Explorer XLT                               58\n",
       "Kia K5 GT-Line                                  56\n",
       "                                                ..\n",
       "Volvo XC40 R-Design                              1\n",
       "9 FIAT 124 Spider Abarth                         1\n",
       "Bentley Bentayga V                               1\n",
       "Volvo C40 Recharge Pure Electric P8 Ultimate     1\n",
       "7 Porsche Macan GTS                              1\n",
       "Name: model_details, Length: 2154, dtype: int64"
      ]
     },
     "execution_count": 86,
     "metadata": {},
     "output_type": "execute_result"
    }
   ],
   "source": [
    "new_df['model_details'].value_counts()"
   ]
  },
  {
   "cell_type": "code",
   "execution_count": 87,
   "metadata": {},
   "outputs": [
    {
     "data": {
      "text/html": [
       "<div>\n",
       "<style scoped>\n",
       "    .dataframe tbody tr th:only-of-type {\n",
       "        vertical-align: middle;\n",
       "    }\n",
       "\n",
       "    .dataframe tbody tr th {\n",
       "        vertical-align: top;\n",
       "    }\n",
       "\n",
       "    .dataframe thead th {\n",
       "        text-align: right;\n",
       "    }\n",
       "</style>\n",
       "<table border=\"1\" class=\"dataframe\">\n",
       "  <thead>\n",
       "    <tr style=\"text-align: right;\">\n",
       "      <th></th>\n",
       "      <th>Name</th>\n",
       "      <th>Vehicle_details</th>\n",
       "      <th>Mileage</th>\n",
       "      <th>Rating</th>\n",
       "      <th>Rating-Count</th>\n",
       "      <th>Price</th>\n",
       "      <th>Year</th>\n",
       "      <th>Status</th>\n",
       "      <th>model_details</th>\n",
       "    </tr>\n",
       "  </thead>\n",
       "  <tbody>\n",
       "    <tr>\n",
       "      <th>0</th>\n",
       "      <td>Porsche</td>\n",
       "      <td>2018 Porsche 718 Cayman S</td>\n",
       "      <td>7399</td>\n",
       "      <td>4.7</td>\n",
       "      <td>153</td>\n",
       "      <td>79990.0</td>\n",
       "      <td>2018</td>\n",
       "      <td>Good</td>\n",
       "      <td>Porsche 718 Cayman S</td>\n",
       "    </tr>\n",
       "    <tr>\n",
       "      <th>1</th>\n",
       "      <td>Honda</td>\n",
       "      <td>2021 Honda Civic Type R Touring</td>\n",
       "      <td>18154</td>\n",
       "      <td>3.4</td>\n",
       "      <td>1123</td>\n",
       "      <td>46498.0</td>\n",
       "      <td>2021</td>\n",
       "      <td>Good</td>\n",
       "      <td>Honda Civic Type R Touring</td>\n",
       "    </tr>\n",
       "    <tr>\n",
       "      <th>2</th>\n",
       "      <td>Volkswagen</td>\n",
       "      <td>2019 Volkswagen Passat 2.0T SE R-Line</td>\n",
       "      <td>26995</td>\n",
       "      <td>4.9</td>\n",
       "      <td>53</td>\n",
       "      <td>23899.0</td>\n",
       "      <td>2019</td>\n",
       "      <td>Great</td>\n",
       "      <td>9 Volkswagen Passat 2.0T SE R-Line</td>\n",
       "    </tr>\n",
       "    <tr>\n",
       "      <th>3</th>\n",
       "      <td>Volkswagen</td>\n",
       "      <td>2022 Volkswagen Jetta 1.5T Sport</td>\n",
       "      <td>6777</td>\n",
       "      <td>2.3</td>\n",
       "      <td>63</td>\n",
       "      <td>26500.0</td>\n",
       "      <td>2022</td>\n",
       "      <td>Unknown</td>\n",
       "      <td>Volkswagen Jetta 1.5T Sport</td>\n",
       "    </tr>\n",
       "    <tr>\n",
       "      <th>4</th>\n",
       "      <td>INFINITI</td>\n",
       "      <td>2022 INFINITI QX50 LUXE</td>\n",
       "      <td>1109</td>\n",
       "      <td>3.8</td>\n",
       "      <td>119</td>\n",
       "      <td>37473.0</td>\n",
       "      <td>2022</td>\n",
       "      <td>Unknown</td>\n",
       "      <td>INFINITI QX50 LUXE</td>\n",
       "    </tr>\n",
       "  </tbody>\n",
       "</table>\n",
       "</div>"
      ],
      "text/plain": [
       "         Name                        Vehicle_details  Mileage  Rating  \\\n",
       "0     Porsche              2018 Porsche 718 Cayman S     7399     4.7   \n",
       "1       Honda        2021 Honda Civic Type R Touring    18154     3.4   \n",
       "2  Volkswagen  2019 Volkswagen Passat 2.0T SE R-Line    26995     4.9   \n",
       "3  Volkswagen       2022 Volkswagen Jetta 1.5T Sport     6777     2.3   \n",
       "4    INFINITI                2022 INFINITI QX50 LUXE     1109     3.8   \n",
       "\n",
       "   Rating-Count    Price  Year   Status                       model_details  \n",
       "0           153  79990.0  2018     Good                Porsche 718 Cayman S  \n",
       "1          1123  46498.0  2021     Good          Honda Civic Type R Touring  \n",
       "2            53  23899.0  2019    Great  9 Volkswagen Passat 2.0T SE R-Line  \n",
       "3            63  26500.0  2022  Unknown         Volkswagen Jetta 1.5T Sport  \n",
       "4           119  37473.0  2022  Unknown                  INFINITI QX50 LUXE  "
      ]
     },
     "execution_count": 87,
     "metadata": {},
     "output_type": "execute_result"
    }
   ],
   "source": [
    "new_df.head()"
   ]
  },
  {
   "cell_type": "markdown",
   "metadata": {},
   "source": [
    "### Getting the data frame in the desired format before OneHotEncoding and Standardising"
   ]
  },
  {
   "cell_type": "code",
   "execution_count": 88,
   "metadata": {},
   "outputs": [],
   "source": [
    "features = ['Price','Year','Rating','Mileage','Rating-Count','Name','Status','model_details']\n",
    "final_df = new_df[features]"
   ]
  },
  {
   "cell_type": "code",
   "execution_count": 89,
   "metadata": {},
   "outputs": [
    {
     "data": {
      "text/html": [
       "<div>\n",
       "<style scoped>\n",
       "    .dataframe tbody tr th:only-of-type {\n",
       "        vertical-align: middle;\n",
       "    }\n",
       "\n",
       "    .dataframe tbody tr th {\n",
       "        vertical-align: top;\n",
       "    }\n",
       "\n",
       "    .dataframe thead th {\n",
       "        text-align: right;\n",
       "    }\n",
       "</style>\n",
       "<table border=\"1\" class=\"dataframe\">\n",
       "  <thead>\n",
       "    <tr style=\"text-align: right;\">\n",
       "      <th></th>\n",
       "      <th>Price</th>\n",
       "      <th>Year</th>\n",
       "      <th>Rating</th>\n",
       "      <th>Mileage</th>\n",
       "      <th>Rating-Count</th>\n",
       "      <th>Name</th>\n",
       "      <th>Status</th>\n",
       "      <th>model_details</th>\n",
       "    </tr>\n",
       "  </thead>\n",
       "  <tbody>\n",
       "    <tr>\n",
       "      <th>0</th>\n",
       "      <td>79990.0</td>\n",
       "      <td>2018</td>\n",
       "      <td>4.7</td>\n",
       "      <td>7399</td>\n",
       "      <td>153</td>\n",
       "      <td>Porsche</td>\n",
       "      <td>Good</td>\n",
       "      <td>Porsche 718 Cayman S</td>\n",
       "    </tr>\n",
       "    <tr>\n",
       "      <th>1</th>\n",
       "      <td>46498.0</td>\n",
       "      <td>2021</td>\n",
       "      <td>3.4</td>\n",
       "      <td>18154</td>\n",
       "      <td>1123</td>\n",
       "      <td>Honda</td>\n",
       "      <td>Good</td>\n",
       "      <td>Honda Civic Type R Touring</td>\n",
       "    </tr>\n",
       "    <tr>\n",
       "      <th>2</th>\n",
       "      <td>23899.0</td>\n",
       "      <td>2019</td>\n",
       "      <td>4.9</td>\n",
       "      <td>26995</td>\n",
       "      <td>53</td>\n",
       "      <td>Volkswagen</td>\n",
       "      <td>Great</td>\n",
       "      <td>9 Volkswagen Passat 2.0T SE R-Line</td>\n",
       "    </tr>\n",
       "    <tr>\n",
       "      <th>3</th>\n",
       "      <td>26500.0</td>\n",
       "      <td>2022</td>\n",
       "      <td>2.3</td>\n",
       "      <td>6777</td>\n",
       "      <td>63</td>\n",
       "      <td>Volkswagen</td>\n",
       "      <td>Unknown</td>\n",
       "      <td>Volkswagen Jetta 1.5T Sport</td>\n",
       "    </tr>\n",
       "    <tr>\n",
       "      <th>4</th>\n",
       "      <td>37473.0</td>\n",
       "      <td>2022</td>\n",
       "      <td>3.8</td>\n",
       "      <td>1109</td>\n",
       "      <td>119</td>\n",
       "      <td>INFINITI</td>\n",
       "      <td>Unknown</td>\n",
       "      <td>INFINITI QX50 LUXE</td>\n",
       "    </tr>\n",
       "  </tbody>\n",
       "</table>\n",
       "</div>"
      ],
      "text/plain": [
       "     Price  Year  Rating  Mileage  Rating-Count        Name   Status  \\\n",
       "0  79990.0  2018     4.7     7399           153     Porsche     Good   \n",
       "1  46498.0  2021     3.4    18154          1123       Honda     Good   \n",
       "2  23899.0  2019     4.9    26995            53  Volkswagen    Great   \n",
       "3  26500.0  2022     2.3     6777            63  Volkswagen  Unknown   \n",
       "4  37473.0  2022     3.8     1109           119    INFINITI  Unknown   \n",
       "\n",
       "                        model_details  \n",
       "0                Porsche 718 Cayman S  \n",
       "1          Honda Civic Type R Touring  \n",
       "2  9 Volkswagen Passat 2.0T SE R-Line  \n",
       "3         Volkswagen Jetta 1.5T Sport  \n",
       "4                  INFINITI QX50 LUXE  "
      ]
     },
     "execution_count": 89,
     "metadata": {},
     "output_type": "execute_result"
    }
   ],
   "source": [
    "final_df.head()"
   ]
  },
  {
   "cell_type": "code",
   "execution_count": 90,
   "metadata": {},
   "outputs": [
    {
     "data": {
      "text/plain": [
       "(8840, 8)"
      ]
     },
     "execution_count": 90,
     "metadata": {},
     "output_type": "execute_result"
    }
   ],
   "source": [
    "final_df.shape"
   ]
  },
  {
   "cell_type": "code",
   "execution_count": 91,
   "metadata": {},
   "outputs": [],
   "source": [
    "final_df.to_csv('cars_model.csv')"
   ]
  },
  {
   "cell_type": "code",
   "execution_count": 92,
   "metadata": {},
   "outputs": [],
   "source": [
    "heat_mp = final_df.corr()"
   ]
  },
  {
   "cell_type": "markdown",
   "metadata": {},
   "source": [
    "### Viewing the heamap to see the correlation between the numerical features"
   ]
  },
  {
   "cell_type": "code",
   "execution_count": 93,
   "metadata": {},
   "outputs": [
    {
     "data": {
      "image/png": "[encoded data removed]",
      "text/plain": [
       "<Figure size 864x576 with 2 Axes>"
      ]
     },
     "metadata": {
      "needs_background": "light"
     },
     "output_type": "display_data"
    }
   ],
   "source": [
    "plt.figure(figsize=(12,8))\n",
    "sns.heatmap(heat_mp,annot=True, cmap=\"Blues\")\n",
    "plt.show()"
   ]
  },
  {
   "cell_type": "markdown",
   "metadata": {},
   "source": [
    "# Modelling"
   ]
  },
  {
   "cell_type": "code",
   "execution_count": 94,
   "metadata": {},
   "outputs": [],
   "source": [
    "numerical = ['Mileage','Rating','Rating-Count','Year','Price']\n",
    "categorical = ['Name','Status']"
   ]
  },
  {
   "cell_type": "code",
   "execution_count": 95,
   "metadata": {},
   "outputs": [],
   "source": [
    "vector = ['model_details']"
   ]
  },
  {
   "cell_type": "markdown",
   "metadata": {},
   "source": [
    "## Base Model"
   ]
  },
  {
   "cell_type": "markdown",
   "metadata": {},
   "source": [
    "### Define the target variables and the predictors"
   ]
  },
  {
   "cell_type": "code",
   "execution_count": 96,
   "metadata": {},
   "outputs": [],
   "source": [
    "X = final_df.drop(columns=['Price'])\n",
    "y= final_df['Price']"
   ]
  },
  {
   "cell_type": "markdown",
   "metadata": {},
   "source": [
    "## Doing Train-Test-Split"
   ]
  },
  {
   "cell_type": "code",
   "execution_count": 97,
   "metadata": {},
   "outputs": [],
   "source": [
    "X_train, X_test, y_train, y_test = train_test_split(X,y, test_size = 0.3, random_state = 42)\n"
   ]
  },
  {
   "cell_type": "code",
   "execution_count": 98,
   "metadata": {},
   "outputs": [
    {
     "data": {
      "text/plain": [
       "(6188, 7)"
      ]
     },
     "execution_count": 98,
     "metadata": {},
     "output_type": "execute_result"
    }
   ],
   "source": [
    "X_train.shape"
   ]
  },
  {
   "cell_type": "code",
   "execution_count": 99,
   "metadata": {},
   "outputs": [
    {
     "data": {
      "text/plain": [
       "(6188,)"
      ]
     },
     "execution_count": 99,
     "metadata": {},
     "output_type": "execute_result"
    }
   ],
   "source": [
    "y_train.shape"
   ]
  },
  {
   "cell_type": "code",
   "execution_count": 100,
   "metadata": {},
   "outputs": [
    {
     "data": {
      "text/plain": [
       "(2652, 7)"
      ]
     },
     "execution_count": 100,
     "metadata": {},
     "output_type": "execute_result"
    }
   ],
   "source": [
    "X_test.shape"
   ]
  },
  {
   "cell_type": "code",
   "execution_count": 101,
   "metadata": {},
   "outputs": [
    {
     "data": {
      "text/plain": [
       "(2652,)"
      ]
     },
     "execution_count": 101,
     "metadata": {},
     "output_type": "execute_result"
    }
   ],
   "source": [
    "y_test.shape"
   ]
  },
  {
   "cell_type": "code",
   "execution_count": 102,
   "metadata": {},
   "outputs": [
    {
     "data": {
      "image/png": "[encoded data removed]",
      "text/plain": [
       "<Figure size 1080x864 with 4 Axes>"
      ]
     },
     "metadata": {
      "needs_background": "light"
     },
     "output_type": "display_data"
    }
   ],
   "source": [
    "# check distribution of features\n",
    "X_train.hist(figsize = [15,12], bins = 'auto')\n",
    "plt.show()"
   ]
  },
  {
   "cell_type": "markdown",
   "metadata": {},
   "source": [
    "### Defining the seperate pipelines for numeric and categorical features"
   ]
  },
  {
   "cell_type": "code",
   "execution_count": 103,
   "metadata": {},
   "outputs": [],
   "source": [
    "numeric_pipeline = Pipeline([#('numimputer', SimpleImputer(strategy = 'mean')), \n",
    "                             ('numnorm', StandardScaler())])\n",
    "categorical_pipeline = Pipeline([#('onehotimputer', SimpleImputer(strategy = 'most_frequent')),\n",
    "    ('onehotenc', OneHotEncoder(sparse = False, handle_unknown = 'ignore')),\n",
    "    ('onehotnorm', MaxAbsScaler())])"
   ]
  },
  {
   "cell_type": "code",
   "execution_count": 104,
   "metadata": {},
   "outputs": [],
   "source": [
    "num_cols = X_train.select_dtypes(['int', 'float']).columns\n",
    "cat_cols = X_train.select_dtypes(['object']).columns"
   ]
  },
  {
   "cell_type": "code",
   "execution_count": 105,
   "metadata": {},
   "outputs": [],
   "source": [
    "vectorize_pipeline = Pipeline([(\"tfidf\", TfidfVectorizer())])"
   ]
  },
  {
   "cell_type": "code",
   "execution_count": 106,
   "metadata": {},
   "outputs": [],
   "source": [
    "ct = ColumnTransformer(\n",
    "    [(\"categorical_pipeline\", categorical_pipeline, cat_cols),\n",
    "     (\"numeric_pipeline\", numeric_pipeline, num_cols),\n",
    "     (\"vector_pipeline\" , vectorize_pipeline, 'model_details')])"
   ]
  },
  {
   "cell_type": "code",
   "execution_count": 107,
   "metadata": {},
   "outputs": [
    {
     "data": {
      "text/plain": [
       "ColumnTransformer(transformers=[('categorical_pipeline',\n",
       "                                 Pipeline(steps=[('onehotenc',\n",
       "                                                  OneHotEncoder(handle_unknown='ignore',\n",
       "                                                                sparse=False)),\n",
       "                                                 ('onehotnorm',\n",
       "                                                  MaxAbsScaler())]),\n",
       "                                 Index(['Name', 'Status', 'model_details'], dtype='object')),\n",
       "                                ('numeric_pipeline',\n",
       "                                 Pipeline(steps=[('numnorm',\n",
       "                                                  StandardScaler())]),\n",
       "                                 Index(['Year', 'Rating', 'Mileage', 'Rating-Count'], dtype='object')),\n",
       "                                ('vector_pipeline',\n",
       "                                 Pipeline(steps=[('tfidf', TfidfVectorizer())]),\n",
       "                                 'model_details')])"
      ]
     },
     "execution_count": 107,
     "metadata": {},
     "output_type": "execute_result"
    }
   ],
   "source": [
    "ct"
   ]
  },
  {
   "cell_type": "markdown",
   "metadata": {},
   "source": [
    "### Viewing the transformed data"
   ]
  },
  {
   "cell_type": "code",
   "execution_count": 108,
   "metadata": {},
   "outputs": [],
   "source": [
    "md_xtrain = pd.DataFrame(ct.fit_transform(X_train))"
   ]
  },
  {
   "cell_type": "code",
   "execution_count": 109,
   "metadata": {},
   "outputs": [
    {
     "data": {
      "text/html": [
       "<div>\n",
       "<style scoped>\n",
       "    .dataframe tbody tr th:only-of-type {\n",
       "        vertical-align: middle;\n",
       "    }\n",
       "\n",
       "    .dataframe tbody tr th {\n",
       "        vertical-align: top;\n",
       "    }\n",
       "\n",
       "    .dataframe thead th {\n",
       "        text-align: right;\n",
       "    }\n",
       "</style>\n",
       "<table border=\"1\" class=\"dataframe\">\n",
       "  <thead>\n",
       "    <tr style=\"text-align: right;\">\n",
       "      <th></th>\n",
       "      <th>0</th>\n",
       "      <th>1</th>\n",
       "      <th>2</th>\n",
       "      <th>3</th>\n",
       "      <th>4</th>\n",
       "      <th>5</th>\n",
       "      <th>6</th>\n",
       "      <th>7</th>\n",
       "      <th>8</th>\n",
       "      <th>9</th>\n",
       "      <th>...</th>\n",
       "      <th>2519</th>\n",
       "      <th>2520</th>\n",
       "      <th>2521</th>\n",
       "      <th>2522</th>\n",
       "      <th>2523</th>\n",
       "      <th>2524</th>\n",
       "      <th>2525</th>\n",
       "      <th>2526</th>\n",
       "      <th>2527</th>\n",
       "      <th>2528</th>\n",
       "    </tr>\n",
       "  </thead>\n",
       "  <tbody>\n",
       "    <tr>\n",
       "      <th>0</th>\n",
       "      <td>0.0</td>\n",
       "      <td>0.0</td>\n",
       "      <td>0.0</td>\n",
       "      <td>0.0</td>\n",
       "      <td>0.0</td>\n",
       "      <td>0.0</td>\n",
       "      <td>0.0</td>\n",
       "      <td>0.0</td>\n",
       "      <td>0.0</td>\n",
       "      <td>0.0</td>\n",
       "      <td>...</td>\n",
       "      <td>0.0</td>\n",
       "      <td>0.0</td>\n",
       "      <td>0.0</td>\n",
       "      <td>0.0</td>\n",
       "      <td>0.0</td>\n",
       "      <td>0.0</td>\n",
       "      <td>0.0</td>\n",
       "      <td>0.0</td>\n",
       "      <td>0.0</td>\n",
       "      <td>0.0</td>\n",
       "    </tr>\n",
       "    <tr>\n",
       "      <th>1</th>\n",
       "      <td>0.0</td>\n",
       "      <td>0.0</td>\n",
       "      <td>0.0</td>\n",
       "      <td>0.0</td>\n",
       "      <td>0.0</td>\n",
       "      <td>0.0</td>\n",
       "      <td>0.0</td>\n",
       "      <td>0.0</td>\n",
       "      <td>0.0</td>\n",
       "      <td>0.0</td>\n",
       "      <td>...</td>\n",
       "      <td>0.0</td>\n",
       "      <td>0.0</td>\n",
       "      <td>0.0</td>\n",
       "      <td>0.0</td>\n",
       "      <td>0.0</td>\n",
       "      <td>0.0</td>\n",
       "      <td>0.0</td>\n",
       "      <td>0.0</td>\n",
       "      <td>0.0</td>\n",
       "      <td>0.0</td>\n",
       "    </tr>\n",
       "    <tr>\n",
       "      <th>2</th>\n",
       "      <td>0.0</td>\n",
       "      <td>0.0</td>\n",
       "      <td>0.0</td>\n",
       "      <td>0.0</td>\n",
       "      <td>0.0</td>\n",
       "      <td>0.0</td>\n",
       "      <td>0.0</td>\n",
       "      <td>0.0</td>\n",
       "      <td>0.0</td>\n",
       "      <td>0.0</td>\n",
       "      <td>...</td>\n",
       "      <td>0.0</td>\n",
       "      <td>0.0</td>\n",
       "      <td>0.0</td>\n",
       "      <td>0.0</td>\n",
       "      <td>0.0</td>\n",
       "      <td>0.0</td>\n",
       "      <td>0.0</td>\n",
       "      <td>0.0</td>\n",
       "      <td>0.0</td>\n",
       "      <td>0.0</td>\n",
       "    </tr>\n",
       "    <tr>\n",
       "      <th>3</th>\n",
       "      <td>0.0</td>\n",
       "      <td>0.0</td>\n",
       "      <td>0.0</td>\n",
       "      <td>0.0</td>\n",
       "      <td>0.0</td>\n",
       "      <td>0.0</td>\n",
       "      <td>0.0</td>\n",
       "      <td>0.0</td>\n",
       "      <td>0.0</td>\n",
       "      <td>0.0</td>\n",
       "      <td>...</td>\n",
       "      <td>0.0</td>\n",
       "      <td>0.0</td>\n",
       "      <td>0.0</td>\n",
       "      <td>0.0</td>\n",
       "      <td>0.0</td>\n",
       "      <td>0.0</td>\n",
       "      <td>0.0</td>\n",
       "      <td>0.0</td>\n",
       "      <td>0.0</td>\n",
       "      <td>0.0</td>\n",
       "    </tr>\n",
       "    <tr>\n",
       "      <th>4</th>\n",
       "      <td>0.0</td>\n",
       "      <td>0.0</td>\n",
       "      <td>0.0</td>\n",
       "      <td>0.0</td>\n",
       "      <td>0.0</td>\n",
       "      <td>0.0</td>\n",
       "      <td>0.0</td>\n",
       "      <td>0.0</td>\n",
       "      <td>0.0</td>\n",
       "      <td>0.0</td>\n",
       "      <td>...</td>\n",
       "      <td>0.0</td>\n",
       "      <td>0.0</td>\n",
       "      <td>0.0</td>\n",
       "      <td>0.0</td>\n",
       "      <td>0.0</td>\n",
       "      <td>0.0</td>\n",
       "      <td>0.0</td>\n",
       "      <td>0.0</td>\n",
       "      <td>0.0</td>\n",
       "      <td>0.0</td>\n",
       "    </tr>\n",
       "    <tr>\n",
       "      <th>...</th>\n",
       "      <td>...</td>\n",
       "      <td>...</td>\n",
       "      <td>...</td>\n",
       "      <td>...</td>\n",
       "      <td>...</td>\n",
       "      <td>...</td>\n",
       "      <td>...</td>\n",
       "      <td>...</td>\n",
       "      <td>...</td>\n",
       "      <td>...</td>\n",
       "      <td>...</td>\n",
       "      <td>...</td>\n",
       "      <td>...</td>\n",
       "      <td>...</td>\n",
       "      <td>...</td>\n",
       "      <td>...</td>\n",
       "      <td>...</td>\n",
       "      <td>...</td>\n",
       "      <td>...</td>\n",
       "      <td>...</td>\n",
       "      <td>...</td>\n",
       "    </tr>\n",
       "    <tr>\n",
       "      <th>6183</th>\n",
       "      <td>0.0</td>\n",
       "      <td>0.0</td>\n",
       "      <td>0.0</td>\n",
       "      <td>0.0</td>\n",
       "      <td>0.0</td>\n",
       "      <td>0.0</td>\n",
       "      <td>0.0</td>\n",
       "      <td>0.0</td>\n",
       "      <td>0.0</td>\n",
       "      <td>0.0</td>\n",
       "      <td>...</td>\n",
       "      <td>0.0</td>\n",
       "      <td>0.0</td>\n",
       "      <td>0.0</td>\n",
       "      <td>0.0</td>\n",
       "      <td>0.0</td>\n",
       "      <td>0.0</td>\n",
       "      <td>0.0</td>\n",
       "      <td>0.0</td>\n",
       "      <td>0.0</td>\n",
       "      <td>0.0</td>\n",
       "    </tr>\n",
       "    <tr>\n",
       "      <th>6184</th>\n",
       "      <td>0.0</td>\n",
       "      <td>0.0</td>\n",
       "      <td>0.0</td>\n",
       "      <td>0.0</td>\n",
       "      <td>0.0</td>\n",
       "      <td>0.0</td>\n",
       "      <td>0.0</td>\n",
       "      <td>0.0</td>\n",
       "      <td>0.0</td>\n",
       "      <td>0.0</td>\n",
       "      <td>...</td>\n",
       "      <td>0.0</td>\n",
       "      <td>0.0</td>\n",
       "      <td>0.0</td>\n",
       "      <td>0.0</td>\n",
       "      <td>0.0</td>\n",
       "      <td>0.0</td>\n",
       "      <td>0.0</td>\n",
       "      <td>0.0</td>\n",
       "      <td>0.0</td>\n",
       "      <td>0.0</td>\n",
       "    </tr>\n",
       "    <tr>\n",
       "      <th>6185</th>\n",
       "      <td>0.0</td>\n",
       "      <td>0.0</td>\n",
       "      <td>0.0</td>\n",
       "      <td>0.0</td>\n",
       "      <td>0.0</td>\n",
       "      <td>0.0</td>\n",
       "      <td>1.0</td>\n",
       "      <td>0.0</td>\n",
       "      <td>0.0</td>\n",
       "      <td>0.0</td>\n",
       "      <td>...</td>\n",
       "      <td>0.0</td>\n",
       "      <td>0.0</td>\n",
       "      <td>0.0</td>\n",
       "      <td>0.0</td>\n",
       "      <td>0.0</td>\n",
       "      <td>0.0</td>\n",
       "      <td>0.0</td>\n",
       "      <td>0.0</td>\n",
       "      <td>0.0</td>\n",
       "      <td>0.0</td>\n",
       "    </tr>\n",
       "    <tr>\n",
       "      <th>6186</th>\n",
       "      <td>0.0</td>\n",
       "      <td>0.0</td>\n",
       "      <td>0.0</td>\n",
       "      <td>0.0</td>\n",
       "      <td>0.0</td>\n",
       "      <td>0.0</td>\n",
       "      <td>1.0</td>\n",
       "      <td>0.0</td>\n",
       "      <td>0.0</td>\n",
       "      <td>0.0</td>\n",
       "      <td>...</td>\n",
       "      <td>0.0</td>\n",
       "      <td>0.0</td>\n",
       "      <td>0.0</td>\n",
       "      <td>0.0</td>\n",
       "      <td>0.0</td>\n",
       "      <td>0.0</td>\n",
       "      <td>0.0</td>\n",
       "      <td>0.0</td>\n",
       "      <td>0.0</td>\n",
       "      <td>0.0</td>\n",
       "    </tr>\n",
       "    <tr>\n",
       "      <th>6187</th>\n",
       "      <td>0.0</td>\n",
       "      <td>0.0</td>\n",
       "      <td>0.0</td>\n",
       "      <td>0.0</td>\n",
       "      <td>0.0</td>\n",
       "      <td>0.0</td>\n",
       "      <td>0.0</td>\n",
       "      <td>0.0</td>\n",
       "      <td>0.0</td>\n",
       "      <td>0.0</td>\n",
       "      <td>...</td>\n",
       "      <td>0.0</td>\n",
       "      <td>0.0</td>\n",
       "      <td>0.0</td>\n",
       "      <td>0.0</td>\n",
       "      <td>0.0</td>\n",
       "      <td>0.0</td>\n",
       "      <td>0.0</td>\n",
       "      <td>0.0</td>\n",
       "      <td>0.0</td>\n",
       "      <td>0.0</td>\n",
       "    </tr>\n",
       "  </tbody>\n",
       "</table>\n",
       "<p>6188 rows × 2529 columns</p>\n",
       "</div>"
      ],
      "text/plain": [
       "      0     1     2     3     4     5     6     7     8     9     ...  2519  \\\n",
       "0      0.0   0.0   0.0   0.0   0.0   0.0   0.0   0.0   0.0   0.0  ...   0.0   \n",
       "1      0.0   0.0   0.0   0.0   0.0   0.0   0.0   0.0   0.0   0.0  ...   0.0   \n",
       "2      0.0   0.0   0.0   0.0   0.0   0.0   0.0   0.0   0.0   0.0  ...   0.0   \n",
       "3      0.0   0.0   0.0   0.0   0.0   0.0   0.0   0.0   0.0   0.0  ...   0.0   \n",
       "4      0.0   0.0   0.0   0.0   0.0   0.0   0.0   0.0   0.0   0.0  ...   0.0   \n",
       "...    ...   ...   ...   ...   ...   ...   ...   ...   ...   ...  ...   ...   \n",
       "6183   0.0   0.0   0.0   0.0   0.0   0.0   0.0   0.0   0.0   0.0  ...   0.0   \n",
       "6184   0.0   0.0   0.0   0.0   0.0   0.0   0.0   0.0   0.0   0.0  ...   0.0   \n",
       "6185   0.0   0.0   0.0   0.0   0.0   0.0   1.0   0.0   0.0   0.0  ...   0.0   \n",
       "6186   0.0   0.0   0.0   0.0   0.0   0.0   1.0   0.0   0.0   0.0  ...   0.0   \n",
       "6187   0.0   0.0   0.0   0.0   0.0   0.0   0.0   0.0   0.0   0.0  ...   0.0   \n",
       "\n",
       "      2520  2521  2522  2523  2524  2525  2526  2527  2528  \n",
       "0      0.0   0.0   0.0   0.0   0.0   0.0   0.0   0.0   0.0  \n",
       "1      0.0   0.0   0.0   0.0   0.0   0.0   0.0   0.0   0.0  \n",
       "2      0.0   0.0   0.0   0.0   0.0   0.0   0.0   0.0   0.0  \n",
       "3      0.0   0.0   0.0   0.0   0.0   0.0   0.0   0.0   0.0  \n",
       "4      0.0   0.0   0.0   0.0   0.0   0.0   0.0   0.0   0.0  \n",
       "...    ...   ...   ...   ...   ...   ...   ...   ...   ...  \n",
       "6183   0.0   0.0   0.0   0.0   0.0   0.0   0.0   0.0   0.0  \n",
       "6184   0.0   0.0   0.0   0.0   0.0   0.0   0.0   0.0   0.0  \n",
       "6185   0.0   0.0   0.0   0.0   0.0   0.0   0.0   0.0   0.0  \n",
       "6186   0.0   0.0   0.0   0.0   0.0   0.0   0.0   0.0   0.0  \n",
       "6187   0.0   0.0   0.0   0.0   0.0   0.0   0.0   0.0   0.0  \n",
       "\n",
       "[6188 rows x 2529 columns]"
      ]
     },
     "execution_count": 109,
     "metadata": {},
     "output_type": "execute_result"
    }
   ],
   "source": [
    "md_xtrain"
   ]
  },
  {
   "cell_type": "markdown",
   "metadata": {},
   "source": [
    "### Base model Ridge regression"
   ]
  },
  {
   "cell_type": "code",
   "execution_count": 111,
   "metadata": {
    "code_folding": []
   },
   "outputs": [],
   "source": [
    "ridge_pipeline = Pipeline([('preprocess', ct),\n",
    "                      ('model',\n",
    "                       Ridge(random_state = 44))])"
   ]
  },
  {
   "cell_type": "code",
   "execution_count": 112,
   "metadata": {},
   "outputs": [
    {
     "data": {
      "text/plain": [
       "Pipeline(steps=[('preprocess',\n",
       "                 ColumnTransformer(transformers=[('categorical_pipeline',\n",
       "                                                  Pipeline(steps=[('onehotenc',\n",
       "                                                                   OneHotEncoder(handle_unknown='ignore',\n",
       "                                                                                 sparse=False)),\n",
       "                                                                  ('onehotnorm',\n",
       "                                                                   MaxAbsScaler())]),\n",
       "                                                  Index(['Name', 'Status', 'model_details'], dtype='object')),\n",
       "                                                 ('numeric_pipeline',\n",
       "                                                  Pipeline(steps=[('numnorm',\n",
       "                                                                   StandardScaler())]),\n",
       "                                                  Index(['Year', 'Rating', 'Mileage', 'Rating-Count'], dtype='object')),\n",
       "                                                 ('vector_pipeline',\n",
       "                                                  Pipeline(steps=[('tfidf',\n",
       "                                                                   TfidfVectorizer())]),\n",
       "                                                  'model_details')])),\n",
       "                ('model', Ridge(random_state=44))])"
      ]
     },
     "execution_count": 112,
     "metadata": {},
     "output_type": "execute_result"
    }
   ],
   "source": [
    "ridge_pipeline"
   ]
  },
  {
   "cell_type": "markdown",
   "metadata": {},
   "source": [
    "### Fit the model pipeline"
   ]
  },
  {
   "cell_type": "code",
   "execution_count": 113,
   "metadata": {},
   "outputs": [
    {
     "data": {
      "text/plain": [
       "Pipeline(steps=[('preprocess',\n",
       "                 ColumnTransformer(transformers=[('categorical_pipeline',\n",
       "                                                  Pipeline(steps=[('onehotenc',\n",
       "                                                                   OneHotEncoder(handle_unknown='ignore',\n",
       "                                                                                 sparse=False)),\n",
       "                                                                  ('onehotnorm',\n",
       "                                                                   MaxAbsScaler())]),\n",
       "                                                  Index(['Name', 'Status', 'model_details'], dtype='object')),\n",
       "                                                 ('numeric_pipeline',\n",
       "                                                  Pipeline(steps=[('numnorm',\n",
       "                                                                   StandardScaler())]),\n",
       "                                                  Index(['Year', 'Rating', 'Mileage', 'Rating-Count'], dtype='object')),\n",
       "                                                 ('vector_pipeline',\n",
       "                                                  Pipeline(steps=[('tfidf',\n",
       "                                                                   TfidfVectorizer())]),\n",
       "                                                  'model_details')])),\n",
       "                ('model', Ridge(random_state=44))])"
      ]
     },
     "execution_count": 113,
     "metadata": {},
     "output_type": "execute_result"
    }
   ],
   "source": [
    "ridge_pipeline.fit(X_train, y_train)"
   ]
  },
  {
   "cell_type": "code",
   "execution_count": 114,
   "metadata": {},
   "outputs": [],
   "source": [
    "y_pred = ridge_pipeline.predict(X_test)"
   ]
  },
  {
   "cell_type": "code",
   "execution_count": 115,
   "metadata": {},
   "outputs": [
    {
     "data": {
      "text/plain": [
       "0.9364195181476737"
      ]
     },
     "execution_count": 115,
     "metadata": {},
     "output_type": "execute_result"
    }
   ],
   "source": [
    "ridge_pipeline.score(X_test,y_test)"
   ]
  },
  {
   "cell_type": "code",
   "execution_count": 116,
   "metadata": {},
   "outputs": [
    {
     "data": {
      "text/plain": [
       "0.9776202315071134"
      ]
     },
     "execution_count": 116,
     "metadata": {},
     "output_type": "execute_result"
    }
   ],
   "source": [
    "ridge_pipeline.score(X_train,y_train)"
   ]
  },
  {
   "cell_type": "code",
   "execution_count": 117,
   "metadata": {},
   "outputs": [],
   "source": [
    "RMSE = mean_squared_error(y_test, y_pred, squared = False)\n"
   ]
  },
  {
   "cell_type": "code",
   "execution_count": 118,
   "metadata": {},
   "outputs": [
    {
     "data": {
      "text/plain": [
       "10385.926650349815"
      ]
     },
     "execution_count": 118,
     "metadata": {},
     "output_type": "execute_result"
    }
   ],
   "source": [
    "RMSE"
   ]
  },
  {
   "cell_type": "code",
   "execution_count": 119,
   "metadata": {},
   "outputs": [],
   "source": [
    "MSE = mean_squared_error(y_test, y_pred)"
   ]
  },
  {
   "cell_type": "code",
   "execution_count": 120,
   "metadata": {},
   "outputs": [
    {
     "data": {
      "text/plain": [
       "107867472.38644654"
      ]
     },
     "execution_count": 120,
     "metadata": {},
     "output_type": "execute_result"
    }
   ],
   "source": [
    "MSE"
   ]
  },
  {
   "cell_type": "code",
   "execution_count": 121,
   "metadata": {},
   "outputs": [],
   "source": [
    "MAE = mean_absolute_error(y_test, y_pred)"
   ]
  },
  {
   "cell_type": "code",
   "execution_count": 122,
   "metadata": {},
   "outputs": [
    {
     "data": {
      "text/plain": [
       "4738.674565176418"
      ]
     },
     "execution_count": 122,
     "metadata": {},
     "output_type": "execute_result"
    }
   ],
   "source": [
    "MAE"
   ]
  },
  {
   "cell_type": "code",
   "execution_count": 123,
   "metadata": {
    "scrolled": false
   },
   "outputs": [],
   "source": [
    "R2 = r2_score(y_test,y_pred)"
   ]
  },
  {
   "cell_type": "code",
   "execution_count": 124,
   "metadata": {},
   "outputs": [
    {
     "data": {
      "text/plain": [
       "0.9364195181476737"
      ]
     },
     "execution_count": 124,
     "metadata": {},
     "output_type": "execute_result"
    }
   ],
   "source": [
    "R2"
   ]
  },
  {
   "cell_type": "markdown",
   "metadata": {},
   "source": [
    "## Viewing the model metrics"
   ]
  },
  {
   "cell_type": "code",
   "execution_count": 125,
   "metadata": {
    "code_folding": []
   },
   "outputs": [
    {
     "name": "stdout",
     "output_type": "stream",
     "text": [
      "Ridge Metrics:\n"
     ]
    },
    {
     "data": {
      "text/html": [
       "<div>\n",
       "<style scoped>\n",
       "    .dataframe tbody tr th:only-of-type {\n",
       "        vertical-align: middle;\n",
       "    }\n",
       "\n",
       "    .dataframe tbody tr th {\n",
       "        vertical-align: top;\n",
       "    }\n",
       "\n",
       "    .dataframe thead th {\n",
       "        text-align: right;\n",
       "    }\n",
       "</style>\n",
       "<table border=\"1\" class=\"dataframe\">\n",
       "  <thead>\n",
       "    <tr style=\"text-align: right;\">\n",
       "      <th></th>\n",
       "      <th>MSE</th>\n",
       "      <th>MAE</th>\n",
       "      <th>RMSE</th>\n",
       "      <th>r2_score</th>\n",
       "    </tr>\n",
       "  </thead>\n",
       "  <tbody>\n",
       "    <tr>\n",
       "      <th>0</th>\n",
       "      <td>1.078675e+08</td>\n",
       "      <td>4738.67</td>\n",
       "      <td>10385.92</td>\n",
       "      <td>0.93</td>\n",
       "    </tr>\n",
       "  </tbody>\n",
       "</table>\n",
       "</div>"
      ],
      "text/plain": [
       "            MSE      MAE      RMSE  r2_score\n",
       "0  1.078675e+08  4738.67  10385.92      0.93"
      ]
     },
     "execution_count": 125,
     "metadata": {},
     "output_type": "execute_result"
    }
   ],
   "source": [
    "columns_log = ['MSE', 'MAE', 'RMSE', 'r2_score']\n",
    "\n",
    "\n",
    "\n",
    "MSE_ridge = [107867472.38]\n",
    "MAE_ridge = [4738.67]\n",
    "RMSE_ridge = [10385.92]\n",
    "R2_ridge = [0.93]\n",
    "combined_metrics_log = list(zip( MSE_ridge, MAE_ridge,\n",
    "                                RMSE_ridge, R2_ridge ))\n",
    "compiled_log_df = pd.DataFrame(combined_metrics_log, columns=columns_log)\n",
    "print('Ridge Metrics:')\n",
    "compiled_log_df"
   ]
  },
  {
   "cell_type": "markdown",
   "metadata": {},
   "source": [
    "### We can see that the model performs well, but we can do further hyperparmeter tuning to fine tune the model and get better predictions."
   ]
  },
  {
   "cell_type": "markdown",
   "metadata": {},
   "source": [
    "## Hyperparameter tuning the Ridge Model"
   ]
  },
  {
   "cell_type": "code",
   "execution_count": 126,
   "metadata": {},
   "outputs": [
    {
     "data": {
      "text/plain": [
       "dict_keys(['memory', 'steps', 'verbose', 'preprocess', 'model', 'preprocess__n_jobs', 'preprocess__remainder', 'preprocess__sparse_threshold', 'preprocess__transformer_weights', 'preprocess__transformers', 'preprocess__verbose', 'preprocess__categorical_pipeline', 'preprocess__numeric_pipeline', 'preprocess__vector_pipeline', 'preprocess__categorical_pipeline__memory', 'preprocess__categorical_pipeline__steps', 'preprocess__categorical_pipeline__verbose', 'preprocess__categorical_pipeline__onehotenc', 'preprocess__categorical_pipeline__onehotnorm', 'preprocess__categorical_pipeline__onehotenc__categories', 'preprocess__categorical_pipeline__onehotenc__drop', 'preprocess__categorical_pipeline__onehotenc__dtype', 'preprocess__categorical_pipeline__onehotenc__handle_unknown', 'preprocess__categorical_pipeline__onehotenc__sparse', 'preprocess__categorical_pipeline__onehotnorm__copy', 'preprocess__numeric_pipeline__memory', 'preprocess__numeric_pipeline__steps', 'preprocess__numeric_pipeline__verbose', 'preprocess__numeric_pipeline__numnorm', 'preprocess__numeric_pipeline__numnorm__copy', 'preprocess__numeric_pipeline__numnorm__with_mean', 'preprocess__numeric_pipeline__numnorm__with_std', 'preprocess__vector_pipeline__memory', 'preprocess__vector_pipeline__steps', 'preprocess__vector_pipeline__verbose', 'preprocess__vector_pipeline__tfidf', 'preprocess__vector_pipeline__tfidf__analyzer', 'preprocess__vector_pipeline__tfidf__binary', 'preprocess__vector_pipeline__tfidf__decode_error', 'preprocess__vector_pipeline__tfidf__dtype', 'preprocess__vector_pipeline__tfidf__encoding', 'preprocess__vector_pipeline__tfidf__input', 'preprocess__vector_pipeline__tfidf__lowercase', 'preprocess__vector_pipeline__tfidf__max_df', 'preprocess__vector_pipeline__tfidf__max_features', 'preprocess__vector_pipeline__tfidf__min_df', 'preprocess__vector_pipeline__tfidf__ngram_range', 'preprocess__vector_pipeline__tfidf__norm', 'preprocess__vector_pipeline__tfidf__preprocessor', 'preprocess__vector_pipeline__tfidf__smooth_idf', 'preprocess__vector_pipeline__tfidf__stop_words', 'preprocess__vector_pipeline__tfidf__strip_accents', 'preprocess__vector_pipeline__tfidf__sublinear_tf', 'preprocess__vector_pipeline__tfidf__token_pattern', 'preprocess__vector_pipeline__tfidf__tokenizer', 'preprocess__vector_pipeline__tfidf__use_idf', 'preprocess__vector_pipeline__tfidf__vocabulary', 'model__alpha', 'model__copy_X', 'model__fit_intercept', 'model__max_iter', 'model__normalize', 'model__random_state', 'model__solver', 'model__tol'])"
      ]
     },
     "execution_count": 126,
     "metadata": {},
     "output_type": "execute_result"
    }
   ],
   "source": [
    "ridge_pipeline.get_params().keys()"
   ]
  },
  {
   "cell_type": "code",
   "execution_count": 127,
   "metadata": {},
   "outputs": [],
   "source": [
    "cv = RepeatedKFold(n_splits=10, n_repeats=3, random_state=1)"
   ]
  },
  {
   "cell_type": "markdown",
   "metadata": {},
   "source": [
    "### Using GridSearchCV to perform Cross Validation"
   ]
  },
  {
   "cell_type": "code",
   "execution_count": 128,
   "metadata": {},
   "outputs": [],
   "source": [
    "space = dict()\n",
    "space['model__solver'] = ['svd', 'cholesky', 'lsqr', 'sag']\n",
    "space['model__alpha'] = [1e-5, 1e-4, 1e-3, 1e-2, 1e-1, 1, 10, 100]\n",
    "space['model__fit_intercept'] = [True, False]\n",
    "space['model__normalize'] = [True, False]\n",
    "\n",
    "\n",
    "\n",
    "clf = GridSearchCV(ridge_pipeline,space, scoring='r2', n_jobs=-1, cv=5)"
   ]
  },
  {
   "cell_type": "code",
   "execution_count": 129,
   "metadata": {
    "scrolled": false
   },
   "outputs": [
    {
     "name": "stderr",
     "output_type": "stream",
     "text": [
      "/Users/karankurdia/opt/anaconda3/envs/learn-env/lib/python3.8/site-packages/joblib/externals/loky/process_executor.py:688: UserWarning: A worker stopped while some jobs were given to the executor. This can be caused by a too short worker timeout or by a memory leak.\n",
      "  warnings.warn(\n"
     ]
    }
   ],
   "source": [
    "result = clf.fit(X_train, y_train)\n"
   ]
  },
  {
   "cell_type": "code",
   "execution_count": null,
   "metadata": {},
   "outputs": [],
   "source": []
  },
  {
   "cell_type": "code",
   "execution_count": 130,
   "metadata": {},
   "outputs": [
    {
     "data": {
      "text/plain": [
       "0.915385724180223"
      ]
     },
     "execution_count": 130,
     "metadata": {},
     "output_type": "execute_result"
    }
   ],
   "source": [
    "result.best_score_"
   ]
  },
  {
   "cell_type": "code",
   "execution_count": 131,
   "metadata": {},
   "outputs": [
    {
     "name": "stdout",
     "output_type": "stream",
     "text": [
      "Best Score: 0.915385724180223\n",
      "Best Hyperparameters: {'model__alpha': 0.1, 'model__fit_intercept': False, 'model__normalize': True, 'model__solver': 'lsqr'}\n"
     ]
    }
   ],
   "source": [
    "print('Best Score: %s' % result.best_score_)\n",
    "print('Best Hyperparameters: %s' % result.best_params_)"
   ]
  },
  {
   "cell_type": "markdown",
   "metadata": {},
   "source": [
    "### Getting the best model"
   ]
  },
  {
   "cell_type": "code",
   "execution_count": 132,
   "metadata": {},
   "outputs": [
    {
     "data": {
      "text/plain": [
       "Pipeline(steps=[('preprocess',\n",
       "                 ColumnTransformer(transformers=[('categorical_pipeline',\n",
       "                                                  Pipeline(steps=[('onehotenc',\n",
       "                                                                   OneHotEncoder(handle_unknown='ignore',\n",
       "                                                                                 sparse=False)),\n",
       "                                                                  ('onehotnorm',\n",
       "                                                                   MaxAbsScaler())]),\n",
       "                                                  Index(['Name', 'Status', 'model_details'], dtype='object')),\n",
       "                                                 ('numeric_pipeline',\n",
       "                                                  Pipeline(steps=[('numnorm',\n",
       "                                                                   StandardScaler())]),\n",
       "                                                  Index(['Year', 'Rating', 'Mileage', 'Rating-Count'], dtype='object')),\n",
       "                                                 ('vector_pipeline',\n",
       "                                                  Pipeline(steps=[('tfidf',\n",
       "                                                                   TfidfVectorizer())]),\n",
       "                                                  'model_details')])),\n",
       "                ('model',\n",
       "                 Ridge(alpha=0.1, fit_intercept=False, normalize=True,\n",
       "                       random_state=44, solver='lsqr'))])"
      ]
     },
     "execution_count": 132,
     "metadata": {},
     "output_type": "execute_result"
    }
   ],
   "source": [
    "best_model = result.best_estimator_\n",
    "best_model"
   ]
  },
  {
   "cell_type": "code",
   "execution_count": 133,
   "metadata": {},
   "outputs": [],
   "source": [
    "y_pred_1 = best_model.predict(X_test)"
   ]
  },
  {
   "cell_type": "code",
   "execution_count": null,
   "metadata": {},
   "outputs": [],
   "source": []
  },
  {
   "cell_type": "code",
   "execution_count": 134,
   "metadata": {},
   "outputs": [],
   "source": [
    "RMSE = mean_squared_error(y_test, y_pred_1, squared = False)"
   ]
  },
  {
   "cell_type": "code",
   "execution_count": 135,
   "metadata": {},
   "outputs": [
    {
     "data": {
      "text/plain": [
       "9672.984226660237"
      ]
     },
     "execution_count": 135,
     "metadata": {},
     "output_type": "execute_result"
    }
   ],
   "source": [
    "RMSE"
   ]
  },
  {
   "cell_type": "code",
   "execution_count": 136,
   "metadata": {},
   "outputs": [],
   "source": [
    "MSE = mean_squared_error(y_test, y_pred_1)"
   ]
  },
  {
   "cell_type": "code",
   "execution_count": 137,
   "metadata": {},
   "outputs": [
    {
     "data": {
      "text/plain": [
       "93566623.84921776"
      ]
     },
     "execution_count": 137,
     "metadata": {},
     "output_type": "execute_result"
    }
   ],
   "source": [
    "MSE"
   ]
  },
  {
   "cell_type": "code",
   "execution_count": 138,
   "metadata": {},
   "outputs": [],
   "source": [
    "MAE = mean_absolute_error(y_test, y_pred_1)"
   ]
  },
  {
   "cell_type": "code",
   "execution_count": 139,
   "metadata": {},
   "outputs": [
    {
     "data": {
      "text/plain": [
       "4433.4668147074235"
      ]
     },
     "execution_count": 139,
     "metadata": {},
     "output_type": "execute_result"
    }
   ],
   "source": [
    "MAE"
   ]
  },
  {
   "cell_type": "code",
   "execution_count": 140,
   "metadata": {},
   "outputs": [],
   "source": [
    "R2 = r2_score(y_test,y_pred_1)"
   ]
  },
  {
   "cell_type": "code",
   "execution_count": 141,
   "metadata": {},
   "outputs": [
    {
     "data": {
      "text/plain": [
       "0.9448488881957327"
      ]
     },
     "execution_count": 141,
     "metadata": {},
     "output_type": "execute_result"
    }
   ],
   "source": [
    "R2"
   ]
  },
  {
   "cell_type": "code",
   "execution_count": 142,
   "metadata": {},
   "outputs": [
    {
     "name": "stdout",
     "output_type": "stream",
     "text": [
      "Ridge Metrics:\n"
     ]
    },
    {
     "data": {
      "text/html": [
       "<div>\n",
       "<style scoped>\n",
       "    .dataframe tbody tr th:only-of-type {\n",
       "        vertical-align: middle;\n",
       "    }\n",
       "\n",
       "    .dataframe tbody tr th {\n",
       "        vertical-align: top;\n",
       "    }\n",
       "\n",
       "    .dataframe thead th {\n",
       "        text-align: right;\n",
       "    }\n",
       "</style>\n",
       "<table border=\"1\" class=\"dataframe\">\n",
       "  <thead>\n",
       "    <tr style=\"text-align: right;\">\n",
       "      <th></th>\n",
       "      <th>MSE</th>\n",
       "      <th>MAE</th>\n",
       "      <th>RMSE</th>\n",
       "      <th>r2_score</th>\n",
       "    </tr>\n",
       "  </thead>\n",
       "  <tbody>\n",
       "    <tr>\n",
       "      <th>0</th>\n",
       "      <td>121287878.2</td>\n",
       "      <td>5281.4</td>\n",
       "      <td>11013.077</td>\n",
       "      <td>0.889</td>\n",
       "    </tr>\n",
       "  </tbody>\n",
       "</table>\n",
       "</div>"
      ],
      "text/plain": [
       "           MSE     MAE       RMSE  r2_score\n",
       "0  121287878.2  5281.4  11013.077     0.889"
      ]
     },
     "execution_count": 142,
     "metadata": {},
     "output_type": "execute_result"
    }
   ],
   "source": [
    "columns_log = ['MSE', 'MAE', 'RMSE', 'r2_score']\n",
    "\n",
    "\n",
    "\n",
    "MSE_ridge = [121287878.2]\n",
    "MAE_ridge = [5281.40]\n",
    "RMSE_ridge = [11013.077]\n",
    "R2_ridge = [0.889]\n",
    "combined_metrics_log = list(zip( MSE_ridge, MAE_ridge,\n",
    "                                RMSE_ridge, R2_ridge ))\n",
    "compiled_log_df = pd.DataFrame(combined_metrics_log, columns=columns_log)\n",
    "print('Ridge Metrics:')\n",
    "compiled_log_df"
   ]
  },
  {
   "cell_type": "code",
   "execution_count": 143,
   "metadata": {},
   "outputs": [
    {
     "name": "stdout",
     "output_type": "stream",
     "text": [
      "RMSE:  9672.984226660237\n",
      "RMSE:  93566623.84921776\n",
      "RMSE:  4433.4668147074235\n",
      "R2:  0.9448488881957327\n",
      "test_score:  0.9448488881957327\n",
      "train_score : 0.9904307295235135\n"
     ]
    }
   ],
   "source": [
    "RMSE = mean_squared_error(y_test, y_pred_1, squared = False)\n",
    "MSE = mean_squared_error(y_test, y_pred_1)\n",
    "MAE = mean_absolute_error(y_test, y_pred_1)\n",
    "R2 = r2_score(y_test,y_pred_1)\n",
    "test_score = best_model.score(X_test, y_test)\n",
    "train_score = best_model.score(X_train, y_train)\n",
    "print(\"RMSE: \", RMSE)\n",
    "print(\"RMSE: \", MSE)\n",
    "print(\"RMSE: \", MAE)\n",
    "print(\"R2: \",R2)\n",
    "print(\"test_score: \",test_score)\n",
    "print(\"train_score :\",train_score)"
   ]
  },
  {
   "cell_type": "markdown",
   "metadata": {},
   "source": [
    "### We can see that the model has improved further, with better R2, test and train scores"
   ]
  },
  {
   "cell_type": "code",
   "execution_count": null,
   "metadata": {},
   "outputs": [],
   "source": []
  }
 ],
 "metadata": {
  "kernelspec": {
   "display_name": "Python 3",
   "language": "python",
   "name": "python3"
  },
  "language_info": {
   "codemirror_mode": {
    "name": "ipython",
    "version": 3
   },
   "file_extension": ".py",
   "mimetype": "text/x-python",
   "name": "python",
   "nbconvert_exporter": "python",
   "pygments_lexer": "ipython3",
   "version": "3.8.5"
  }
 },
 "nbformat": 4,
 "nbformat_minor": 4
}
