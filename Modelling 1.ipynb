{
 "cells": [
  {
   "cell_type": "code",
   "execution_count": 88,
   "metadata": {},
   "outputs": [],
   "source": [
    "import numpy as np\n",
    "import pandas as pd\n",
    "from matplotlib import pyplot as plt\n",
    "import seaborn as sns\n",
    "from scipy import stats as stats\n",
    "\n",
    "from sklearn.linear_model import LogisticRegression\n",
    "from sklearn.neighbors import KNeighborsClassifier\n",
    "from sklearn.ensemble import RandomForestClassifier\n",
    "from xgboost import XGBClassifier\n",
    "\n",
    "from sklearn.metrics import precision_score, recall_score, plot_confusion_matrix\n",
    "from sklearn.model_selection import train_test_split, GridSearchCV,\\\n",
    "cross_val_score, RandomizedSearchCV\n",
    "\n",
    "from sklearn.preprocessing import OneHotEncoder, StandardScaler, Normalizer\n",
    "from sklearn.metrics import roc_curve, auc, mean_squared_error, roc_auc_score, mean_absolute_error\n",
    "from sklearn.metrics import plot_roc_curve\n",
    "from sklearn.metrics import accuracy_score\n",
    "from sklearn.model_selection import RepeatedKFold\n",
    "\n",
    "from sklearn.pipeline import Pipeline\n",
    "from sklearn.impute import SimpleImputer\n",
    "from sklearn.preprocessing import LabelEncoder\n",
    "from sklearn.preprocessing import OrdinalEncoder\n",
    "from sklearn.preprocessing import OneHotEncoder\n",
    "from sklearn.preprocessing import StandardScaler\n",
    "from sklearn.preprocessing import MaxAbsScaler\n",
    "from sklearn.compose import ColumnTransformer\n",
    "from sklearn.metrics import confusion_matrix\n",
    "from sklearn.linear_model import Ridge\n",
    "\n",
    "from sklearn.metrics import r2_score, mean_squared_error\n",
    "\n",
    "import category_encoders as ce\n",
    "from category_encoders import WOEEncoder"
   ]
  },
  {
   "cell_type": "code",
   "execution_count": 3,
   "metadata": {},
   "outputs": [],
   "source": [
    "new_df = pd.read_csv('new_df.csv')"
   ]
  },
  {
   "cell_type": "code",
   "execution_count": 4,
   "metadata": {},
   "outputs": [
    {
     "data": {
      "text/html": [
       "<div>\n",
       "<style scoped>\n",
       "    .dataframe tbody tr th:only-of-type {\n",
       "        vertical-align: middle;\n",
       "    }\n",
       "\n",
       "    .dataframe tbody tr th {\n",
       "        vertical-align: top;\n",
       "    }\n",
       "\n",
       "    .dataframe thead th {\n",
       "        text-align: right;\n",
       "    }\n",
       "</style>\n",
       "<table border=\"1\" class=\"dataframe\">\n",
       "  <thead>\n",
       "    <tr style=\"text-align: right;\">\n",
       "      <th></th>\n",
       "      <th>Unnamed: 0</th>\n",
       "      <th>Name</th>\n",
       "      <th>Vehicle_details</th>\n",
       "      <th>Mileage</th>\n",
       "      <th>Rating</th>\n",
       "      <th>Rating-Count</th>\n",
       "      <th>Price</th>\n",
       "      <th>Deal-Status</th>\n",
       "      <th>Year</th>\n",
       "      <th>Status</th>\n",
       "    </tr>\n",
       "  </thead>\n",
       "  <tbody>\n",
       "    <tr>\n",
       "      <th>0</th>\n",
       "      <td>0</td>\n",
       "      <td>Chevrolet</td>\n",
       "      <td>2018 Chevrolet Traverse Premier</td>\n",
       "      <td>53969</td>\n",
       "      <td>Nan</td>\n",
       "      <td>2</td>\n",
       "      <td>35854</td>\n",
       "      <td>Great Deal | $2831 under</td>\n",
       "      <td>2018</td>\n",
       "      <td>Great</td>\n",
       "    </tr>\n",
       "    <tr>\n",
       "      <th>1</th>\n",
       "      <td>1</td>\n",
       "      <td>Ford</td>\n",
       "      <td>2018 Ford Edge SEL</td>\n",
       "      <td>35115</td>\n",
       "      <td>4.5</td>\n",
       "      <td>23</td>\n",
       "      <td>28592</td>\n",
       "      <td>Good Deal | $497 under</td>\n",
       "      <td>2018</td>\n",
       "      <td>Good</td>\n",
       "    </tr>\n",
       "    <tr>\n",
       "      <th>2</th>\n",
       "      <td>2</td>\n",
       "      <td>Kia</td>\n",
       "      <td>2022 Kia Carnival SX Prestige</td>\n",
       "      <td>26630</td>\n",
       "      <td>Nan</td>\n",
       "      <td>3</td>\n",
       "      <td>50668</td>\n",
       "      <td>Great Deal | $3880 under</td>\n",
       "      <td>2022</td>\n",
       "      <td>Great</td>\n",
       "    </tr>\n",
       "    <tr>\n",
       "      <th>3</th>\n",
       "      <td>3</td>\n",
       "      <td>Acura</td>\n",
       "      <td>2020 Acura TLX V6 Advance</td>\n",
       "      <td>19097</td>\n",
       "      <td>5.0</td>\n",
       "      <td>359</td>\n",
       "      <td>39958</td>\n",
       "      <td>Good Deal</td>\n",
       "      <td>2020</td>\n",
       "      <td>Good</td>\n",
       "    </tr>\n",
       "    <tr>\n",
       "      <th>4</th>\n",
       "      <td>4</td>\n",
       "      <td>Volkswagen</td>\n",
       "      <td>2016 Volkswagen Touareg TDI Lux</td>\n",
       "      <td>64426</td>\n",
       "      <td>4.4</td>\n",
       "      <td>313</td>\n",
       "      <td>31586</td>\n",
       "      <td>Great Deal | $3917 under</td>\n",
       "      <td>2016</td>\n",
       "      <td>Great</td>\n",
       "    </tr>\n",
       "  </tbody>\n",
       "</table>\n",
       "</div>"
      ],
      "text/plain": [
       "   Unnamed: 0        Name                  Vehicle_details Mileage Rating  \\\n",
       "0           0   Chevrolet  2018 Chevrolet Traverse Premier  53969     Nan   \n",
       "1           1        Ford               2018 Ford Edge SEL  35115     4.5   \n",
       "2           2         Kia    2022 Kia Carnival SX Prestige  26630     Nan   \n",
       "3           3       Acura        2020 Acura TLX V6 Advance  19097     5.0   \n",
       "4           4  Volkswagen  2016 Volkswagen Touareg TDI Lux  64426     4.4   \n",
       "\n",
       "  Rating-Count  Price               Deal-Status  Year Status  \n",
       "0           2   35854  Great Deal | $2831 under  2018  Great  \n",
       "1          23   28592    Good Deal | $497 under  2018   Good  \n",
       "2           3   50668  Great Deal | $3880 under  2022  Great  \n",
       "3         359   39958                 Good Deal  2020   Good  \n",
       "4         313   31586  Great Deal | $3917 under  2016  Great  "
      ]
     },
     "execution_count": 4,
     "metadata": {},
     "output_type": "execute_result"
    }
   ],
   "source": [
    "new_df.head()"
   ]
  },
  {
   "cell_type": "code",
   "execution_count": 5,
   "metadata": {},
   "outputs": [
    {
     "data": {
      "text/plain": [
       "Index(['Unnamed: 0', 'Name', 'Vehicle_details', 'Mileage', 'Rating',\n",
       "       'Rating-Count', 'Price', 'Deal-Status', 'Year', 'Status'],\n",
       "      dtype='object')"
      ]
     },
     "execution_count": 5,
     "metadata": {},
     "output_type": "execute_result"
    }
   ],
   "source": [
    "new_df.columns"
   ]
  },
  {
   "cell_type": "code",
   "execution_count": 6,
   "metadata": {},
   "outputs": [],
   "source": [
    "new_df.drop(columns = ['Unnamed: 0','Deal-Status'], inplace = True)"
   ]
  },
  {
   "cell_type": "code",
   "execution_count": 7,
   "metadata": {},
   "outputs": [
    {
     "data": {
      "text/html": [
       "<div>\n",
       "<style scoped>\n",
       "    .dataframe tbody tr th:only-of-type {\n",
       "        vertical-align: middle;\n",
       "    }\n",
       "\n",
       "    .dataframe tbody tr th {\n",
       "        vertical-align: top;\n",
       "    }\n",
       "\n",
       "    .dataframe thead th {\n",
       "        text-align: right;\n",
       "    }\n",
       "</style>\n",
       "<table border=\"1\" class=\"dataframe\">\n",
       "  <thead>\n",
       "    <tr style=\"text-align: right;\">\n",
       "      <th></th>\n",
       "      <th>Name</th>\n",
       "      <th>Vehicle_details</th>\n",
       "      <th>Mileage</th>\n",
       "      <th>Rating</th>\n",
       "      <th>Rating-Count</th>\n",
       "      <th>Price</th>\n",
       "      <th>Year</th>\n",
       "      <th>Status</th>\n",
       "    </tr>\n",
       "  </thead>\n",
       "  <tbody>\n",
       "    <tr>\n",
       "      <th>0</th>\n",
       "      <td>Chevrolet</td>\n",
       "      <td>2018 Chevrolet Traverse Premier</td>\n",
       "      <td>53969</td>\n",
       "      <td>Nan</td>\n",
       "      <td>2</td>\n",
       "      <td>35854</td>\n",
       "      <td>2018</td>\n",
       "      <td>Great</td>\n",
       "    </tr>\n",
       "    <tr>\n",
       "      <th>1</th>\n",
       "      <td>Ford</td>\n",
       "      <td>2018 Ford Edge SEL</td>\n",
       "      <td>35115</td>\n",
       "      <td>4.5</td>\n",
       "      <td>23</td>\n",
       "      <td>28592</td>\n",
       "      <td>2018</td>\n",
       "      <td>Good</td>\n",
       "    </tr>\n",
       "    <tr>\n",
       "      <th>2</th>\n",
       "      <td>Kia</td>\n",
       "      <td>2022 Kia Carnival SX Prestige</td>\n",
       "      <td>26630</td>\n",
       "      <td>Nan</td>\n",
       "      <td>3</td>\n",
       "      <td>50668</td>\n",
       "      <td>2022</td>\n",
       "      <td>Great</td>\n",
       "    </tr>\n",
       "    <tr>\n",
       "      <th>3</th>\n",
       "      <td>Acura</td>\n",
       "      <td>2020 Acura TLX V6 Advance</td>\n",
       "      <td>19097</td>\n",
       "      <td>5.0</td>\n",
       "      <td>359</td>\n",
       "      <td>39958</td>\n",
       "      <td>2020</td>\n",
       "      <td>Good</td>\n",
       "    </tr>\n",
       "    <tr>\n",
       "      <th>4</th>\n",
       "      <td>Volkswagen</td>\n",
       "      <td>2016 Volkswagen Touareg TDI Lux</td>\n",
       "      <td>64426</td>\n",
       "      <td>4.4</td>\n",
       "      <td>313</td>\n",
       "      <td>31586</td>\n",
       "      <td>2016</td>\n",
       "      <td>Great</td>\n",
       "    </tr>\n",
       "  </tbody>\n",
       "</table>\n",
       "</div>"
      ],
      "text/plain": [
       "         Name                  Vehicle_details Mileage Rating Rating-Count  \\\n",
       "0   Chevrolet  2018 Chevrolet Traverse Premier  53969     Nan           2    \n",
       "1        Ford               2018 Ford Edge SEL  35115     4.5          23    \n",
       "2         Kia    2022 Kia Carnival SX Prestige  26630     Nan           3    \n",
       "3       Acura        2020 Acura TLX V6 Advance  19097     5.0         359    \n",
       "4  Volkswagen  2016 Volkswagen Touareg TDI Lux  64426     4.4         313    \n",
       "\n",
       "   Price  Year Status  \n",
       "0  35854  2018  Great  \n",
       "1  28592  2018   Good  \n",
       "2  50668  2022  Great  \n",
       "3  39958  2020   Good  \n",
       "4  31586  2016  Great  "
      ]
     },
     "execution_count": 7,
     "metadata": {},
     "output_type": "execute_result"
    }
   ],
   "source": [
    "new_df.head()"
   ]
  },
  {
   "cell_type": "code",
   "execution_count": 8,
   "metadata": {},
   "outputs": [
    {
     "data": {
      "text/plain": [
       "(10122, 8)"
      ]
     },
     "execution_count": 8,
     "metadata": {},
     "output_type": "execute_result"
    }
   ],
   "source": [
    "new_df.shape"
   ]
  },
  {
   "cell_type": "code",
   "execution_count": 9,
   "metadata": {},
   "outputs": [],
   "source": [
    "new_df.drop_duplicates(inplace = True)"
   ]
  },
  {
   "cell_type": "code",
   "execution_count": 10,
   "metadata": {},
   "outputs": [
    {
     "data": {
      "text/html": [
       "<div>\n",
       "<style scoped>\n",
       "    .dataframe tbody tr th:only-of-type {\n",
       "        vertical-align: middle;\n",
       "    }\n",
       "\n",
       "    .dataframe tbody tr th {\n",
       "        vertical-align: top;\n",
       "    }\n",
       "\n",
       "    .dataframe thead th {\n",
       "        text-align: right;\n",
       "    }\n",
       "</style>\n",
       "<table border=\"1\" class=\"dataframe\">\n",
       "  <thead>\n",
       "    <tr style=\"text-align: right;\">\n",
       "      <th></th>\n",
       "      <th>Name</th>\n",
       "      <th>Vehicle_details</th>\n",
       "      <th>Mileage</th>\n",
       "      <th>Rating</th>\n",
       "      <th>Rating-Count</th>\n",
       "      <th>Price</th>\n",
       "      <th>Year</th>\n",
       "      <th>Status</th>\n",
       "    </tr>\n",
       "  </thead>\n",
       "  <tbody>\n",
       "    <tr>\n",
       "      <th>0</th>\n",
       "      <td>Chevrolet</td>\n",
       "      <td>2018 Chevrolet Traverse Premier</td>\n",
       "      <td>53969</td>\n",
       "      <td>Nan</td>\n",
       "      <td>2</td>\n",
       "      <td>35854</td>\n",
       "      <td>2018</td>\n",
       "      <td>Great</td>\n",
       "    </tr>\n",
       "    <tr>\n",
       "      <th>1</th>\n",
       "      <td>Ford</td>\n",
       "      <td>2018 Ford Edge SEL</td>\n",
       "      <td>35115</td>\n",
       "      <td>4.5</td>\n",
       "      <td>23</td>\n",
       "      <td>28592</td>\n",
       "      <td>2018</td>\n",
       "      <td>Good</td>\n",
       "    </tr>\n",
       "    <tr>\n",
       "      <th>2</th>\n",
       "      <td>Kia</td>\n",
       "      <td>2022 Kia Carnival SX Prestige</td>\n",
       "      <td>26630</td>\n",
       "      <td>Nan</td>\n",
       "      <td>3</td>\n",
       "      <td>50668</td>\n",
       "      <td>2022</td>\n",
       "      <td>Great</td>\n",
       "    </tr>\n",
       "    <tr>\n",
       "      <th>3</th>\n",
       "      <td>Acura</td>\n",
       "      <td>2020 Acura TLX V6 Advance</td>\n",
       "      <td>19097</td>\n",
       "      <td>5.0</td>\n",
       "      <td>359</td>\n",
       "      <td>39958</td>\n",
       "      <td>2020</td>\n",
       "      <td>Good</td>\n",
       "    </tr>\n",
       "    <tr>\n",
       "      <th>4</th>\n",
       "      <td>Volkswagen</td>\n",
       "      <td>2016 Volkswagen Touareg TDI Lux</td>\n",
       "      <td>64426</td>\n",
       "      <td>4.4</td>\n",
       "      <td>313</td>\n",
       "      <td>31586</td>\n",
       "      <td>2016</td>\n",
       "      <td>Great</td>\n",
       "    </tr>\n",
       "    <tr>\n",
       "      <th>...</th>\n",
       "      <td>...</td>\n",
       "      <td>...</td>\n",
       "      <td>...</td>\n",
       "      <td>...</td>\n",
       "      <td>...</td>\n",
       "      <td>...</td>\n",
       "      <td>...</td>\n",
       "      <td>...</td>\n",
       "    </tr>\n",
       "    <tr>\n",
       "      <th>10117</th>\n",
       "      <td>Kia</td>\n",
       "      <td>2018 Kia Forte LX</td>\n",
       "      <td>39169</td>\n",
       "      <td>4.8</td>\n",
       "      <td>2765</td>\n",
       "      <td>21000</td>\n",
       "      <td>2018</td>\n",
       "      <td>Fair</td>\n",
       "    </tr>\n",
       "    <tr>\n",
       "      <th>10118</th>\n",
       "      <td>GMC</td>\n",
       "      <td>2021 GMC Acadia SLE</td>\n",
       "      <td>13968</td>\n",
       "      <td>4.6</td>\n",
       "      <td>25</td>\n",
       "      <td>28600</td>\n",
       "      <td>2021</td>\n",
       "      <td>Good</td>\n",
       "    </tr>\n",
       "    <tr>\n",
       "      <th>10119</th>\n",
       "      <td>Chevrolet</td>\n",
       "      <td>2020 Chevrolet Traverse LT Leather</td>\n",
       "      <td>24085</td>\n",
       "      <td>3.4</td>\n",
       "      <td>894</td>\n",
       "      <td>36988</td>\n",
       "      <td>2020</td>\n",
       "      <td>Great</td>\n",
       "    </tr>\n",
       "    <tr>\n",
       "      <th>10120</th>\n",
       "      <td>Dodge</td>\n",
       "      <td>2020 Dodge Durango SXT</td>\n",
       "      <td>34474</td>\n",
       "      <td>3.0</td>\n",
       "      <td>888</td>\n",
       "      <td>31995</td>\n",
       "      <td>2020</td>\n",
       "      <td>Good</td>\n",
       "    </tr>\n",
       "    <tr>\n",
       "      <th>10121</th>\n",
       "      <td>Honda</td>\n",
       "      <td>2020 Honda Pilot EX-L</td>\n",
       "      <td>48301</td>\n",
       "      <td>4.9</td>\n",
       "      <td>8291</td>\n",
       "      <td>34898</td>\n",
       "      <td>2020</td>\n",
       "      <td>Good</td>\n",
       "    </tr>\n",
       "  </tbody>\n",
       "</table>\n",
       "<p>10067 rows × 8 columns</p>\n",
       "</div>"
      ],
      "text/plain": [
       "             Name                     Vehicle_details Mileage Rating  \\\n",
       "0       Chevrolet     2018 Chevrolet Traverse Premier  53969     Nan   \n",
       "1            Ford                  2018 Ford Edge SEL  35115     4.5   \n",
       "2             Kia       2022 Kia Carnival SX Prestige  26630     Nan   \n",
       "3           Acura           2020 Acura TLX V6 Advance  19097     5.0   \n",
       "4      Volkswagen     2016 Volkswagen Touareg TDI Lux  64426     4.4   \n",
       "...           ...                                 ...     ...    ...   \n",
       "10117         Kia                   2018 Kia Forte LX  39169     4.8   \n",
       "10118         GMC                 2021 GMC Acadia SLE  13968     4.6   \n",
       "10119   Chevrolet  2020 Chevrolet Traverse LT Leather  24085     3.4   \n",
       "10120       Dodge              2020 Dodge Durango SXT  34474     3.0   \n",
       "10121       Honda               2020 Honda Pilot EX-L  48301     4.9   \n",
       "\n",
       "      Rating-Count  Price  Year Status  \n",
       "0               2   35854  2018  Great  \n",
       "1              23   28592  2018   Good  \n",
       "2               3   50668  2022  Great  \n",
       "3             359   39958  2020   Good  \n",
       "4             313   31586  2016  Great  \n",
       "...            ...    ...   ...    ...  \n",
       "10117        2765   21000  2018   Fair  \n",
       "10118          25   28600  2021   Good  \n",
       "10119         894   36988  2020  Great  \n",
       "10120         888   31995  2020   Good  \n",
       "10121        8291   34898  2020   Good  \n",
       "\n",
       "[10067 rows x 8 columns]"
      ]
     },
     "execution_count": 10,
     "metadata": {},
     "output_type": "execute_result"
    }
   ],
   "source": [
    "new_df"
   ]
  },
  {
   "cell_type": "code",
   "execution_count": 11,
   "metadata": {},
   "outputs": [],
   "source": [
    "columns = ['Name','Vehicle_details','Mileage','Rating','Rating-Count','Year','Status']"
   ]
  },
  {
   "cell_type": "code",
   "execution_count": 12,
   "metadata": {},
   "outputs": [
    {
     "data": {
      "text/html": [
       "<div>\n",
       "<style scoped>\n",
       "    .dataframe tbody tr th:only-of-type {\n",
       "        vertical-align: middle;\n",
       "    }\n",
       "\n",
       "    .dataframe tbody tr th {\n",
       "        vertical-align: top;\n",
       "    }\n",
       "\n",
       "    .dataframe thead th {\n",
       "        text-align: right;\n",
       "    }\n",
       "</style>\n",
       "<table border=\"1\" class=\"dataframe\">\n",
       "  <thead>\n",
       "    <tr style=\"text-align: right;\">\n",
       "      <th></th>\n",
       "      <th>Name</th>\n",
       "      <th>Vehicle_details</th>\n",
       "      <th>Mileage</th>\n",
       "      <th>Rating</th>\n",
       "      <th>Rating-Count</th>\n",
       "      <th>Price</th>\n",
       "      <th>Year</th>\n",
       "      <th>Status</th>\n",
       "    </tr>\n",
       "  </thead>\n",
       "  <tbody>\n",
       "  </tbody>\n",
       "</table>\n",
       "</div>"
      ],
      "text/plain": [
       "Empty DataFrame\n",
       "Columns: [Name, Vehicle_details, Mileage, Rating, Rating-Count, Price, Year, Status]\n",
       "Index: []"
      ]
     },
     "execution_count": 12,
     "metadata": {},
     "output_type": "execute_result"
    }
   ],
   "source": [
    "new_df[new_df['Status'] == 'Nan']"
   ]
  },
  {
   "cell_type": "code",
   "execution_count": 13,
   "metadata": {},
   "outputs": [],
   "source": [
    "new_df.drop(new_df[(new_df['Mileage'] == 'Nan') | (new_df['Rating'] == 'Nan') | (new_df['Rating-Count'] == 'Nan')].index, inplace=True)\n"
   ]
  },
  {
   "cell_type": "code",
   "execution_count": 14,
   "metadata": {},
   "outputs": [
    {
     "data": {
      "text/html": [
       "<div>\n",
       "<style scoped>\n",
       "    .dataframe tbody tr th:only-of-type {\n",
       "        vertical-align: middle;\n",
       "    }\n",
       "\n",
       "    .dataframe tbody tr th {\n",
       "        vertical-align: top;\n",
       "    }\n",
       "\n",
       "    .dataframe thead th {\n",
       "        text-align: right;\n",
       "    }\n",
       "</style>\n",
       "<table border=\"1\" class=\"dataframe\">\n",
       "  <thead>\n",
       "    <tr style=\"text-align: right;\">\n",
       "      <th></th>\n",
       "      <th>Name</th>\n",
       "      <th>Vehicle_details</th>\n",
       "      <th>Mileage</th>\n",
       "      <th>Rating</th>\n",
       "      <th>Rating-Count</th>\n",
       "      <th>Price</th>\n",
       "      <th>Year</th>\n",
       "      <th>Status</th>\n",
       "    </tr>\n",
       "  </thead>\n",
       "  <tbody>\n",
       "  </tbody>\n",
       "</table>\n",
       "</div>"
      ],
      "text/plain": [
       "Empty DataFrame\n",
       "Columns: [Name, Vehicle_details, Mileage, Rating, Rating-Count, Price, Year, Status]\n",
       "Index: []"
      ]
     },
     "execution_count": 14,
     "metadata": {},
     "output_type": "execute_result"
    }
   ],
   "source": [
    "new_df[new_df['Rating-Count'] == 'Nan']"
   ]
  },
  {
   "cell_type": "code",
   "execution_count": 15,
   "metadata": {},
   "outputs": [
    {
     "data": {
      "text/html": [
       "<div>\n",
       "<style scoped>\n",
       "    .dataframe tbody tr th:only-of-type {\n",
       "        vertical-align: middle;\n",
       "    }\n",
       "\n",
       "    .dataframe tbody tr th {\n",
       "        vertical-align: top;\n",
       "    }\n",
       "\n",
       "    .dataframe thead th {\n",
       "        text-align: right;\n",
       "    }\n",
       "</style>\n",
       "<table border=\"1\" class=\"dataframe\">\n",
       "  <thead>\n",
       "    <tr style=\"text-align: right;\">\n",
       "      <th></th>\n",
       "      <th>Name</th>\n",
       "      <th>Vehicle_details</th>\n",
       "      <th>Mileage</th>\n",
       "      <th>Rating</th>\n",
       "      <th>Rating-Count</th>\n",
       "      <th>Price</th>\n",
       "      <th>Year</th>\n",
       "      <th>Status</th>\n",
       "    </tr>\n",
       "  </thead>\n",
       "  <tbody>\n",
       "    <tr>\n",
       "      <th>1</th>\n",
       "      <td>Ford</td>\n",
       "      <td>2018 Ford Edge SEL</td>\n",
       "      <td>35115</td>\n",
       "      <td>4.5</td>\n",
       "      <td>23</td>\n",
       "      <td>28592</td>\n",
       "      <td>2018</td>\n",
       "      <td>Good</td>\n",
       "    </tr>\n",
       "    <tr>\n",
       "      <th>3</th>\n",
       "      <td>Acura</td>\n",
       "      <td>2020 Acura TLX V6 Advance</td>\n",
       "      <td>19097</td>\n",
       "      <td>5.0</td>\n",
       "      <td>359</td>\n",
       "      <td>39958</td>\n",
       "      <td>2020</td>\n",
       "      <td>Good</td>\n",
       "    </tr>\n",
       "    <tr>\n",
       "      <th>4</th>\n",
       "      <td>Volkswagen</td>\n",
       "      <td>2016 Volkswagen Touareg TDI Lux</td>\n",
       "      <td>64426</td>\n",
       "      <td>4.4</td>\n",
       "      <td>313</td>\n",
       "      <td>31586</td>\n",
       "      <td>2016</td>\n",
       "      <td>Great</td>\n",
       "    </tr>\n",
       "    <tr>\n",
       "      <th>5</th>\n",
       "      <td>Toyota</td>\n",
       "      <td>2022 Toyota Corolla Cross LE</td>\n",
       "      <td>1754</td>\n",
       "      <td>4.6</td>\n",
       "      <td>1243</td>\n",
       "      <td>35000</td>\n",
       "      <td>2022</td>\n",
       "      <td>Great</td>\n",
       "    </tr>\n",
       "    <tr>\n",
       "      <th>6</th>\n",
       "      <td>BMW</td>\n",
       "      <td>2019 BMW 540 i</td>\n",
       "      <td>13044</td>\n",
       "      <td>4.5</td>\n",
       "      <td>363</td>\n",
       "      <td>45495</td>\n",
       "      <td>2019</td>\n",
       "      <td>Good</td>\n",
       "    </tr>\n",
       "    <tr>\n",
       "      <th>...</th>\n",
       "      <td>...</td>\n",
       "      <td>...</td>\n",
       "      <td>...</td>\n",
       "      <td>...</td>\n",
       "      <td>...</td>\n",
       "      <td>...</td>\n",
       "      <td>...</td>\n",
       "      <td>...</td>\n",
       "    </tr>\n",
       "    <tr>\n",
       "      <th>10117</th>\n",
       "      <td>Kia</td>\n",
       "      <td>2018 Kia Forte LX</td>\n",
       "      <td>39169</td>\n",
       "      <td>4.8</td>\n",
       "      <td>2765</td>\n",
       "      <td>21000</td>\n",
       "      <td>2018</td>\n",
       "      <td>Fair</td>\n",
       "    </tr>\n",
       "    <tr>\n",
       "      <th>10118</th>\n",
       "      <td>GMC</td>\n",
       "      <td>2021 GMC Acadia SLE</td>\n",
       "      <td>13968</td>\n",
       "      <td>4.6</td>\n",
       "      <td>25</td>\n",
       "      <td>28600</td>\n",
       "      <td>2021</td>\n",
       "      <td>Good</td>\n",
       "    </tr>\n",
       "    <tr>\n",
       "      <th>10119</th>\n",
       "      <td>Chevrolet</td>\n",
       "      <td>2020 Chevrolet Traverse LT Leather</td>\n",
       "      <td>24085</td>\n",
       "      <td>3.4</td>\n",
       "      <td>894</td>\n",
       "      <td>36988</td>\n",
       "      <td>2020</td>\n",
       "      <td>Great</td>\n",
       "    </tr>\n",
       "    <tr>\n",
       "      <th>10120</th>\n",
       "      <td>Dodge</td>\n",
       "      <td>2020 Dodge Durango SXT</td>\n",
       "      <td>34474</td>\n",
       "      <td>3.0</td>\n",
       "      <td>888</td>\n",
       "      <td>31995</td>\n",
       "      <td>2020</td>\n",
       "      <td>Good</td>\n",
       "    </tr>\n",
       "    <tr>\n",
       "      <th>10121</th>\n",
       "      <td>Honda</td>\n",
       "      <td>2020 Honda Pilot EX-L</td>\n",
       "      <td>48301</td>\n",
       "      <td>4.9</td>\n",
       "      <td>8291</td>\n",
       "      <td>34898</td>\n",
       "      <td>2020</td>\n",
       "      <td>Good</td>\n",
       "    </tr>\n",
       "  </tbody>\n",
       "</table>\n",
       "<p>8937 rows × 8 columns</p>\n",
       "</div>"
      ],
      "text/plain": [
       "             Name                     Vehicle_details Mileage Rating  \\\n",
       "1            Ford                  2018 Ford Edge SEL  35115     4.5   \n",
       "3           Acura           2020 Acura TLX V6 Advance  19097     5.0   \n",
       "4      Volkswagen     2016 Volkswagen Touareg TDI Lux  64426     4.4   \n",
       "5          Toyota        2022 Toyota Corolla Cross LE   1754     4.6   \n",
       "6             BMW                      2019 BMW 540 i  13044     4.5   \n",
       "...           ...                                 ...     ...    ...   \n",
       "10117         Kia                   2018 Kia Forte LX  39169     4.8   \n",
       "10118         GMC                 2021 GMC Acadia SLE  13968     4.6   \n",
       "10119   Chevrolet  2020 Chevrolet Traverse LT Leather  24085     3.4   \n",
       "10120       Dodge              2020 Dodge Durango SXT  34474     3.0   \n",
       "10121       Honda               2020 Honda Pilot EX-L  48301     4.9   \n",
       "\n",
       "      Rating-Count  Price  Year Status  \n",
       "1              23   28592  2018   Good  \n",
       "3             359   39958  2020   Good  \n",
       "4             313   31586  2016  Great  \n",
       "5            1243   35000  2022  Great  \n",
       "6             363   45495  2019   Good  \n",
       "...            ...    ...   ...    ...  \n",
       "10117        2765   21000  2018   Fair  \n",
       "10118          25   28600  2021   Good  \n",
       "10119         894   36988  2020  Great  \n",
       "10120         888   31995  2020   Good  \n",
       "10121        8291   34898  2020   Good  \n",
       "\n",
       "[8937 rows x 8 columns]"
      ]
     },
     "execution_count": 15,
     "metadata": {},
     "output_type": "execute_result"
    }
   ],
   "source": [
    "new_df"
   ]
  },
  {
   "cell_type": "code",
   "execution_count": 16,
   "metadata": {},
   "outputs": [],
   "source": [
    "new_df = new_df[new_df['Price'] != 'Not Priced']"
   ]
  },
  {
   "cell_type": "code",
   "execution_count": 17,
   "metadata": {},
   "outputs": [
    {
     "data": {
      "text/html": [
       "<div>\n",
       "<style scoped>\n",
       "    .dataframe tbody tr th:only-of-type {\n",
       "        vertical-align: middle;\n",
       "    }\n",
       "\n",
       "    .dataframe tbody tr th {\n",
       "        vertical-align: top;\n",
       "    }\n",
       "\n",
       "    .dataframe thead th {\n",
       "        text-align: right;\n",
       "    }\n",
       "</style>\n",
       "<table border=\"1\" class=\"dataframe\">\n",
       "  <thead>\n",
       "    <tr style=\"text-align: right;\">\n",
       "      <th></th>\n",
       "      <th>Name</th>\n",
       "      <th>Vehicle_details</th>\n",
       "      <th>Mileage</th>\n",
       "      <th>Rating</th>\n",
       "      <th>Rating-Count</th>\n",
       "      <th>Price</th>\n",
       "      <th>Year</th>\n",
       "      <th>Status</th>\n",
       "    </tr>\n",
       "  </thead>\n",
       "  <tbody>\n",
       "    <tr>\n",
       "      <th>1</th>\n",
       "      <td>Ford</td>\n",
       "      <td>2018 Ford Edge SEL</td>\n",
       "      <td>35115</td>\n",
       "      <td>4.5</td>\n",
       "      <td>23</td>\n",
       "      <td>28592</td>\n",
       "      <td>2018</td>\n",
       "      <td>Good</td>\n",
       "    </tr>\n",
       "    <tr>\n",
       "      <th>3</th>\n",
       "      <td>Acura</td>\n",
       "      <td>2020 Acura TLX V6 Advance</td>\n",
       "      <td>19097</td>\n",
       "      <td>5.0</td>\n",
       "      <td>359</td>\n",
       "      <td>39958</td>\n",
       "      <td>2020</td>\n",
       "      <td>Good</td>\n",
       "    </tr>\n",
       "    <tr>\n",
       "      <th>4</th>\n",
       "      <td>Volkswagen</td>\n",
       "      <td>2016 Volkswagen Touareg TDI Lux</td>\n",
       "      <td>64426</td>\n",
       "      <td>4.4</td>\n",
       "      <td>313</td>\n",
       "      <td>31586</td>\n",
       "      <td>2016</td>\n",
       "      <td>Great</td>\n",
       "    </tr>\n",
       "    <tr>\n",
       "      <th>5</th>\n",
       "      <td>Toyota</td>\n",
       "      <td>2022 Toyota Corolla Cross LE</td>\n",
       "      <td>1754</td>\n",
       "      <td>4.6</td>\n",
       "      <td>1243</td>\n",
       "      <td>35000</td>\n",
       "      <td>2022</td>\n",
       "      <td>Great</td>\n",
       "    </tr>\n",
       "    <tr>\n",
       "      <th>6</th>\n",
       "      <td>BMW</td>\n",
       "      <td>2019 BMW 540 i</td>\n",
       "      <td>13044</td>\n",
       "      <td>4.5</td>\n",
       "      <td>363</td>\n",
       "      <td>45495</td>\n",
       "      <td>2019</td>\n",
       "      <td>Good</td>\n",
       "    </tr>\n",
       "  </tbody>\n",
       "</table>\n",
       "</div>"
      ],
      "text/plain": [
       "         Name                  Vehicle_details Mileage Rating Rating-Count  \\\n",
       "1        Ford               2018 Ford Edge SEL  35115     4.5          23    \n",
       "3       Acura        2020 Acura TLX V6 Advance  19097     5.0         359    \n",
       "4  Volkswagen  2016 Volkswagen Touareg TDI Lux  64426     4.4         313    \n",
       "5      Toyota     2022 Toyota Corolla Cross LE   1754     4.6        1243    \n",
       "6         BMW                   2019 BMW 540 i  13044     4.5         363    \n",
       "\n",
       "   Price  Year Status  \n",
       "1  28592  2018   Good  \n",
       "3  39958  2020   Good  \n",
       "4  31586  2016  Great  \n",
       "5  35000  2022  Great  \n",
       "6  45495  2019   Good  "
      ]
     },
     "execution_count": 17,
     "metadata": {},
     "output_type": "execute_result"
    }
   ],
   "source": [
    "new_df.head()"
   ]
  },
  {
   "cell_type": "code",
   "execution_count": 18,
   "metadata": {},
   "outputs": [
    {
     "name": "stdout",
     "output_type": "stream",
     "text": [
      "<class 'pandas.core.frame.DataFrame'>\n",
      "Int64Index: 8929 entries, 1 to 10121\n",
      "Data columns (total 8 columns):\n",
      " #   Column           Non-Null Count  Dtype \n",
      "---  ------           --------------  ----- \n",
      " 0   Name             8929 non-null   object\n",
      " 1   Vehicle_details  8929 non-null   object\n",
      " 2   Mileage          8929 non-null   object\n",
      " 3   Rating           8929 non-null   object\n",
      " 4   Rating-Count     8929 non-null   object\n",
      " 5   Price            8929 non-null   object\n",
      " 6   Year             8929 non-null   int64 \n",
      " 7   Status           8929 non-null   object\n",
      "dtypes: int64(1), object(7)\n",
      "memory usage: 627.8+ KB\n"
     ]
    }
   ],
   "source": [
    "new_df.info()"
   ]
  },
  {
   "cell_type": "code",
   "execution_count": 19,
   "metadata": {},
   "outputs": [
    {
     "name": "stderr",
     "output_type": "stream",
     "text": [
      "<ipython-input-19-3b7fe51adb5a>:1: SettingWithCopyWarning: \n",
      "A value is trying to be set on a copy of a slice from a DataFrame.\n",
      "Try using .loc[row_indexer,col_indexer] = value instead\n",
      "\n",
      "See the caveats in the documentation: https://pandas.pydata.org/pandas-docs/stable/user_guide/indexing.html#returning-a-view-versus-a-copy\n",
      "  new_df['Mileage'] = new_df['Mileage'].astype(int)\n",
      "<ipython-input-19-3b7fe51adb5a>:2: SettingWithCopyWarning: \n",
      "A value is trying to be set on a copy of a slice from a DataFrame.\n",
      "Try using .loc[row_indexer,col_indexer] = value instead\n",
      "\n",
      "See the caveats in the documentation: https://pandas.pydata.org/pandas-docs/stable/user_guide/indexing.html#returning-a-view-versus-a-copy\n",
      "  new_df['Rating'] = new_df['Rating'].astype(float)\n",
      "<ipython-input-19-3b7fe51adb5a>:3: SettingWithCopyWarning: \n",
      "A value is trying to be set on a copy of a slice from a DataFrame.\n",
      "Try using .loc[row_indexer,col_indexer] = value instead\n",
      "\n",
      "See the caveats in the documentation: https://pandas.pydata.org/pandas-docs/stable/user_guide/indexing.html#returning-a-view-versus-a-copy\n",
      "  new_df['Rating-Count'] = new_df['Rating-Count'].astype(int)\n"
     ]
    }
   ],
   "source": [
    "new_df['Mileage'] = new_df['Mileage'].astype(int)\n",
    "new_df['Rating'] = new_df['Rating'].astype(float)\n",
    "new_df['Rating-Count'] = new_df['Rating-Count'].astype(int)\n",
    "\n",
    "\n",
    "\n"
   ]
  },
  {
   "cell_type": "code",
   "execution_count": 20,
   "metadata": {},
   "outputs": [
    {
     "name": "stderr",
     "output_type": "stream",
     "text": [
      "<ipython-input-20-521e3ad7774e>:1: SettingWithCopyWarning: \n",
      "A value is trying to be set on a copy of a slice from a DataFrame.\n",
      "Try using .loc[row_indexer,col_indexer] = value instead\n",
      "\n",
      "See the caveats in the documentation: https://pandas.pydata.org/pandas-docs/stable/user_guide/indexing.html#returning-a-view-versus-a-copy\n",
      "  new_df['Price'] = new_df['Price'].astype(float)\n"
     ]
    }
   ],
   "source": [
    "new_df['Price'] = new_df['Price'].astype(float)"
   ]
  },
  {
   "cell_type": "code",
   "execution_count": 21,
   "metadata": {},
   "outputs": [
    {
     "name": "stdout",
     "output_type": "stream",
     "text": [
      "<class 'pandas.core.frame.DataFrame'>\n",
      "Int64Index: 8929 entries, 1 to 10121\n",
      "Data columns (total 8 columns):\n",
      " #   Column           Non-Null Count  Dtype  \n",
      "---  ------           --------------  -----  \n",
      " 0   Name             8929 non-null   object \n",
      " 1   Vehicle_details  8929 non-null   object \n",
      " 2   Mileage          8929 non-null   int64  \n",
      " 3   Rating           8929 non-null   float64\n",
      " 4   Rating-Count     8929 non-null   int64  \n",
      " 5   Price            8929 non-null   float64\n",
      " 6   Year             8929 non-null   int64  \n",
      " 7   Status           8929 non-null   object \n",
      "dtypes: float64(2), int64(3), object(3)\n",
      "memory usage: 627.8+ KB\n"
     ]
    }
   ],
   "source": [
    "new_df.info()"
   ]
  },
  {
   "cell_type": "code",
   "execution_count": 22,
   "metadata": {},
   "outputs": [
    {
     "data": {
      "text/html": [
       "<div>\n",
       "<style scoped>\n",
       "    .dataframe tbody tr th:only-of-type {\n",
       "        vertical-align: middle;\n",
       "    }\n",
       "\n",
       "    .dataframe tbody tr th {\n",
       "        vertical-align: top;\n",
       "    }\n",
       "\n",
       "    .dataframe thead th {\n",
       "        text-align: right;\n",
       "    }\n",
       "</style>\n",
       "<table border=\"1\" class=\"dataframe\">\n",
       "  <thead>\n",
       "    <tr style=\"text-align: right;\">\n",
       "      <th></th>\n",
       "      <th>Name</th>\n",
       "      <th>Vehicle_details</th>\n",
       "      <th>Mileage</th>\n",
       "      <th>Rating</th>\n",
       "      <th>Rating-Count</th>\n",
       "      <th>Price</th>\n",
       "      <th>Year</th>\n",
       "      <th>Status</th>\n",
       "    </tr>\n",
       "  </thead>\n",
       "  <tbody>\n",
       "    <tr>\n",
       "      <th>1</th>\n",
       "      <td>Ford</td>\n",
       "      <td>2018 Ford Edge SEL</td>\n",
       "      <td>35115</td>\n",
       "      <td>4.5</td>\n",
       "      <td>23</td>\n",
       "      <td>28592.0</td>\n",
       "      <td>2018</td>\n",
       "      <td>Good</td>\n",
       "    </tr>\n",
       "    <tr>\n",
       "      <th>3</th>\n",
       "      <td>Acura</td>\n",
       "      <td>2020 Acura TLX V6 Advance</td>\n",
       "      <td>19097</td>\n",
       "      <td>5.0</td>\n",
       "      <td>359</td>\n",
       "      <td>39958.0</td>\n",
       "      <td>2020</td>\n",
       "      <td>Good</td>\n",
       "    </tr>\n",
       "    <tr>\n",
       "      <th>4</th>\n",
       "      <td>Volkswagen</td>\n",
       "      <td>2016 Volkswagen Touareg TDI Lux</td>\n",
       "      <td>64426</td>\n",
       "      <td>4.4</td>\n",
       "      <td>313</td>\n",
       "      <td>31586.0</td>\n",
       "      <td>2016</td>\n",
       "      <td>Great</td>\n",
       "    </tr>\n",
       "    <tr>\n",
       "      <th>5</th>\n",
       "      <td>Toyota</td>\n",
       "      <td>2022 Toyota Corolla Cross LE</td>\n",
       "      <td>1754</td>\n",
       "      <td>4.6</td>\n",
       "      <td>1243</td>\n",
       "      <td>35000.0</td>\n",
       "      <td>2022</td>\n",
       "      <td>Great</td>\n",
       "    </tr>\n",
       "    <tr>\n",
       "      <th>6</th>\n",
       "      <td>BMW</td>\n",
       "      <td>2019 BMW 540 i</td>\n",
       "      <td>13044</td>\n",
       "      <td>4.5</td>\n",
       "      <td>363</td>\n",
       "      <td>45495.0</td>\n",
       "      <td>2019</td>\n",
       "      <td>Good</td>\n",
       "    </tr>\n",
       "  </tbody>\n",
       "</table>\n",
       "</div>"
      ],
      "text/plain": [
       "         Name                  Vehicle_details  Mileage  Rating  Rating-Count  \\\n",
       "1        Ford               2018 Ford Edge SEL    35115     4.5            23   \n",
       "3       Acura        2020 Acura TLX V6 Advance    19097     5.0           359   \n",
       "4  Volkswagen  2016 Volkswagen Touareg TDI Lux    64426     4.4           313   \n",
       "5      Toyota     2022 Toyota Corolla Cross LE     1754     4.6          1243   \n",
       "6         BMW                   2019 BMW 540 i    13044     4.5           363   \n",
       "\n",
       "     Price  Year Status  \n",
       "1  28592.0  2018   Good  \n",
       "3  39958.0  2020   Good  \n",
       "4  31586.0  2016  Great  \n",
       "5  35000.0  2022  Great  \n",
       "6  45495.0  2019   Good  "
      ]
     },
     "execution_count": 22,
     "metadata": {},
     "output_type": "execute_result"
    }
   ],
   "source": [
    "new_df.head()"
   ]
  },
  {
   "cell_type": "code",
   "execution_count": null,
   "metadata": {},
   "outputs": [],
   "source": []
  },
  {
   "cell_type": "code",
   "execution_count": 23,
   "metadata": {},
   "outputs": [],
   "source": [
    "yr = new_df['Year'].iloc[:8937]"
   ]
  },
  {
   "cell_type": "code",
   "execution_count": 24,
   "metadata": {},
   "outputs": [
    {
     "data": {
      "text/plain": [
       "1        2018\n",
       "3        2020\n",
       "4        2016\n",
       "5        2022\n",
       "6        2019\n",
       "         ... \n",
       "10117    2018\n",
       "10118    2021\n",
       "10119    2020\n",
       "10120    2020\n",
       "10121    2020\n",
       "Name: Year, Length: 8929, dtype: int64"
      ]
     },
     "execution_count": 24,
     "metadata": {},
     "output_type": "execute_result"
    }
   ],
   "source": [
    "yr"
   ]
  },
  {
   "cell_type": "code",
   "execution_count": 25,
   "metadata": {},
   "outputs": [],
   "source": [
    "car = new_df['Name'].iloc[:8937]"
   ]
  },
  {
   "cell_type": "code",
   "execution_count": 26,
   "metadata": {},
   "outputs": [
    {
     "name": "stderr",
     "output_type": "stream",
     "text": [
      "<ipython-input-26-5bc7cf78f20b>:4: SettingWithCopyWarning: \n",
      "A value is trying to be set on a copy of a slice from a DataFrame.\n",
      "Try using .loc[row_indexer,col_indexer] = value instead\n",
      "\n",
      "See the caveats in the documentation: https://pandas.pydata.org/pandas-docs/stable/user_guide/indexing.html#returning-a-view-versus-a-copy\n",
      "  new_df['details'] =  new_df['Vehicle_details'].apply(lambda x : x.strip(str(n)))\n"
     ]
    }
   ],
   "source": [
    "for n in yr:\n",
    "    #for m in car:\n",
    "    \n",
    "        new_df['details'] =  new_df['Vehicle_details'].apply(lambda x : x.strip(str(n)))"
   ]
  },
  {
   "cell_type": "code",
   "execution_count": 27,
   "metadata": {},
   "outputs": [
    {
     "data": {
      "text/html": [
       "<div>\n",
       "<style scoped>\n",
       "    .dataframe tbody tr th:only-of-type {\n",
       "        vertical-align: middle;\n",
       "    }\n",
       "\n",
       "    .dataframe tbody tr th {\n",
       "        vertical-align: top;\n",
       "    }\n",
       "\n",
       "    .dataframe thead th {\n",
       "        text-align: right;\n",
       "    }\n",
       "</style>\n",
       "<table border=\"1\" class=\"dataframe\">\n",
       "  <thead>\n",
       "    <tr style=\"text-align: right;\">\n",
       "      <th></th>\n",
       "      <th>Name</th>\n",
       "      <th>Vehicle_details</th>\n",
       "      <th>Mileage</th>\n",
       "      <th>Rating</th>\n",
       "      <th>Rating-Count</th>\n",
       "      <th>Price</th>\n",
       "      <th>Year</th>\n",
       "      <th>Status</th>\n",
       "      <th>details</th>\n",
       "    </tr>\n",
       "  </thead>\n",
       "  <tbody>\n",
       "    <tr>\n",
       "      <th>1</th>\n",
       "      <td>Ford</td>\n",
       "      <td>2018 Ford Edge SEL</td>\n",
       "      <td>35115</td>\n",
       "      <td>4.5</td>\n",
       "      <td>23</td>\n",
       "      <td>28592.0</td>\n",
       "      <td>2018</td>\n",
       "      <td>Good</td>\n",
       "      <td>18 Ford Edge SEL</td>\n",
       "    </tr>\n",
       "    <tr>\n",
       "      <th>3</th>\n",
       "      <td>Acura</td>\n",
       "      <td>2020 Acura TLX V6 Advance</td>\n",
       "      <td>19097</td>\n",
       "      <td>5.0</td>\n",
       "      <td>359</td>\n",
       "      <td>39958.0</td>\n",
       "      <td>2020</td>\n",
       "      <td>Good</td>\n",
       "      <td>Acura TLX V6 Advance</td>\n",
       "    </tr>\n",
       "    <tr>\n",
       "      <th>4</th>\n",
       "      <td>Volkswagen</td>\n",
       "      <td>2016 Volkswagen Touareg TDI Lux</td>\n",
       "      <td>64426</td>\n",
       "      <td>4.4</td>\n",
       "      <td>313</td>\n",
       "      <td>31586.0</td>\n",
       "      <td>2016</td>\n",
       "      <td>Great</td>\n",
       "      <td>16 Volkswagen Touareg TDI Lux</td>\n",
       "    </tr>\n",
       "    <tr>\n",
       "      <th>5</th>\n",
       "      <td>Toyota</td>\n",
       "      <td>2022 Toyota Corolla Cross LE</td>\n",
       "      <td>1754</td>\n",
       "      <td>4.6</td>\n",
       "      <td>1243</td>\n",
       "      <td>35000.0</td>\n",
       "      <td>2022</td>\n",
       "      <td>Great</td>\n",
       "      <td>Toyota Corolla Cross LE</td>\n",
       "    </tr>\n",
       "    <tr>\n",
       "      <th>6</th>\n",
       "      <td>BMW</td>\n",
       "      <td>2019 BMW 540 i</td>\n",
       "      <td>13044</td>\n",
       "      <td>4.5</td>\n",
       "      <td>363</td>\n",
       "      <td>45495.0</td>\n",
       "      <td>2019</td>\n",
       "      <td>Good</td>\n",
       "      <td>19 BMW 540 i</td>\n",
       "    </tr>\n",
       "  </tbody>\n",
       "</table>\n",
       "</div>"
      ],
      "text/plain": [
       "         Name                  Vehicle_details  Mileage  Rating  Rating-Count  \\\n",
       "1        Ford               2018 Ford Edge SEL    35115     4.5            23   \n",
       "3       Acura        2020 Acura TLX V6 Advance    19097     5.0           359   \n",
       "4  Volkswagen  2016 Volkswagen Touareg TDI Lux    64426     4.4           313   \n",
       "5      Toyota     2022 Toyota Corolla Cross LE     1754     4.6          1243   \n",
       "6         BMW                   2019 BMW 540 i    13044     4.5           363   \n",
       "\n",
       "     Price  Year Status                        details  \n",
       "1  28592.0  2018   Good               18 Ford Edge SEL  \n",
       "3  39958.0  2020   Good           Acura TLX V6 Advance  \n",
       "4  31586.0  2016  Great  16 Volkswagen Touareg TDI Lux  \n",
       "5  35000.0  2022  Great        Toyota Corolla Cross LE  \n",
       "6  45495.0  2019   Good                   19 BMW 540 i  "
      ]
     },
     "execution_count": 27,
     "metadata": {},
     "output_type": "execute_result"
    }
   ],
   "source": [
    "new_df.head()"
   ]
  },
  {
   "cell_type": "code",
   "execution_count": 28,
   "metadata": {},
   "outputs": [
    {
     "data": {
      "text/plain": [
       " RAM 1500 Big Horn                          64\n",
       " Ford F-150 XLT                             60\n",
       "1 RAM 1500 Big Horn                         46\n",
       " Toyota Tundra SR5                          42\n",
       " BMW X7 xDrive40i                           32\n",
       "                                            ..\n",
       " Porsche 911 Carrera 4                       1\n",
       "19 Subaru WRX S209                           1\n",
       "18 Chrysler Pacifica Touring-L               1\n",
       "19 Volkswagen Atlas 2.0T SE w/Technology     1\n",
       "18 Kia Forte LX                              1\n",
       "Name: details, Length: 2878, dtype: int64"
      ]
     },
     "execution_count": 28,
     "metadata": {},
     "output_type": "execute_result"
    }
   ],
   "source": [
    "new_df['details'].value_counts()"
   ]
  },
  {
   "cell_type": "code",
   "execution_count": 29,
   "metadata": {},
   "outputs": [
    {
     "name": "stderr",
     "output_type": "stream",
     "text": [
      "<ipython-input-29-44bf0b82a99e>:1: SettingWithCopyWarning: \n",
      "A value is trying to be set on a copy of a slice from a DataFrame.\n",
      "Try using .loc[row_indexer,col_indexer] = value instead\n",
      "\n",
      "See the caveats in the documentation: https://pandas.pydata.org/pandas-docs/stable/user_guide/indexing.html#returning-a-view-versus-a-copy\n",
      "  new_df['model_details'] = new_df['details'].str.replace('1 RAM 1500 Big Horn', ' RAM 1500 Big Horn')\n"
     ]
    }
   ],
   "source": [
    "new_df['model_details'] = new_df['details'].str.replace('1 RAM 1500 Big Horn', ' RAM 1500 Big Horn')"
   ]
  },
  {
   "cell_type": "code",
   "execution_count": 30,
   "metadata": {},
   "outputs": [
    {
     "data": {
      "text/plain": [
       " RAM 1500 Big Horn                          110\n",
       " Ford F-150 XLT                              60\n",
       " Toyota Tundra SR5                           42\n",
       " BMW X7 xDrive40i                            32\n",
       " Ford Explorer XLT                           31\n",
       "                                           ... \n",
       " Porsche 911 Carrera 4                        1\n",
       "19 Subaru WRX S209                            1\n",
       "18 Chrysler Pacifica Touring-L                1\n",
       "19 Volkswagen Atlas 2.0T SE w/Technology      1\n",
       "18 Kia Forte LX                               1\n",
       "Name: model_details, Length: 2876, dtype: int64"
      ]
     },
     "execution_count": 30,
     "metadata": {},
     "output_type": "execute_result"
    }
   ],
   "source": [
    "new_df['model_details'].value_counts()"
   ]
  },
  {
   "cell_type": "code",
   "execution_count": 31,
   "metadata": {},
   "outputs": [
    {
     "data": {
      "text/html": [
       "<div>\n",
       "<style scoped>\n",
       "    .dataframe tbody tr th:only-of-type {\n",
       "        vertical-align: middle;\n",
       "    }\n",
       "\n",
       "    .dataframe tbody tr th {\n",
       "        vertical-align: top;\n",
       "    }\n",
       "\n",
       "    .dataframe thead th {\n",
       "        text-align: right;\n",
       "    }\n",
       "</style>\n",
       "<table border=\"1\" class=\"dataframe\">\n",
       "  <thead>\n",
       "    <tr style=\"text-align: right;\">\n",
       "      <th></th>\n",
       "      <th>Name</th>\n",
       "      <th>Vehicle_details</th>\n",
       "      <th>Mileage</th>\n",
       "      <th>Rating</th>\n",
       "      <th>Rating-Count</th>\n",
       "      <th>Price</th>\n",
       "      <th>Year</th>\n",
       "      <th>Status</th>\n",
       "      <th>details</th>\n",
       "      <th>model_details</th>\n",
       "    </tr>\n",
       "  </thead>\n",
       "  <tbody>\n",
       "    <tr>\n",
       "      <th>1</th>\n",
       "      <td>Ford</td>\n",
       "      <td>2018 Ford Edge SEL</td>\n",
       "      <td>35115</td>\n",
       "      <td>4.5</td>\n",
       "      <td>23</td>\n",
       "      <td>28592.0</td>\n",
       "      <td>2018</td>\n",
       "      <td>Good</td>\n",
       "      <td>18 Ford Edge SEL</td>\n",
       "      <td>18 Ford Edge SEL</td>\n",
       "    </tr>\n",
       "    <tr>\n",
       "      <th>3</th>\n",
       "      <td>Acura</td>\n",
       "      <td>2020 Acura TLX V6 Advance</td>\n",
       "      <td>19097</td>\n",
       "      <td>5.0</td>\n",
       "      <td>359</td>\n",
       "      <td>39958.0</td>\n",
       "      <td>2020</td>\n",
       "      <td>Good</td>\n",
       "      <td>Acura TLX V6 Advance</td>\n",
       "      <td>Acura TLX V6 Advance</td>\n",
       "    </tr>\n",
       "    <tr>\n",
       "      <th>4</th>\n",
       "      <td>Volkswagen</td>\n",
       "      <td>2016 Volkswagen Touareg TDI Lux</td>\n",
       "      <td>64426</td>\n",
       "      <td>4.4</td>\n",
       "      <td>313</td>\n",
       "      <td>31586.0</td>\n",
       "      <td>2016</td>\n",
       "      <td>Great</td>\n",
       "      <td>16 Volkswagen Touareg TDI Lux</td>\n",
       "      <td>16 Volkswagen Touareg TDI Lux</td>\n",
       "    </tr>\n",
       "    <tr>\n",
       "      <th>5</th>\n",
       "      <td>Toyota</td>\n",
       "      <td>2022 Toyota Corolla Cross LE</td>\n",
       "      <td>1754</td>\n",
       "      <td>4.6</td>\n",
       "      <td>1243</td>\n",
       "      <td>35000.0</td>\n",
       "      <td>2022</td>\n",
       "      <td>Great</td>\n",
       "      <td>Toyota Corolla Cross LE</td>\n",
       "      <td>Toyota Corolla Cross LE</td>\n",
       "    </tr>\n",
       "    <tr>\n",
       "      <th>6</th>\n",
       "      <td>BMW</td>\n",
       "      <td>2019 BMW 540 i</td>\n",
       "      <td>13044</td>\n",
       "      <td>4.5</td>\n",
       "      <td>363</td>\n",
       "      <td>45495.0</td>\n",
       "      <td>2019</td>\n",
       "      <td>Good</td>\n",
       "      <td>19 BMW 540 i</td>\n",
       "      <td>19 BMW 540 i</td>\n",
       "    </tr>\n",
       "  </tbody>\n",
       "</table>\n",
       "</div>"
      ],
      "text/plain": [
       "         Name                  Vehicle_details  Mileage  Rating  Rating-Count  \\\n",
       "1        Ford               2018 Ford Edge SEL    35115     4.5            23   \n",
       "3       Acura        2020 Acura TLX V6 Advance    19097     5.0           359   \n",
       "4  Volkswagen  2016 Volkswagen Touareg TDI Lux    64426     4.4           313   \n",
       "5      Toyota     2022 Toyota Corolla Cross LE     1754     4.6          1243   \n",
       "6         BMW                   2019 BMW 540 i    13044     4.5           363   \n",
       "\n",
       "     Price  Year Status                        details  \\\n",
       "1  28592.0  2018   Good               18 Ford Edge SEL   \n",
       "3  39958.0  2020   Good           Acura TLX V6 Advance   \n",
       "4  31586.0  2016  Great  16 Volkswagen Touareg TDI Lux   \n",
       "5  35000.0  2022  Great        Toyota Corolla Cross LE   \n",
       "6  45495.0  2019   Good                   19 BMW 540 i   \n",
       "\n",
       "                   model_details  \n",
       "1               18 Ford Edge SEL  \n",
       "3           Acura TLX V6 Advance  \n",
       "4  16 Volkswagen Touareg TDI Lux  \n",
       "5        Toyota Corolla Cross LE  \n",
       "6                   19 BMW 540 i  "
      ]
     },
     "execution_count": 31,
     "metadata": {},
     "output_type": "execute_result"
    }
   ],
   "source": [
    "new_df.head()"
   ]
  },
  {
   "cell_type": "code",
   "execution_count": 32,
   "metadata": {},
   "outputs": [],
   "source": [
    "features = ['Mileage','Rating','Rating-Count','Year','Price','Name','Status','model_details']\n",
    "final_df = new_df[features]"
   ]
  },
  {
   "cell_type": "code",
   "execution_count": 120,
   "metadata": {},
   "outputs": [
    {
     "data": {
      "text/html": [
       "<div>\n",
       "<style scoped>\n",
       "    .dataframe tbody tr th:only-of-type {\n",
       "        vertical-align: middle;\n",
       "    }\n",
       "\n",
       "    .dataframe tbody tr th {\n",
       "        vertical-align: top;\n",
       "    }\n",
       "\n",
       "    .dataframe thead th {\n",
       "        text-align: right;\n",
       "    }\n",
       "</style>\n",
       "<table border=\"1\" class=\"dataframe\">\n",
       "  <thead>\n",
       "    <tr style=\"text-align: right;\">\n",
       "      <th></th>\n",
       "      <th>Mileage</th>\n",
       "      <th>Rating</th>\n",
       "      <th>Rating-Count</th>\n",
       "      <th>Year</th>\n",
       "      <th>Price</th>\n",
       "      <th>Name</th>\n",
       "      <th>Status</th>\n",
       "      <th>model_details</th>\n",
       "    </tr>\n",
       "  </thead>\n",
       "  <tbody>\n",
       "    <tr>\n",
       "      <th>1</th>\n",
       "      <td>35115</td>\n",
       "      <td>4.5</td>\n",
       "      <td>23</td>\n",
       "      <td>2018</td>\n",
       "      <td>28592.0</td>\n",
       "      <td>Ford</td>\n",
       "      <td>Good</td>\n",
       "      <td>18 Ford Edge SEL</td>\n",
       "    </tr>\n",
       "    <tr>\n",
       "      <th>3</th>\n",
       "      <td>19097</td>\n",
       "      <td>5.0</td>\n",
       "      <td>359</td>\n",
       "      <td>2020</td>\n",
       "      <td>39958.0</td>\n",
       "      <td>Acura</td>\n",
       "      <td>Good</td>\n",
       "      <td>Acura TLX V6 Advance</td>\n",
       "    </tr>\n",
       "    <tr>\n",
       "      <th>4</th>\n",
       "      <td>64426</td>\n",
       "      <td>4.4</td>\n",
       "      <td>313</td>\n",
       "      <td>2016</td>\n",
       "      <td>31586.0</td>\n",
       "      <td>Volkswagen</td>\n",
       "      <td>Great</td>\n",
       "      <td>16 Volkswagen Touareg TDI Lux</td>\n",
       "    </tr>\n",
       "    <tr>\n",
       "      <th>5</th>\n",
       "      <td>1754</td>\n",
       "      <td>4.6</td>\n",
       "      <td>1243</td>\n",
       "      <td>2022</td>\n",
       "      <td>35000.0</td>\n",
       "      <td>Toyota</td>\n",
       "      <td>Great</td>\n",
       "      <td>Toyota Corolla Cross LE</td>\n",
       "    </tr>\n",
       "    <tr>\n",
       "      <th>6</th>\n",
       "      <td>13044</td>\n",
       "      <td>4.5</td>\n",
       "      <td>363</td>\n",
       "      <td>2019</td>\n",
       "      <td>45495.0</td>\n",
       "      <td>BMW</td>\n",
       "      <td>Good</td>\n",
       "      <td>19 BMW 540 i</td>\n",
       "    </tr>\n",
       "  </tbody>\n",
       "</table>\n",
       "</div>"
      ],
      "text/plain": [
       "   Mileage  Rating  Rating-Count  Year    Price        Name Status  \\\n",
       "1    35115     4.5            23  2018  28592.0        Ford   Good   \n",
       "3    19097     5.0           359  2020  39958.0       Acura   Good   \n",
       "4    64426     4.4           313  2016  31586.0  Volkswagen  Great   \n",
       "5     1754     4.6          1243  2022  35000.0      Toyota  Great   \n",
       "6    13044     4.5           363  2019  45495.0         BMW   Good   \n",
       "\n",
       "                   model_details  \n",
       "1               18 Ford Edge SEL  \n",
       "3           Acura TLX V6 Advance  \n",
       "4  16 Volkswagen Touareg TDI Lux  \n",
       "5        Toyota Corolla Cross LE  \n",
       "6                   19 BMW 540 i  "
      ]
     },
     "execution_count": 120,
     "metadata": {},
     "output_type": "execute_result"
    }
   ],
   "source": [
    "final_df.head()"
   ]
  },
  {
   "cell_type": "code",
   "execution_count": 121,
   "metadata": {},
   "outputs": [
    {
     "data": {
      "text/plain": [
       "(8929, 8)"
      ]
     },
     "execution_count": 121,
     "metadata": {},
     "output_type": "execute_result"
    }
   ],
   "source": [
    "final_df.shape"
   ]
  },
  {
   "cell_type": "code",
   "execution_count": 118,
   "metadata": {},
   "outputs": [],
   "source": [
    "#final_df.to_csv('cars_model.csv')"
   ]
  },
  {
   "cell_type": "code",
   "execution_count": 34,
   "metadata": {},
   "outputs": [
    {
     "name": "stderr",
     "output_type": "stream",
     "text": [
      "<ipython-input-34-9aa4a1c182dc>:1: FutureWarning: The default value of numeric_only in DataFrame.corr is deprecated. In a future version, it will default to False. Select only valid columns or specify the value of numeric_only to silence this warning.\n",
      "  heat_mp = final_df.corr()\n"
     ]
    }
   ],
   "source": [
    "heat_mp = final_df.corr()"
   ]
  },
  {
   "cell_type": "code",
   "execution_count": 35,
   "metadata": {},
   "outputs": [
    {
     "data": {
      "image/png": "[encoded data removed]",
      "text/plain": [
       "<Figure size 1200x800 with 2 Axes>"
      ]
     },
     "metadata": {},
     "output_type": "display_data"
    }
   ],
   "source": [
    "plt.figure(figsize=(12,8))\n",
    "sns.heatmap(heat_mp,annot=True, cmap=\"Blues\")\n",
    "plt.show()"
   ]
  },
  {
   "cell_type": "markdown",
   "metadata": {},
   "source": [
    "## Modelling"
   ]
  },
  {
   "cell_type": "code",
   "execution_count": 36,
   "metadata": {},
   "outputs": [],
   "source": [
    "numerical = ['Mileage','Rating','Rating-Count','Year','Price']\n",
    "categorical = ['Name','Status','model_details']"
   ]
  },
  {
   "cell_type": "markdown",
   "metadata": {},
   "source": [
    "## Base Model"
   ]
  },
  {
   "cell_type": "markdown",
   "metadata": {},
   "source": [
    "### Define the target variables and the predictors"
   ]
  },
  {
   "cell_type": "code",
   "execution_count": 37,
   "metadata": {},
   "outputs": [],
   "source": [
    "X = final_df.drop(columns=['Price'])\n",
    "y= final_df['Price']"
   ]
  },
  {
   "cell_type": "markdown",
   "metadata": {},
   "source": [
    "## Doing Train-Test-Split"
   ]
  },
  {
   "cell_type": "code",
   "execution_count": 38,
   "metadata": {},
   "outputs": [],
   "source": [
    "X_train, X_test, y_train, y_test = train_test_split(X,y, test_size = 0.3, random_state = 42)\n"
   ]
  },
  {
   "cell_type": "code",
   "execution_count": 39,
   "metadata": {},
   "outputs": [
    {
     "data": {
      "text/plain": [
       "(6250, 7)"
      ]
     },
     "execution_count": 39,
     "metadata": {},
     "output_type": "execute_result"
    }
   ],
   "source": [
    "X_train.shape"
   ]
  },
  {
   "cell_type": "code",
   "execution_count": 40,
   "metadata": {},
   "outputs": [
    {
     "data": {
      "text/plain": [
       "(6250,)"
      ]
     },
     "execution_count": 40,
     "metadata": {},
     "output_type": "execute_result"
    }
   ],
   "source": [
    "y_train.shape"
   ]
  },
  {
   "cell_type": "code",
   "execution_count": 41,
   "metadata": {},
   "outputs": [
    {
     "data": {
      "text/plain": [
       "(2679, 7)"
      ]
     },
     "execution_count": 41,
     "metadata": {},
     "output_type": "execute_result"
    }
   ],
   "source": [
    "X_test.shape"
   ]
  },
  {
   "cell_type": "code",
   "execution_count": 42,
   "metadata": {},
   "outputs": [
    {
     "data": {
      "text/plain": [
       "(2679,)"
      ]
     },
     "execution_count": 42,
     "metadata": {},
     "output_type": "execute_result"
    }
   ],
   "source": [
    "y_test.shape"
   ]
  },
  {
   "cell_type": "code",
   "execution_count": 43,
   "metadata": {},
   "outputs": [
    {
     "data": {
      "image/png": "[encoded data removed]",
      "text/plain": [
       "<Figure size 1500x1200 with 4 Axes>"
      ]
     },
     "metadata": {},
     "output_type": "display_data"
    }
   ],
   "source": [
    "# check distribution of features\n",
    "X_train.hist(figsize = [15,12], bins = 'auto')\n",
    "plt.show()"
   ]
  },
  {
   "cell_type": "markdown",
   "metadata": {},
   "source": [
    "### Defining the seperate pipelines for numeric and categorical features"
   ]
  },
  {
   "cell_type": "code",
   "execution_count": 44,
   "metadata": {},
   "outputs": [],
   "source": [
    "numeric_pipeline = Pipeline([#('numimputer', SimpleImputer(strategy = 'mean')), \n",
    "                             ('numnorm', StandardScaler())])\n",
    "categorical_pipeline = Pipeline([#('onehotimputer', SimpleImputer(strategy = 'most_frequent')),\n",
    "    ('onehotenc', OneHotEncoder(sparse = False, handle_unknown = 'ignore')),\n",
    "    ('onehotnorm', MaxAbsScaler())])"
   ]
  },
  {
   "cell_type": "code",
   "execution_count": 45,
   "metadata": {},
   "outputs": [],
   "source": [
    "num_cols = X_train.select_dtypes(['int', 'float']).columns\n",
    "cat_cols = X_train.select_dtypes(['object']).columns"
   ]
  },
  {
   "cell_type": "code",
   "execution_count": 46,
   "metadata": {},
   "outputs": [],
   "source": [
    "ct = ColumnTransformer(\n",
    "    [(\"categorical_pipeline\", categorical_pipeline, cat_cols),\n",
    "     (\"numeric_pipeline\", numeric_pipeline, num_cols)])"
   ]
  },
  {
   "cell_type": "code",
   "execution_count": 47,
   "metadata": {},
   "outputs": [
    {
     "data": {
      "text/plain": [
       "ColumnTransformer(transformers=[('categorical_pipeline',\n",
       "                                 Pipeline(steps=[('onehotenc',\n",
       "                                                  OneHotEncoder(handle_unknown='ignore',\n",
       "                                                                sparse=False)),\n",
       "                                                 ('onehotnorm',\n",
       "                                                  MaxAbsScaler())]),\n",
       "                                 Index(['Name', 'Status', 'model_details'], dtype='object')),\n",
       "                                ('numeric_pipeline',\n",
       "                                 Pipeline(steps=[('numnorm',\n",
       "                                                  StandardScaler())]),\n",
       "                                 Index(['Mileage', 'Rating', 'Rating-Count', 'Year'], dtype='object'))])"
      ]
     },
     "execution_count": 47,
     "metadata": {},
     "output_type": "execute_result"
    }
   ],
   "source": [
    "ct"
   ]
  },
  {
   "cell_type": "markdown",
   "metadata": {},
   "source": [
    "### Viewing the transformed data"
   ]
  },
  {
   "cell_type": "code",
   "execution_count": 48,
   "metadata": {},
   "outputs": [],
   "source": [
    "md_xtrain = pd.DataFrame(ct.fit_transform(X_train))"
   ]
  },
  {
   "cell_type": "code",
   "execution_count": 49,
   "metadata": {},
   "outputs": [
    {
     "data": {
      "text/html": [
       "<div>\n",
       "<style scoped>\n",
       "    .dataframe tbody tr th:only-of-type {\n",
       "        vertical-align: middle;\n",
       "    }\n",
       "\n",
       "    .dataframe tbody tr th {\n",
       "        vertical-align: top;\n",
       "    }\n",
       "\n",
       "    .dataframe thead th {\n",
       "        text-align: right;\n",
       "    }\n",
       "</style>\n",
       "<table border=\"1\" class=\"dataframe\">\n",
       "  <thead>\n",
       "    <tr style=\"text-align: right;\">\n",
       "      <th></th>\n",
       "      <th>0</th>\n",
       "      <th>1</th>\n",
       "      <th>2</th>\n",
       "      <th>3</th>\n",
       "      <th>4</th>\n",
       "      <th>5</th>\n",
       "      <th>6</th>\n",
       "      <th>7</th>\n",
       "      <th>8</th>\n",
       "      <th>9</th>\n",
       "      <th>...</th>\n",
       "      <th>2460</th>\n",
       "      <th>2461</th>\n",
       "      <th>2462</th>\n",
       "      <th>2463</th>\n",
       "      <th>2464</th>\n",
       "      <th>2465</th>\n",
       "      <th>2466</th>\n",
       "      <th>2467</th>\n",
       "      <th>2468</th>\n",
       "      <th>2469</th>\n",
       "    </tr>\n",
       "  </thead>\n",
       "  <tbody>\n",
       "    <tr>\n",
       "      <th>0</th>\n",
       "      <td>0.0</td>\n",
       "      <td>0.0</td>\n",
       "      <td>0.0</td>\n",
       "      <td>0.0</td>\n",
       "      <td>0.0</td>\n",
       "      <td>0.0</td>\n",
       "      <td>0.0</td>\n",
       "      <td>1.0</td>\n",
       "      <td>0.0</td>\n",
       "      <td>0.0</td>\n",
       "      <td>...</td>\n",
       "      <td>0.0</td>\n",
       "      <td>0.0</td>\n",
       "      <td>0.0</td>\n",
       "      <td>0.0</td>\n",
       "      <td>0.0</td>\n",
       "      <td>0.0</td>\n",
       "      <td>1.081324</td>\n",
       "      <td>-0.520467</td>\n",
       "      <td>-0.680191</td>\n",
       "      <td>-0.922249</td>\n",
       "    </tr>\n",
       "    <tr>\n",
       "      <th>1</th>\n",
       "      <td>0.0</td>\n",
       "      <td>0.0</td>\n",
       "      <td>0.0</td>\n",
       "      <td>0.0</td>\n",
       "      <td>0.0</td>\n",
       "      <td>0.0</td>\n",
       "      <td>0.0</td>\n",
       "      <td>0.0</td>\n",
       "      <td>0.0</td>\n",
       "      <td>0.0</td>\n",
       "      <td>...</td>\n",
       "      <td>0.0</td>\n",
       "      <td>0.0</td>\n",
       "      <td>0.0</td>\n",
       "      <td>0.0</td>\n",
       "      <td>0.0</td>\n",
       "      <td>0.0</td>\n",
       "      <td>0.069473</td>\n",
       "      <td>0.690033</td>\n",
       "      <td>-0.219074</td>\n",
       "      <td>-0.210110</td>\n",
       "    </tr>\n",
       "    <tr>\n",
       "      <th>2</th>\n",
       "      <td>0.0</td>\n",
       "      <td>0.0</td>\n",
       "      <td>0.0</td>\n",
       "      <td>0.0</td>\n",
       "      <td>0.0</td>\n",
       "      <td>0.0</td>\n",
       "      <td>0.0</td>\n",
       "      <td>0.0</td>\n",
       "      <td>0.0</td>\n",
       "      <td>0.0</td>\n",
       "      <td>...</td>\n",
       "      <td>0.0</td>\n",
       "      <td>0.0</td>\n",
       "      <td>0.0</td>\n",
       "      <td>0.0</td>\n",
       "      <td>0.0</td>\n",
       "      <td>0.0</td>\n",
       "      <td>-0.589037</td>\n",
       "      <td>0.538721</td>\n",
       "      <td>-0.563132</td>\n",
       "      <td>0.502030</td>\n",
       "    </tr>\n",
       "    <tr>\n",
       "      <th>3</th>\n",
       "      <td>0.0</td>\n",
       "      <td>0.0</td>\n",
       "      <td>0.0</td>\n",
       "      <td>0.0</td>\n",
       "      <td>0.0</td>\n",
       "      <td>0.0</td>\n",
       "      <td>0.0</td>\n",
       "      <td>0.0</td>\n",
       "      <td>0.0</td>\n",
       "      <td>0.0</td>\n",
       "      <td>...</td>\n",
       "      <td>0.0</td>\n",
       "      <td>0.0</td>\n",
       "      <td>0.0</td>\n",
       "      <td>0.0</td>\n",
       "      <td>0.0</td>\n",
       "      <td>0.0</td>\n",
       "      <td>-0.387727</td>\n",
       "      <td>0.387408</td>\n",
       "      <td>0.118657</td>\n",
       "      <td>1.214169</td>\n",
       "    </tr>\n",
       "    <tr>\n",
       "      <th>4</th>\n",
       "      <td>0.0</td>\n",
       "      <td>0.0</td>\n",
       "      <td>0.0</td>\n",
       "      <td>0.0</td>\n",
       "      <td>0.0</td>\n",
       "      <td>0.0</td>\n",
       "      <td>0.0</td>\n",
       "      <td>0.0</td>\n",
       "      <td>0.0</td>\n",
       "      <td>0.0</td>\n",
       "      <td>...</td>\n",
       "      <td>0.0</td>\n",
       "      <td>0.0</td>\n",
       "      <td>0.0</td>\n",
       "      <td>0.0</td>\n",
       "      <td>0.0</td>\n",
       "      <td>0.0</td>\n",
       "      <td>2.429391</td>\n",
       "      <td>0.841346</td>\n",
       "      <td>1.553420</td>\n",
       "      <td>-0.210110</td>\n",
       "    </tr>\n",
       "    <tr>\n",
       "      <th>...</th>\n",
       "      <td>...</td>\n",
       "      <td>...</td>\n",
       "      <td>...</td>\n",
       "      <td>...</td>\n",
       "      <td>...</td>\n",
       "      <td>...</td>\n",
       "      <td>...</td>\n",
       "      <td>...</td>\n",
       "      <td>...</td>\n",
       "      <td>...</td>\n",
       "      <td>...</td>\n",
       "      <td>...</td>\n",
       "      <td>...</td>\n",
       "      <td>...</td>\n",
       "      <td>...</td>\n",
       "      <td>...</td>\n",
       "      <td>...</td>\n",
       "      <td>...</td>\n",
       "      <td>...</td>\n",
       "      <td>...</td>\n",
       "      <td>...</td>\n",
       "    </tr>\n",
       "    <tr>\n",
       "      <th>6245</th>\n",
       "      <td>0.0</td>\n",
       "      <td>0.0</td>\n",
       "      <td>0.0</td>\n",
       "      <td>0.0</td>\n",
       "      <td>0.0</td>\n",
       "      <td>0.0</td>\n",
       "      <td>0.0</td>\n",
       "      <td>0.0</td>\n",
       "      <td>0.0</td>\n",
       "      <td>0.0</td>\n",
       "      <td>...</td>\n",
       "      <td>0.0</td>\n",
       "      <td>0.0</td>\n",
       "      <td>0.0</td>\n",
       "      <td>0.0</td>\n",
       "      <td>0.0</td>\n",
       "      <td>0.0</td>\n",
       "      <td>0.032404</td>\n",
       "      <td>-0.671779</td>\n",
       "      <td>-0.550477</td>\n",
       "      <td>0.502030</td>\n",
       "    </tr>\n",
       "    <tr>\n",
       "      <th>6246</th>\n",
       "      <td>0.0</td>\n",
       "      <td>0.0</td>\n",
       "      <td>0.0</td>\n",
       "      <td>0.0</td>\n",
       "      <td>0.0</td>\n",
       "      <td>0.0</td>\n",
       "      <td>0.0</td>\n",
       "      <td>0.0</td>\n",
       "      <td>0.0</td>\n",
       "      <td>0.0</td>\n",
       "      <td>...</td>\n",
       "      <td>0.0</td>\n",
       "      <td>0.0</td>\n",
       "      <td>0.0</td>\n",
       "      <td>0.0</td>\n",
       "      <td>0.0</td>\n",
       "      <td>0.0</td>\n",
       "      <td>-1.311685</td>\n",
       "      <td>0.841346</td>\n",
       "      <td>0.921460</td>\n",
       "      <td>1.214169</td>\n",
       "    </tr>\n",
       "    <tr>\n",
       "      <th>6247</th>\n",
       "      <td>0.0</td>\n",
       "      <td>0.0</td>\n",
       "      <td>0.0</td>\n",
       "      <td>0.0</td>\n",
       "      <td>0.0</td>\n",
       "      <td>0.0</td>\n",
       "      <td>0.0</td>\n",
       "      <td>0.0</td>\n",
       "      <td>0.0</td>\n",
       "      <td>1.0</td>\n",
       "      <td>...</td>\n",
       "      <td>0.0</td>\n",
       "      <td>0.0</td>\n",
       "      <td>0.0</td>\n",
       "      <td>0.0</td>\n",
       "      <td>0.0</td>\n",
       "      <td>0.0</td>\n",
       "      <td>0.472202</td>\n",
       "      <td>-2.790154</td>\n",
       "      <td>-0.747421</td>\n",
       "      <td>-0.210110</td>\n",
       "    </tr>\n",
       "    <tr>\n",
       "      <th>6248</th>\n",
       "      <td>0.0</td>\n",
       "      <td>0.0</td>\n",
       "      <td>0.0</td>\n",
       "      <td>0.0</td>\n",
       "      <td>0.0</td>\n",
       "      <td>0.0</td>\n",
       "      <td>0.0</td>\n",
       "      <td>0.0</td>\n",
       "      <td>0.0</td>\n",
       "      <td>0.0</td>\n",
       "      <td>...</td>\n",
       "      <td>0.0</td>\n",
       "      <td>0.0</td>\n",
       "      <td>0.0</td>\n",
       "      <td>0.0</td>\n",
       "      <td>0.0</td>\n",
       "      <td>0.0</td>\n",
       "      <td>2.287413</td>\n",
       "      <td>0.236096</td>\n",
       "      <td>0.221479</td>\n",
       "      <td>-0.210110</td>\n",
       "    </tr>\n",
       "    <tr>\n",
       "      <th>6249</th>\n",
       "      <td>0.0</td>\n",
       "      <td>0.0</td>\n",
       "      <td>0.0</td>\n",
       "      <td>1.0</td>\n",
       "      <td>0.0</td>\n",
       "      <td>0.0</td>\n",
       "      <td>0.0</td>\n",
       "      <td>0.0</td>\n",
       "      <td>0.0</td>\n",
       "      <td>0.0</td>\n",
       "      <td>...</td>\n",
       "      <td>0.0</td>\n",
       "      <td>0.0</td>\n",
       "      <td>0.0</td>\n",
       "      <td>0.0</td>\n",
       "      <td>0.0</td>\n",
       "      <td>0.0</td>\n",
       "      <td>0.447011</td>\n",
       "      <td>0.841346</td>\n",
       "      <td>0.181932</td>\n",
       "      <td>-0.210110</td>\n",
       "    </tr>\n",
       "  </tbody>\n",
       "</table>\n",
       "<p>6250 rows × 2470 columns</p>\n",
       "</div>"
      ],
      "text/plain": [
       "      0     1     2     3     4     5     6     7     8     9     ...  2460  \\\n",
       "0      0.0   0.0   0.0   0.0   0.0   0.0   0.0   1.0   0.0   0.0  ...   0.0   \n",
       "1      0.0   0.0   0.0   0.0   0.0   0.0   0.0   0.0   0.0   0.0  ...   0.0   \n",
       "2      0.0   0.0   0.0   0.0   0.0   0.0   0.0   0.0   0.0   0.0  ...   0.0   \n",
       "3      0.0   0.0   0.0   0.0   0.0   0.0   0.0   0.0   0.0   0.0  ...   0.0   \n",
       "4      0.0   0.0   0.0   0.0   0.0   0.0   0.0   0.0   0.0   0.0  ...   0.0   \n",
       "...    ...   ...   ...   ...   ...   ...   ...   ...   ...   ...  ...   ...   \n",
       "6245   0.0   0.0   0.0   0.0   0.0   0.0   0.0   0.0   0.0   0.0  ...   0.0   \n",
       "6246   0.0   0.0   0.0   0.0   0.0   0.0   0.0   0.0   0.0   0.0  ...   0.0   \n",
       "6247   0.0   0.0   0.0   0.0   0.0   0.0   0.0   0.0   0.0   1.0  ...   0.0   \n",
       "6248   0.0   0.0   0.0   0.0   0.0   0.0   0.0   0.0   0.0   0.0  ...   0.0   \n",
       "6249   0.0   0.0   0.0   1.0   0.0   0.0   0.0   0.0   0.0   0.0  ...   0.0   \n",
       "\n",
       "      2461  2462  2463  2464  2465      2466      2467      2468      2469  \n",
       "0      0.0   0.0   0.0   0.0   0.0  1.081324 -0.520467 -0.680191 -0.922249  \n",
       "1      0.0   0.0   0.0   0.0   0.0  0.069473  0.690033 -0.219074 -0.210110  \n",
       "2      0.0   0.0   0.0   0.0   0.0 -0.589037  0.538721 -0.563132  0.502030  \n",
       "3      0.0   0.0   0.0   0.0   0.0 -0.387727  0.387408  0.118657  1.214169  \n",
       "4      0.0   0.0   0.0   0.0   0.0  2.429391  0.841346  1.553420 -0.210110  \n",
       "...    ...   ...   ...   ...   ...       ...       ...       ...       ...  \n",
       "6245   0.0   0.0   0.0   0.0   0.0  0.032404 -0.671779 -0.550477  0.502030  \n",
       "6246   0.0   0.0   0.0   0.0   0.0 -1.311685  0.841346  0.921460  1.214169  \n",
       "6247   0.0   0.0   0.0   0.0   0.0  0.472202 -2.790154 -0.747421 -0.210110  \n",
       "6248   0.0   0.0   0.0   0.0   0.0  2.287413  0.236096  0.221479 -0.210110  \n",
       "6249   0.0   0.0   0.0   0.0   0.0  0.447011  0.841346  0.181932 -0.210110  \n",
       "\n",
       "[6250 rows x 2470 columns]"
      ]
     },
     "execution_count": 49,
     "metadata": {},
     "output_type": "execute_result"
    }
   ],
   "source": [
    "md_xtrain"
   ]
  },
  {
   "cell_type": "code",
   "execution_count": null,
   "metadata": {},
   "outputs": [],
   "source": []
  },
  {
   "cell_type": "markdown",
   "metadata": {},
   "source": [
    "### Base model Ridge regression"
   ]
  },
  {
   "cell_type": "code",
   "execution_count": 50,
   "metadata": {
    "code_folding": []
   },
   "outputs": [],
   "source": [
    "ridge_pipeline = Pipeline([('preprocess', ct),\n",
    "                      ('model',\n",
    "                       Ridge(random_state = 44))])"
   ]
  },
  {
   "cell_type": "code",
   "execution_count": 51,
   "metadata": {},
   "outputs": [
    {
     "data": {
      "text/plain": [
       "Pipeline(steps=[('preprocess',\n",
       "                 ColumnTransformer(transformers=[('categorical_pipeline',\n",
       "                                                  Pipeline(steps=[('onehotenc',\n",
       "                                                                   OneHotEncoder(handle_unknown='ignore',\n",
       "                                                                                 sparse=False)),\n",
       "                                                                  ('onehotnorm',\n",
       "                                                                   MaxAbsScaler())]),\n",
       "                                                  Index(['Name', 'Status', 'model_details'], dtype='object')),\n",
       "                                                 ('numeric_pipeline',\n",
       "                                                  Pipeline(steps=[('numnorm',\n",
       "                                                                   StandardScaler())]),\n",
       "                                                  Index(['Mileage', 'Rating', 'Rating-Count', 'Year'], dtype='object'))])),\n",
       "                ('model', Ridge(random_state=44))])"
      ]
     },
     "execution_count": 51,
     "metadata": {},
     "output_type": "execute_result"
    }
   ],
   "source": [
    "ridge_pipeline"
   ]
  },
  {
   "cell_type": "markdown",
   "metadata": {},
   "source": [
    "### Fit the model pipeline"
   ]
  },
  {
   "cell_type": "code",
   "execution_count": 52,
   "metadata": {},
   "outputs": [
    {
     "data": {
      "text/plain": [
       "Pipeline(steps=[('preprocess',\n",
       "                 ColumnTransformer(transformers=[('categorical_pipeline',\n",
       "                                                  Pipeline(steps=[('onehotenc',\n",
       "                                                                   OneHotEncoder(handle_unknown='ignore',\n",
       "                                                                                 sparse=False)),\n",
       "                                                                  ('onehotnorm',\n",
       "                                                                   MaxAbsScaler())]),\n",
       "                                                  Index(['Name', 'Status', 'model_details'], dtype='object')),\n",
       "                                                 ('numeric_pipeline',\n",
       "                                                  Pipeline(steps=[('numnorm',\n",
       "                                                                   StandardScaler())]),\n",
       "                                                  Index(['Mileage', 'Rating', 'Rating-Count', 'Year'], dtype='object'))])),\n",
       "                ('model', Ridge(random_state=44))])"
      ]
     },
     "execution_count": 52,
     "metadata": {},
     "output_type": "execute_result"
    }
   ],
   "source": [
    "ridge_pipeline.fit(X_train, y_train)"
   ]
  },
  {
   "cell_type": "code",
   "execution_count": 53,
   "metadata": {},
   "outputs": [],
   "source": [
    "y_pred = ridge_pipeline.predict(X_test)"
   ]
  },
  {
   "cell_type": "code",
   "execution_count": 54,
   "metadata": {},
   "outputs": [
    {
     "data": {
      "text/plain": [
       "0.8732950380390421"
      ]
     },
     "execution_count": 54,
     "metadata": {},
     "output_type": "execute_result"
    }
   ],
   "source": [
    "ridge_pipeline.score(X_test,y_test)"
   ]
  },
  {
   "cell_type": "code",
   "execution_count": 55,
   "metadata": {},
   "outputs": [
    {
     "data": {
      "text/plain": [
       "0.9549554808144894"
      ]
     },
     "execution_count": 55,
     "metadata": {},
     "output_type": "execute_result"
    }
   ],
   "source": [
    "ridge_pipeline.score(X_train,y_train)"
   ]
  },
  {
   "cell_type": "code",
   "execution_count": 56,
   "metadata": {},
   "outputs": [],
   "source": [
    "RMSE = mean_squared_error(y_test, y_pred, squared = False)\n"
   ]
  },
  {
   "cell_type": "code",
   "execution_count": 57,
   "metadata": {},
   "outputs": [
    {
     "data": {
      "text/plain": [
       "11773.116414493952"
      ]
     },
     "execution_count": 57,
     "metadata": {},
     "output_type": "execute_result"
    }
   ],
   "source": [
    "RMSE"
   ]
  },
  {
   "cell_type": "code",
   "execution_count": 58,
   "metadata": {},
   "outputs": [],
   "source": [
    "MSE = mean_squared_error(y_test, y_pred)"
   ]
  },
  {
   "cell_type": "code",
   "execution_count": 59,
   "metadata": {},
   "outputs": [
    {
     "data": {
      "text/plain": [
       "138606270.1092269"
      ]
     },
     "execution_count": 59,
     "metadata": {},
     "output_type": "execute_result"
    }
   ],
   "source": [
    "MSE"
   ]
  },
  {
   "cell_type": "code",
   "execution_count": 60,
   "metadata": {},
   "outputs": [],
   "source": [
    "MAE = mean_absolute_error(y_test, y_pred)"
   ]
  },
  {
   "cell_type": "code",
   "execution_count": 61,
   "metadata": {},
   "outputs": [
    {
     "data": {
      "text/plain": [
       "6422.105265684749"
      ]
     },
     "execution_count": 61,
     "metadata": {},
     "output_type": "execute_result"
    }
   ],
   "source": [
    "MAE"
   ]
  },
  {
   "cell_type": "code",
   "execution_count": 62,
   "metadata": {
    "scrolled": false
   },
   "outputs": [],
   "source": [
    "R2 = r2_score(y_test,y_pred)"
   ]
  },
  {
   "cell_type": "code",
   "execution_count": 63,
   "metadata": {},
   "outputs": [
    {
     "data": {
      "text/plain": [
       "0.8732950380390421"
      ]
     },
     "execution_count": 63,
     "metadata": {},
     "output_type": "execute_result"
    }
   ],
   "source": [
    "R2"
   ]
  },
  {
   "cell_type": "code",
   "execution_count": 84,
   "metadata": {
    "code_folding": []
   },
   "outputs": [
    {
     "name": "stdout",
     "output_type": "stream",
     "text": [
      "Ridge Metrics:\n"
     ]
    },
    {
     "data": {
      "text/html": [
       "<div>\n",
       "<style scoped>\n",
       "    .dataframe tbody tr th:only-of-type {\n",
       "        vertical-align: middle;\n",
       "    }\n",
       "\n",
       "    .dataframe tbody tr th {\n",
       "        vertical-align: top;\n",
       "    }\n",
       "\n",
       "    .dataframe thead th {\n",
       "        text-align: right;\n",
       "    }\n",
       "</style>\n",
       "<table border=\"1\" class=\"dataframe\">\n",
       "  <thead>\n",
       "    <tr style=\"text-align: right;\">\n",
       "      <th></th>\n",
       "      <th>MSE</th>\n",
       "      <th>MAE</th>\n",
       "      <th>RMSE</th>\n",
       "      <th>r2_score</th>\n",
       "    </tr>\n",
       "  </thead>\n",
       "  <tbody>\n",
       "    <tr>\n",
       "      <th>0</th>\n",
       "      <td>138606270.1</td>\n",
       "      <td>6422.1</td>\n",
       "      <td>11773.11</td>\n",
       "      <td>0.87</td>\n",
       "    </tr>\n",
       "  </tbody>\n",
       "</table>\n",
       "</div>"
      ],
      "text/plain": [
       "           MSE     MAE      RMSE  r2_score\n",
       "0  138606270.1  6422.1  11773.11      0.87"
      ]
     },
     "execution_count": 84,
     "metadata": {},
     "output_type": "execute_result"
    }
   ],
   "source": [
    "columns_log = ['MSE', 'MAE', 'RMSE', 'r2_score']\n",
    "\n",
    "\n",
    "\n",
    "MSE_ridge = [138606270.10]\n",
    "MAE_ridge = [6422.10]\n",
    "RMSE_ridge = [11773.11]\n",
    "R2_ridge = [0.87]\n",
    "combined_metrics_log = list(zip( MSE_ridge, MAE_ridge,\n",
    "                                RMSE_ridge, R2_ridge ))\n",
    "compiled_log_df = pd.DataFrame(combined_metrics_log, columns=columns_log)\n",
    "print('Ridge Metrics:')\n",
    "compiled_log_df"
   ]
  },
  {
   "cell_type": "markdown",
   "metadata": {},
   "source": [
    "## Hyperparameter tuning"
   ]
  },
  {
   "cell_type": "code",
   "execution_count": 65,
   "metadata": {},
   "outputs": [
    {
     "data": {
      "text/plain": [
       "dict_keys(['memory', 'steps', 'verbose', 'preprocess', 'model', 'preprocess__n_jobs', 'preprocess__remainder', 'preprocess__sparse_threshold', 'preprocess__transformer_weights', 'preprocess__transformers', 'preprocess__verbose', 'preprocess__categorical_pipeline', 'preprocess__numeric_pipeline', 'preprocess__categorical_pipeline__memory', 'preprocess__categorical_pipeline__steps', 'preprocess__categorical_pipeline__verbose', 'preprocess__categorical_pipeline__onehotenc', 'preprocess__categorical_pipeline__onehotnorm', 'preprocess__categorical_pipeline__onehotenc__categories', 'preprocess__categorical_pipeline__onehotenc__drop', 'preprocess__categorical_pipeline__onehotenc__dtype', 'preprocess__categorical_pipeline__onehotenc__handle_unknown', 'preprocess__categorical_pipeline__onehotenc__sparse', 'preprocess__categorical_pipeline__onehotnorm__copy', 'preprocess__numeric_pipeline__memory', 'preprocess__numeric_pipeline__steps', 'preprocess__numeric_pipeline__verbose', 'preprocess__numeric_pipeline__numnorm', 'preprocess__numeric_pipeline__numnorm__copy', 'preprocess__numeric_pipeline__numnorm__with_mean', 'preprocess__numeric_pipeline__numnorm__with_std', 'model__alpha', 'model__copy_X', 'model__fit_intercept', 'model__max_iter', 'model__normalize', 'model__random_state', 'model__solver', 'model__tol'])"
      ]
     },
     "execution_count": 65,
     "metadata": {},
     "output_type": "execute_result"
    }
   ],
   "source": [
    "ridge_pipeline.get_params().keys()"
   ]
  },
  {
   "cell_type": "code",
   "execution_count": 97,
   "metadata": {},
   "outputs": [],
   "source": [
    "cv = RepeatedKFold(n_splits=10, n_repeats=3, random_state=1)"
   ]
  },
  {
   "cell_type": "code",
   "execution_count": 98,
   "metadata": {},
   "outputs": [],
   "source": [
    "space = dict()\n",
    "space['model__solver'] = ['svd', 'cholesky', 'lsqr', 'sag']\n",
    "space['model__alpha'] = [1e-5, 1e-4, 1e-3, 1e-2, 1e-1, 1, 10, 100]\n",
    "space['model__fit_intercept'] = [True, False]\n",
    "space['model__normalize'] = [True, False]\n",
    "\n",
    "\n",
    "\n",
    "clf = GridSearchCV(ridge_pipeline,space, scoring='r2', n_jobs=-1, cv=5)"
   ]
  },
  {
   "cell_type": "code",
   "execution_count": 99,
   "metadata": {
    "scrolled": false
   },
   "outputs": [
    {
     "name": "stderr",
     "output_type": "stream",
     "text": [
      "/Users/karankurdia/opt/anaconda3/envs/learn-env/lib/python3.8/site-packages/joblib/externals/loky/process_executor.py:688: UserWarning: A worker stopped while some jobs were given to the executor. This can be caused by a too short worker timeout or by a memory leak.\n",
      "  warnings.warn(\n"
     ]
    }
   ],
   "source": [
    "result = clf.fit(X_train, y_train)\n"
   ]
  },
  {
   "cell_type": "code",
   "execution_count": null,
   "metadata": {},
   "outputs": [],
   "source": []
  },
  {
   "cell_type": "code",
   "execution_count": 100,
   "metadata": {},
   "outputs": [
    {
     "data": {
      "text/plain": [
       "0.8482118952899917"
      ]
     },
     "execution_count": 100,
     "metadata": {},
     "output_type": "execute_result"
    }
   ],
   "source": [
    "result.best_score_"
   ]
  },
  {
   "cell_type": "code",
   "execution_count": 101,
   "metadata": {},
   "outputs": [
    {
     "name": "stdout",
     "output_type": "stream",
     "text": [
      "Best Score: 0.8482118952899917\n",
      "Best Hyperparameters: {'model__alpha': 0.1, 'model__fit_intercept': False, 'model__normalize': True, 'model__solver': 'sag'}\n"
     ]
    }
   ],
   "source": [
    "print('Best Score: %s' % result.best_score_)\n",
    "print('Best Hyperparameters: %s' % result.best_params_)"
   ]
  },
  {
   "cell_type": "markdown",
   "metadata": {},
   "source": [
    "### Getting the best model"
   ]
  },
  {
   "cell_type": "code",
   "execution_count": 102,
   "metadata": {},
   "outputs": [
    {
     "data": {
      "text/plain": [
       "Pipeline(steps=[('preprocess',\n",
       "                 ColumnTransformer(transformers=[('categorical_pipeline',\n",
       "                                                  Pipeline(steps=[('onehotenc',\n",
       "                                                                   OneHotEncoder(handle_unknown='ignore',\n",
       "                                                                                 sparse=False)),\n",
       "                                                                  ('onehotnorm',\n",
       "                                                                   MaxAbsScaler())]),\n",
       "                                                  Index(['Name', 'Status', 'model_details'], dtype='object')),\n",
       "                                                 ('numeric_pipeline',\n",
       "                                                  Pipeline(steps=[('numnorm',\n",
       "                                                                   StandardScaler())]),\n",
       "                                                  Index(['Mileage', 'Rating', 'Rating-Count', 'Year'], dtype='object'))])),\n",
       "                ('model',\n",
       "                 Ridge(alpha=0.1, fit_intercept=False, normalize=True,\n",
       "                       random_state=44, solver='sag'))])"
      ]
     },
     "execution_count": 102,
     "metadata": {},
     "output_type": "execute_result"
    }
   ],
   "source": [
    "best_model = result.best_estimator_\n",
    "best_model"
   ]
  },
  {
   "cell_type": "code",
   "execution_count": 103,
   "metadata": {},
   "outputs": [],
   "source": [
    "y_pred_1 = best_model.predict(X_test)"
   ]
  },
  {
   "cell_type": "code",
   "execution_count": null,
   "metadata": {},
   "outputs": [],
   "source": []
  },
  {
   "cell_type": "code",
   "execution_count": 104,
   "metadata": {},
   "outputs": [],
   "source": [
    "RMSE = mean_squared_error(y_test, y_pred_1, squared = False)"
   ]
  },
  {
   "cell_type": "code",
   "execution_count": 105,
   "metadata": {},
   "outputs": [
    {
     "data": {
      "text/plain": [
       "11013.077603082347"
      ]
     },
     "execution_count": 105,
     "metadata": {},
     "output_type": "execute_result"
    }
   ],
   "source": [
    "RMSE"
   ]
  },
  {
   "cell_type": "code",
   "execution_count": 106,
   "metadata": {},
   "outputs": [],
   "source": [
    "MSE = mean_squared_error(y_test, y_pred_1)"
   ]
  },
  {
   "cell_type": "code",
   "execution_count": 107,
   "metadata": {},
   "outputs": [
    {
     "data": {
      "text/plain": [
       "121287878.29151402"
      ]
     },
     "execution_count": 107,
     "metadata": {},
     "output_type": "execute_result"
    }
   ],
   "source": [
    "MSE"
   ]
  },
  {
   "cell_type": "code",
   "execution_count": 108,
   "metadata": {},
   "outputs": [],
   "source": [
    "MAE = mean_absolute_error(y_test, y_pred_1)"
   ]
  },
  {
   "cell_type": "code",
   "execution_count": 109,
   "metadata": {},
   "outputs": [
    {
     "data": {
      "text/plain": [
       "5281.402535275492"
      ]
     },
     "execution_count": 109,
     "metadata": {},
     "output_type": "execute_result"
    }
   ],
   "source": [
    "MAE"
   ]
  },
  {
   "cell_type": "code",
   "execution_count": 110,
   "metadata": {},
   "outputs": [],
   "source": [
    "R2 = r2_score(y_test,y_pred_1)"
   ]
  },
  {
   "cell_type": "code",
   "execution_count": 111,
   "metadata": {},
   "outputs": [
    {
     "data": {
      "text/plain": [
       "0.8891264010413006"
      ]
     },
     "execution_count": 111,
     "metadata": {},
     "output_type": "execute_result"
    }
   ],
   "source": [
    "R2"
   ]
  },
  {
   "cell_type": "code",
   "execution_count": 112,
   "metadata": {},
   "outputs": [
    {
     "name": "stdout",
     "output_type": "stream",
     "text": [
      "Ridge Metrics:\n"
     ]
    },
    {
     "data": {
      "text/html": [
       "<div>\n",
       "<style scoped>\n",
       "    .dataframe tbody tr th:only-of-type {\n",
       "        vertical-align: middle;\n",
       "    }\n",
       "\n",
       "    .dataframe tbody tr th {\n",
       "        vertical-align: top;\n",
       "    }\n",
       "\n",
       "    .dataframe thead th {\n",
       "        text-align: right;\n",
       "    }\n",
       "</style>\n",
       "<table border=\"1\" class=\"dataframe\">\n",
       "  <thead>\n",
       "    <tr style=\"text-align: right;\">\n",
       "      <th></th>\n",
       "      <th>MSE</th>\n",
       "      <th>MAE</th>\n",
       "      <th>RMSE</th>\n",
       "      <th>r2_score</th>\n",
       "    </tr>\n",
       "  </thead>\n",
       "  <tbody>\n",
       "    <tr>\n",
       "      <th>0</th>\n",
       "      <td>121287878.2</td>\n",
       "      <td>5281.4</td>\n",
       "      <td>11013.077</td>\n",
       "      <td>0.889</td>\n",
       "    </tr>\n",
       "  </tbody>\n",
       "</table>\n",
       "</div>"
      ],
      "text/plain": [
       "           MSE     MAE       RMSE  r2_score\n",
       "0  121287878.2  5281.4  11013.077     0.889"
      ]
     },
     "execution_count": 112,
     "metadata": {},
     "output_type": "execute_result"
    }
   ],
   "source": [
    "columns_log = ['MSE', 'MAE', 'RMSE', 'r2_score']\n",
    "\n",
    "\n",
    "\n",
    "MSE_ridge = [121287878.2]\n",
    "MAE_ridge = [5281.40]\n",
    "RMSE_ridge = [11013.077]\n",
    "R2_ridge = [0.889]\n",
    "combined_metrics_log = list(zip( MSE_ridge, MAE_ridge,\n",
    "                                RMSE_ridge, R2_ridge ))\n",
    "compiled_log_df = pd.DataFrame(combined_metrics_log, columns=columns_log)\n",
    "print('Ridge Metrics:')\n",
    "compiled_log_df"
   ]
  },
  {
   "cell_type": "code",
   "execution_count": null,
   "metadata": {},
   "outputs": [],
   "source": []
  },
  {
   "cell_type": "code",
   "execution_count": null,
   "metadata": {},
   "outputs": [],
   "source": []
  }
 ],
 "metadata": {
  "kernelspec": {
   "display_name": "Python 3",
   "language": "python",
   "name": "python3"
  },
  "language_info": {
   "codemirror_mode": {
    "name": "ipython",
    "version": 3
   },
   "file_extension": ".py",
   "mimetype": "text/x-python",
   "name": "python",
   "nbconvert_exporter": "python",
   "pygments_lexer": "ipython3",
   "version": "3.8.5"
  }
 },
 "nbformat": 4,
 "nbformat_minor": 4
}
